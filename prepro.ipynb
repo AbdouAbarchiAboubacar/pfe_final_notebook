{
 "cells": [
  {
   "cell_type": "code",
   "execution_count": null,
   "metadata": {},
   "outputs": [],
   "source": [
    "# Load Packages\n",
    "import numpy as np\n",
    "import pandas as pd\n",
    "from sklearn.preprocessing import LabelEncoder\n",
    "import pickle"
   ]
  },
  {
   "cell_type": "code",
   "execution_count": null,
   "metadata": {},
   "outputs": [],
   "source": [
    "# Load dataset\n",
    "initial_data = pd.read_csv('./data/algebra_2005_2006_train.txt', delimiter = \"\\t\")\n",
    "print(initial_data.shape)\n",
    "initial_data.head()"
   ]
  },
  {
   "cell_type": "code",
   "execution_count": null,
   "metadata": {},
   "outputs": [],
   "source": [
    "# rename some columns\n",
    "initial_data = initial_data.rename(columns={'Anon Student Id': 'user_id','Problem Name': 'item_id','Step Name': 'step_id','KC(Default)': 'kc_id','First Transaction Time': 'timestamp','Correct First Attempt': 'correct',\"Hints\":'nb_hint','Incorrects':'incorrect','Corrects':'incorrect_?'})\n",
    "needed = initial_data[[\"user_id\",\"item_id\",\"timestamp\",\"correct\",\"nb_hint\"]]"
   ]
  },
  {
   "cell_type": "code",
   "execution_count": null,
   "metadata": {},
   "outputs": [],
   "source": [
    "needed['timestamp'] = pd.to_datetime(needed['timestamp']).map(lambda t: t.timestamp()).round().astype(np.int32)\n",
    "\n",
    "# Conservez uniquement les utilisateurs avec au moins 10 interactions\n",
    "needed = needed.groupby(\"user_id\").filter(lambda x: len(x) >= 10)\n",
    "\n",
    "# Supprimer les entrées où le résultat n'est pas binaire mais continu\n",
    "needed = needed[needed.correct.isin([0, 1])]\n",
    "needed['correct'] = needed['correct'].astype(np.int32)\n",
    "\n",
    "# Trier la colonne \"timestamp\" et changer le nom de la colonne\n",
    "needed = needed.sort_values('timestamp')\n",
    "print(needed.shape)\n",
    "needed.head()"
   ]
  },
  {
   "cell_type": "code",
   "execution_count": null,
   "metadata": {},
   "outputs": [],
   "source": [
    "# Encodage de la colonne user_id et item_id\n",
    "userId_encoder = LabelEncoder()\n",
    "itemId_encoder = LabelEncoder()\n",
    "\n",
    "needed[\"user_id\"] = userId_encoder.fit_transform(needed[\"user_id\"])\n",
    "needed[\"item_id\"] = itemId_encoder.fit_transform(needed[\"item_id\"])\n",
    "\n",
    "# Save user_id and item_id encoder\n",
    "####\n",
    "outputUserInEncoder = open('userId_encoder.pkl', 'wb')\n",
    "pickle.dump(userId_encoder, outputUserInEncoder)\n",
    "outputUserInEncoder.close()\n",
    "####\n",
    "outputItemInEncoder = open('itemId_encoder.pkl', 'wb')\n",
    "pickle.dump(itemId_encoder, outputItemInEncoder)\n",
    "outputItemInEncoder.close()"
   ]
  },
  {
   "cell_type": "code",
   "execution_count": null,
   "metadata": {},
   "outputs": [],
   "source": [
    "# replace user_id and item_id where id == 0 , Pour eviter d'avoir un probleme avec le modèle IRT\n",
    "needed[\"user_id\"].replace(0,len(needed['user_id'].unique()),inplace=True)\n",
    "needed[\"item_id\"].replace(0,len(needed['item_id'].unique()),inplace=True)"
   ]
  },
  {
   "cell_type": "code",
   "execution_count": null,
   "metadata": {},
   "outputs": [],
   "source": [
    "# Création de la colonne « answers_using_hint » pour éviter d’avoir des problèmes avec le modèle IRT.\n",
    "conditions = [\n",
    "    (needed['correct'] == 1) & (needed['nb_hint'] > 0),  # 1 ==> Correct avec hint\n",
    "    (needed['correct'] == 1) & (needed['nb_hint'] == 0), # 2 ==> Correct sans hint\n",
    "    (needed['correct'] == 0) & (needed['nb_hint'] > 0),  # 3 ==> Incorrect avec hint\n",
    "    (needed['correct'] == 0) & (needed['nb_hint'] == 0)  # 4 ==> Incorrect sans hint\n",
    "    ]\n",
    "    \n",
    "values = [1, 2, 3, 4]\n",
    "\n",
    "# create a new column and use np.select to assign values to it using our lists as arguments\n",
    "needed['answers_using_hint'] = np.select(conditions, values)\n",
    "needed.head()"
   ]
  }
 ],
 "metadata": {
  "kernelspec": {
   "display_name": "Python 3",
   "language": "python",
   "name": "python3"
  },
  "language_info": {
   "codemirror_mode": {
    "name": "ipython",
    "version": 3
   },
   "file_extension": ".py",
   "mimetype": "text/x-python",
   "name": "python",
   "nbconvert_exporter": "python",
   "pygments_lexer": "ipython3",
   "version": "3.8.5"
  }
 },
 "nbformat": 4,
 "nbformat_minor": 2
}