{
 "cells": [
  {
   "cell_type": "code",
   "execution_count": 1,
   "metadata": {},
   "outputs": [],
   "source": [
    "import pandas as pd\n",
    "from pprint import pprint\n",
    "import stan\n",
    "from scipy.special import expit\n",
    "from matplotlib import pyplot as plt\n",
    "from numpy.random import normal, randint, binomial, choice\n",
    "from numpy import percentile, concatenate, array, linspace, append\n",
    "import numpy as np \n",
    "import seaborn as sns\n",
    "from sklearn.preprocessing import LabelEncoder\n",
    "from sklearn.metrics import cohen_kappa_score\n",
    "from sklearn.metrics import mean_squared_error,mean_absolute_error\n",
    "import pickle\n",
    "import nest_asyncio\n",
    "nest_asyncio.apply()\n",
    "from sklearn.metrics import roc_auc_score, accuracy_score, log_loss"
   ]
  },
  {
   "cell_type": "code",
   "execution_count": 2,
   "metadata": {},
   "outputs": [
    {
     "name": "stdout",
     "output_type": "stream",
     "text": [
      "(809660, 6)\n"
     ]
    },
    {
     "data": {
      "text/html": [
       "<div>\n",
       "<style scoped>\n",
       "    .dataframe tbody tr th:only-of-type {\n",
       "        vertical-align: middle;\n",
       "    }\n",
       "\n",
       "    .dataframe tbody tr th {\n",
       "        vertical-align: top;\n",
       "    }\n",
       "\n",
       "    .dataframe thead th {\n",
       "        text-align: right;\n",
       "    }\n",
       "</style>\n",
       "<table border=\"1\" class=\"dataframe\">\n",
       "  <thead>\n",
       "    <tr style=\"text-align: right;\">\n",
       "      <th></th>\n",
       "      <th>user_id</th>\n",
       "      <th>item_id</th>\n",
       "      <th>timestamp</th>\n",
       "      <th>correct</th>\n",
       "      <th>nb_hint</th>\n",
       "      <th>answers_using_hint</th>\n",
       "    </tr>\n",
       "  </thead>\n",
       "  <tbody>\n",
       "    <tr>\n",
       "      <th>535958</th>\n",
       "      <td>72</td>\n",
       "      <td>563</td>\n",
       "      <td>1125395408</td>\n",
       "      <td>0</td>\n",
       "      <td>0</td>\n",
       "      <td>4</td>\n",
       "    </tr>\n",
       "    <tr>\n",
       "      <th>562642</th>\n",
       "      <td>247</td>\n",
       "      <td>563</td>\n",
       "      <td>1125395410</td>\n",
       "      <td>1</td>\n",
       "      <td>0</td>\n",
       "      <td>2</td>\n",
       "    </tr>\n",
       "    <tr>\n",
       "      <th>569598</th>\n",
       "      <td>249</td>\n",
       "      <td>563</td>\n",
       "      <td>1125395414</td>\n",
       "      <td>1</td>\n",
       "      <td>0</td>\n",
       "      <td>2</td>\n",
       "    </tr>\n",
       "    <tr>\n",
       "      <th>555691</th>\n",
       "      <td>212</td>\n",
       "      <td>563</td>\n",
       "      <td>1125395416</td>\n",
       "      <td>1</td>\n",
       "      <td>0</td>\n",
       "      <td>2</td>\n",
       "    </tr>\n",
       "    <tr>\n",
       "      <th>545705</th>\n",
       "      <td>154</td>\n",
       "      <td>563</td>\n",
       "      <td>1125395419</td>\n",
       "      <td>0</td>\n",
       "      <td>0</td>\n",
       "      <td>4</td>\n",
       "    </tr>\n",
       "  </tbody>\n",
       "</table>\n",
       "</div>"
      ],
      "text/plain": [
       "        user_id  item_id   timestamp  correct  nb_hint  answers_using_hint\n",
       "535958       72      563  1125395408        0        0                   4\n",
       "562642      247      563  1125395410        1        0                   2\n",
       "569598      249      563  1125395414        1        0                   2\n",
       "555691      212      563  1125395416        1        0                   2\n",
       "545705      154      563  1125395419        0        0                   4"
      ]
     },
     "execution_count": 2,
     "metadata": {},
     "output_type": "execute_result"
    }
   ],
   "source": [
    "neededData = pd.read_csv('./data/neededData.csv')\n",
    "print(neededData.shape)\n",
    "neededData.head()"
   ]
  },
  {
   "cell_type": "code",
   "execution_count": 3,
   "metadata": {},
   "outputs": [
    {
     "data": {
      "text/html": [
       "<div>\n",
       "<style scoped>\n",
       "    .dataframe tbody tr th:only-of-type {\n",
       "        vertical-align: middle;\n",
       "    }\n",
       "\n",
       "    .dataframe tbody tr th {\n",
       "        vertical-align: top;\n",
       "    }\n",
       "\n",
       "    .dataframe thead th {\n",
       "        text-align: right;\n",
       "    }\n",
       "</style>\n",
       "<table border=\"1\" class=\"dataframe\">\n",
       "  <thead>\n",
       "    <tr style=\"text-align: right;\">\n",
       "      <th></th>\n",
       "      <th>user_id</th>\n",
       "      <th>item_id</th>\n",
       "      <th>correct</th>\n",
       "    </tr>\n",
       "  </thead>\n",
       "  <tbody>\n",
       "    <tr>\n",
       "      <th>535958</th>\n",
       "      <td>72</td>\n",
       "      <td>563</td>\n",
       "      <td>0</td>\n",
       "    </tr>\n",
       "    <tr>\n",
       "      <th>562642</th>\n",
       "      <td>247</td>\n",
       "      <td>563</td>\n",
       "      <td>1</td>\n",
       "    </tr>\n",
       "    <tr>\n",
       "      <th>569598</th>\n",
       "      <td>249</td>\n",
       "      <td>563</td>\n",
       "      <td>1</td>\n",
       "    </tr>\n",
       "    <tr>\n",
       "      <th>555691</th>\n",
       "      <td>212</td>\n",
       "      <td>563</td>\n",
       "      <td>1</td>\n",
       "    </tr>\n",
       "    <tr>\n",
       "      <th>545705</th>\n",
       "      <td>154</td>\n",
       "      <td>563</td>\n",
       "      <td>0</td>\n",
       "    </tr>\n",
       "  </tbody>\n",
       "</table>\n",
       "</div>"
      ],
      "text/plain": [
       "        user_id  item_id  correct\n",
       "535958       72      563        0\n",
       "562642      247      563        1\n",
       "569598      249      563        1\n",
       "555691      212      563        1\n",
       "545705      154      563        0"
      ]
     },
     "execution_count": 3,
     "metadata": {},
     "output_type": "execute_result"
    }
   ],
   "source": [
    "needed = neededData[[\"user_id\",\"item_id\",\"correct\"]]\n",
    "needed.head()"
   ]
  },
  {
   "cell_type": "markdown",
   "metadata": {},
   "source": [
    "# IRT Models"
   ]
  },
  {
   "cell_type": "code",
   "execution_count": 4,
   "metadata": {},
   "outputs": [],
   "source": [
    "# From stan documentation\n",
    "_1pl_model = \"\"\"\n",
    "data {\n",
    "  // numbers of things\n",
    "  \n",
    "  int<lower=1> N;  // number of observations\n",
    "  int<lower=1> I;  // items,  number of questions  \n",
    "  int<lower=1> S;  // subjects,  number of users\n",
    "  \n",
    "  // data\n",
    "  \n",
    "  int<lower=1,upper=I> item[N];\n",
    "  int<lower=1,upper=S> subject[N];\n",
    "  int<lower=0,upper=1> grade[N];\n",
    "}\n",
    "parameters {\n",
    "  // parameters\n",
    "  \n",
    "  real ability[S];             //  alpha: ability od student\n",
    "  real difficulty[I];          //  beta: difficulty of question\n",
    "  real delta;                   // man student ability\n",
    "  \n",
    "}\n",
    "model {\n",
    "\n",
    "  ability ~ std_normal();         \n",
    "  difficulty ~ std_normal();   \n",
    "  delta ~ normal(0.75,1);\n",
    "  \n",
    "  for(n in 1:N)\n",
    "      grade[n] ~ bernoulli_logit(ability[subject[n]] - difficulty[item[n]] + delta);\n",
    "  \n",
    "}\n",
    "\"\"\"\n",
    "# 2pl\n",
    "_2pl_model = \"\"\"\n",
    "data {\n",
    "  // numbers of things\n",
    "  \n",
    "  int<lower=1> N;  // number of observations\n",
    "  int<lower=1> I;  // items,  number of questions  \n",
    "  int<lower=1> S;  // subjects,  number of users\n",
    "  \n",
    "  // data\n",
    "  \n",
    "  int<lower=1,upper=I> item[N];\n",
    "  int<lower=1,upper=S> subject[N];\n",
    "  int<lower=0,upper=1> grade[N];\n",
    "}\n",
    "parameters {\n",
    "  // parameters\n",
    "  \n",
    "  vector[S] ability;             //  alpha ability od student\n",
    "  vector[I] difficulty;          //  beta difficulty of question\n",
    "  vector<lower=0>[I] discrimination;      // discrimination of question\n",
    "  real mu_difficulty;\n",
    "}\n",
    "model {\n",
    "  ability ~ std_normal();         \n",
    "  difficulty ~ std_normal();   \n",
    "  discrimination ~ lognormal(0,1);\n",
    "  mu_difficulty ~ cauchy(0,5);\n",
    "  \n",
    "  grade ~ bernoulli_logit(discrimination[item] .* (ability[subject] - (difficulty[item] + mu_difficulty)));\n",
    "  \n",
    "}\n",
    "\"\"\"\n",
    "# Model from Stan documantation\n",
    "multilevel_2pl_model = \"\"\"\n",
    "data {\n",
    "  // numbers of things\n",
    "  \n",
    "  int<lower=1> N;  // number of observations\n",
    "  int<lower=1> I;  // items,  number of questions  \n",
    "  int<lower=1> S;  // subjects,  number of users\n",
    "  \n",
    "  // data\n",
    "  \n",
    "  int<lower=1,upper=I> item[N];\n",
    "  int<lower=1,upper=S> subject[N];\n",
    "  int<lower=0,upper=1> grade[N];\n",
    "}\n",
    "parameters {\n",
    "  // parameters\n",
    "  \n",
    "  vector[S] ability;             //  alpha ability od student\n",
    "  vector[I] difficulty;          //  beta difficulty of question\n",
    "  vector<lower=0>[I] discrimination;      // discrimination of question\n",
    "  \n",
    "  // hyperparameters\n",
    "  \n",
    "  real mu_difficulty;                       // mean question difficulty\n",
    "  real<lower=0> sigma_difficulty;           // scale of difficulty\n",
    "  real<lower=0> sigma_discrimination;                // scale of log discrimination\n",
    "}\n",
    "model {\n",
    "  ability ~ std_normal();         \n",
    "  difficulty ~ normal(0,sigma_difficulty);   \n",
    "  discrimination ~ lognormal(0,sigma_discrimination);\n",
    "  \n",
    "  mu_difficulty ~ cauchy(0,5);\n",
    "  sigma_difficulty ~ cauchy(0,5);\n",
    "  sigma_discrimination ~ cauchy(0,5);\n",
    "  \n",
    "  grade ~ bernoulli_logit(discrimination[item] .* (ability[subject] - (difficulty[item] + mu_difficulty)));\n",
    "  \n",
    "}\n",
    "\n",
    "generated quantities {\n",
    "  int<lower=0,upper=1> y_pred[N];\n",
    "  for(n in 1:N)\n",
    "      y_pred[n] = bernoulli_logit_rgn(discrimination[item[n]] * (ability[subject[n]] - (difficulty[item[n]] + mu_difficulty)));\n",
    "}\n",
    "\n",
    "\"\"\""
   ]
  },
  {
   "cell_type": "code",
   "execution_count": 5,
   "metadata": {},
   "outputs": [
    {
     "name": "stdout",
     "output_type": "stream",
     "text": [
      "{'I': 1084,\n",
      " 'N': 809660,\n",
      " 'S': 569,\n",
      " 'grade': array([0, 1, 1, ..., 1, 1, 1]),\n",
      " 'item': array([563, 563, 563, ..., 482, 482, 482]),\n",
      " 'subject': array([ 72, 247, 249, ..., 392, 392, 392])}\n"
     ]
    }
   ],
   "source": [
    "train_data = {'I': len(needed['item_id'].unique()),\n",
    "              'S': len(needed['user_id'].unique()),\n",
    "              'N': len(needed),\n",
    "              'item': needed['item_id'].to_numpy(),\n",
    "              'subject': needed['user_id'].to_numpy(),\n",
    "              'grade': needed['correct'].to_numpy(),}\n",
    "pprint(train_data)"
   ]
  },
  {
   "cell_type": "code",
   "execution_count": 6,
   "metadata": {},
   "outputs": [
    {
     "name": "stdout",
     "output_type": "stream",
     "text": [
      "Building...\n"
     ]
    },
    {
     "name": "stderr",
     "output_type": "stream",
     "text": [
      "\n",
      "Building: found in cache, done."
     ]
    }
   ],
   "source": [
    "posteriori = stan.build(_1pl_model,data=train_data,random_seed=2021)"
   ]
  },
  {
   "cell_type": "code",
   "execution_count": null,
   "metadata": {
    "scrolled": true
   },
   "outputs": [
    {
     "name": "stderr",
     "output_type": "stream",
     "text": [
      "Sampling:   0%\n",
      "Sampling:   0% (1/102000)\n",
      "Sampling:   0% (2/102000)\n",
      "Sampling:   0% (101/102000)\n",
      "Sampling:   0% (200/102000)\n",
      "Sampling:   0% (300/102000)\n",
      "Sampling:   0% (400/102000)"
     ]
    }
   ],
   "source": [
    "# fit model\n",
    "binary_fit = posteriori.sample(num_chains=2, num_samples=50000,num_warmup=1000,num_thin=1)"
   ]
  },
  {
   "cell_type": "code",
   "execution_count": 10,
   "metadata": {},
   "outputs": [
    {
     "name": "stdout",
     "output_type": "stream",
     "text": [
      "<stan.Fit>\n",
      "Parameters:\n",
      "    ability: (569,)\n",
      "    difficulty: (1084,)\n",
      "    discrimination: (1084,)\n",
      "    mu_difficulty: ()\n",
      "Draws: 8000\n"
     ]
    }
   ],
   "source": [
    "# print fit summary\n",
    "print(binary_fit)"
   ]
  },
  {
   "cell_type": "code",
   "execution_count": null,
   "metadata": {},
   "outputs": [],
   "source": []
  },
  {
   "cell_type": "code",
   "execution_count": 10,
   "metadata": {},
   "outputs": [
    {
     "ename": "AttributeError",
     "evalue": "'Fit' object has no attribute 'plot'",
     "output_type": "error",
     "traceback": [
      "\u001b[0;31m---------------------------------------------------------------------------\u001b[0m",
      "\u001b[0;31mAttributeError\u001b[0m                            Traceback (most recent call last)",
      "\u001b[0;32m<ipython-input-10-4aa5d1648edc>\u001b[0m in \u001b[0;36m<module>\u001b[0;34m\u001b[0m\n\u001b[1;32m      1\u001b[0m \u001b[0;31m# draw summary plot\u001b[0m\u001b[0;34m\u001b[0m\u001b[0;34m\u001b[0m\u001b[0;34m\u001b[0m\u001b[0m\n\u001b[0;32m----> 2\u001b[0;31m \u001b[0mf\u001b[0m \u001b[0;34m=\u001b[0m \u001b[0mbinary_fit\u001b[0m\u001b[0;34m.\u001b[0m\u001b[0mplot\u001b[0m\u001b[0;34m(\u001b[0m\u001b[0;34m)\u001b[0m\u001b[0;34m\u001b[0m\u001b[0;34m\u001b[0m\u001b[0m\n\u001b[0m\u001b[1;32m      3\u001b[0m \u001b[0mf\u001b[0m\u001b[0;34m.\u001b[0m\u001b[0mset_size_inches\u001b[0m\u001b[0;34m(\u001b[0m\u001b[0;36m18\u001b[0m\u001b[0;34m,\u001b[0m \u001b[0;36m10\u001b[0m\u001b[0;34m)\u001b[0m\u001b[0;34m\u001b[0m\u001b[0;34m\u001b[0m\u001b[0m\n\u001b[1;32m      4\u001b[0m \u001b[0mplt\u001b[0m\u001b[0;34m.\u001b[0m\u001b[0mtight_layout\u001b[0m\u001b[0;34m(\u001b[0m\u001b[0;34m)\u001b[0m\u001b[0;34m\u001b[0m\u001b[0;34m\u001b[0m\u001b[0m\n\u001b[1;32m      5\u001b[0m \u001b[0;31m# On obtient donc \"Item Information Functions\"\u001b[0m\u001b[0;34m\u001b[0m\u001b[0;34m\u001b[0m\u001b[0;34m\u001b[0m\u001b[0m\n",
      "\u001b[0;31mAttributeError\u001b[0m: 'Fit' object has no attribute 'plot'"
     ]
    }
   ],
   "source": [
    "# draw summary plot\n",
    "f = binary_fit.plot()\n",
    "f.set_size_inches(18, 10)\n",
    "plt.tight_layout()\n",
    "# On obtient donc \"Item Information Functions\""
   ]
  },
  {
   "cell_type": "markdown",
   "metadata": {},
   "source": [
    "# Export IRT Model"
   ]
  },
  {
   "cell_type": "code",
   "execution_count": 14,
   "metadata": {},
   "outputs": [],
   "source": [
    "with open(\"./data/_1pl_model_chains-2_numsamples-10000_numwarmup-1000_num_thin-1.pkl\", \"wb\") as f:\n",
    "    pickle.dump({'model' : posteriori, 'fit' : binary_fit}, f, protocol=-1)"
   ]
  },
  {
   "cell_type": "markdown",
   "metadata": {},
   "source": [
    "# import IRT Model"
   ]
  },
  {
   "cell_type": "code",
   "execution_count": 7,
   "metadata": {},
   "outputs": [
    {
     "data": {
      "text/plain": [
       "<stan.Fit>\n",
       "Parameters:\n",
       "    ability: (569,)\n",
       "    difficulty: (1084,)\n",
       "    delta: ()\n",
       "Draws: 20000"
      ]
     },
     "execution_count": 7,
     "metadata": {},
     "output_type": "execute_result"
    }
   ],
   "source": [
    "with open(\"./data/_1pl_model_chains-2_numsamples-10000_numwarmup-1000_num_thin-1.pkl\", \"rb\") as f:\n",
    "    data_dict = pickle.load(f)\n",
    "fit = data_dict['fit']\n",
    "fit"
   ]
  },
  {
   "cell_type": "code",
   "execution_count": 8,
   "metadata": {},
   "outputs": [],
   "source": [
    "ability = np.mean(fit['ability'],axis=1)\n",
    "difficulty = np.mean(fit['difficulty'],axis=1)\n",
    "#discrimination = np.mean(binary_fit['discrimination'],axis=1)"
   ]
  },
  {
   "cell_type": "code",
   "execution_count": 10,
   "metadata": {},
   "outputs": [
    {
     "data": {
      "text/plain": [
       "array([0, 0, 1, ..., 0, 0, 0])"
      ]
     },
     "execution_count": 10,
     "metadata": {},
     "output_type": "execute_result"
    }
   ],
   "source": [
    "y_pred = []\n",
    "for i in range(0,809660):\n",
    "    diff = train_data['item'][i]\n",
    "    abilt = train_data['subject'][i]\n",
    "    p = np.exp(ability[abilt - 1 ] - difficulty[diff - 1])/(1+np.exp(ability[abilt - 1] - difficulty[diff - 1]))\n",
    "    y_pred.append(p)\n",
    "y_pred = np.round(y_pred).astype(int)\n",
    "y_pred"
   ]
  },
  {
   "cell_type": "code",
   "execution_count": 11,
   "metadata": {},
   "outputs": [
    {
     "data": {
      "text/plain": [
       "array([0, 1])"
      ]
     },
     "execution_count": 11,
     "metadata": {},
     "output_type": "execute_result"
    }
   ],
   "source": [
    "np.unique(y_pred)"
   ]
  },
  {
   "cell_type": "code",
   "execution_count": 12,
   "metadata": {},
   "outputs": [
    {
     "data": {
      "text/plain": [
       "0.42118914112096434"
      ]
     },
     "execution_count": 12,
     "metadata": {},
     "output_type": "execute_result"
    }
   ],
   "source": [
    "mse = mean_squared_error(train_data['grade'],y_pred)\n",
    "mse"
   ]
  },
  {
   "cell_type": "code",
   "execution_count": 13,
   "metadata": {},
   "outputs": [
    {
     "data": {
      "text/plain": [
       "0.15877255234989252"
      ]
     },
     "execution_count": 13,
     "metadata": {},
     "output_type": "execute_result"
    }
   ],
   "source": [
    "x = cohen_kappa_score(train_data['grade'],y_pred)\n",
    "x"
   ]
  },
  {
   "cell_type": "code",
   "execution_count": 23,
   "metadata": {},
   "outputs": [
    {
     "data": {
      "text/plain": [
       "<AxesSubplot:>"
      ]
     },
     "execution_count": 23,
     "metadata": {},
     "output_type": "execute_result"
    },
    {
     "data": {
      "image/png": "[encoded data removed]",
      "text/plain": [
       "<Figure size 432x288 with 2 Axes>"
      ]
     },
     "metadata": {
      "needs_background": "light"
     },
     "output_type": "display_data"
    }
   ],
   "source": [
    "from sklearn.metrics import confusion_matrix\n",
    "fm = confusion_matrix(train_data['grade'],y_pred)\n",
    "sns.heatmap(fm, annot=True, annot_kws={\"size\": 16}) # font size"
   ]
  },
  {
   "cell_type": "code",
   "execution_count": 14,
   "metadata": {},
   "outputs": [],
   "source": []
  },
  {
   "cell_type": "code",
   "execution_count": 15,
   "metadata": {},
   "outputs": [
    {
     "data": {
      "text/plain": [
       "0.6110461386380821"
      ]
     },
     "execution_count": 15,
     "metadata": {},
     "output_type": "execute_result"
    }
   ],
   "source": [
    "roc_auc_score(train_data['grade'],y_pred)"
   ]
  },
  {
   "cell_type": "code",
   "execution_count": 16,
   "metadata": {},
   "outputs": [
    {
     "data": {
      "text/plain": [
       "0.5788108588790356"
      ]
     },
     "execution_count": 16,
     "metadata": {},
     "output_type": "execute_result"
    }
   ],
   "source": [
    "accuracy_score(train_data['grade'],y_pred)"
   ]
  },
  {
   "cell_type": "code",
   "execution_count": null,
   "metadata": {},
   "outputs": [],
   "source": []
  },
  {
   "cell_type": "code",
   "execution_count": 1,
   "metadata": {},
   "outputs": [],
   "source": [
    "# Model selection"
   ]
  },
  {
   "cell_type": "code",
   "execution_count": null,
   "metadata": {},
   "outputs": [],
   "source": [
    "import arviz as az"
   ]
  },
  {
   "cell_type": "code",
   "execution_count": null,
   "metadata": {},
   "outputs": [],
   "source": [
    "idata = az.from_pystan(binary_fit, log_likelihood=\"log_lik\")\n",
    "waic = az.waic(idata)\n",
    "loo = az.loo(idata)"
   ]
  },
  {
   "cell_type": "code",
   "execution_count": null,
   "metadata": {},
   "outputs": [],
   "source": [
    "idata = az.from_pystan(binary_fit2, log_likelihood=\"log_lik\")\n",
    "waic = az.waic(idata)\n",
    "loo = az.loo(idata)"
   ]
  },
  {
   "cell_type": "markdown",
   "metadata": {},
   "source": [
    "# 2PL model"
   ]
  },
  {
   "cell_type": "code",
   "execution_count": 47,
   "metadata": {},
   "outputs": [
    {
     "data": {
      "text/plain": [
       "(569, 20)"
      ]
     },
     "execution_count": 47,
     "metadata": {},
     "output_type": "execute_result"
    }
   ],
   "source": [
    "fit['ability'].shape"
   ]
  },
  {
   "cell_type": "code",
   "execution_count": 42,
   "metadata": {},
   "outputs": [],
   "source": [
    "ability = np.mean(fit['ability'],axis=1)\n",
    "difficulty = np.mean(fit['difficulty'],axis=1)\n",
    "discrimination = np.mean(fit['gamma'],axis=1)"
   ]
  },
  {
   "cell_type": "code",
   "execution_count": 53,
   "metadata": {},
   "outputs": [
    {
     "ename": "IndexError",
     "evalue": "index 1084 is out of bounds for axis 0 with size 1084",
     "output_type": "error",
     "traceback": [
      "\u001b[0;31m---------------------------------------------------------------------------\u001b[0m",
      "\u001b[0;31mIndexError\u001b[0m                                Traceback (most recent call last)",
      "\u001b[0;32m<ipython-input-53-b35a30f64015>\u001b[0m in \u001b[0;36m<module>\u001b[0;34m\u001b[0m\n\u001b[0;32m----> 1\u001b[0;31m \u001b[0mdiscrimination\u001b[0m\u001b[0;34m[\u001b[0m\u001b[0;36m1084\u001b[0m\u001b[0;34m]\u001b[0m\u001b[0;34m\u001b[0m\u001b[0;34m\u001b[0m\u001b[0m\n\u001b[0m",
      "\u001b[0;31mIndexError\u001b[0m: index 1084 is out of bounds for axis 0 with size 1084"
     ]
    }
   ],
   "source": [
    "discrimination[1084]"
   ]
  },
  {
   "cell_type": "code",
   "execution_count": 54,
   "metadata": {},
   "outputs": [
    {
     "data": {
      "text/plain": [
       "array([1, 1, 0, ..., 1, 1, 1])"
      ]
     },
     "execution_count": 54,
     "metadata": {},
     "output_type": "execute_result"
    }
   ],
   "source": [
    "y_pred = []\n",
    "for i in range(0,809660):\n",
    "    diff = train_data['item'][i]\n",
    "    abilt = train_data['subject'][i]\n",
    "    p = np.exp(discrimination[diff-1]*(ability[abilt - 1 ] - difficulty[diff - 1]))/(1+np.exp(discrimination[diff-1]*(ability[abilt - 1] - difficulty[diff - 1])))\n",
    "    y_pred.append(p)\n",
    "y_pred = np.round(y_pred).astype(int)\n",
    "y_pred"
   ]
  },
  {
   "cell_type": "code",
   "execution_count": 57,
   "metadata": {},
   "outputs": [
    {
     "data": {
      "text/plain": [
       "-0.10718992370530889"
      ]
     },
     "execution_count": 57,
     "metadata": {},
     "output_type": "execute_result"
    }
   ],
   "source": [
    "x = cohen_kappa_score(train_data['grade'],y_pred)\n",
    "x"
   ]
  },
  {
   "cell_type": "code",
   "execution_count": 56,
   "metadata": {},
   "outputs": [
    {
     "data": {
      "text/plain": [
       "0.5572067287503396"
      ]
     },
     "execution_count": 56,
     "metadata": {},
     "output_type": "execute_result"
    }
   ],
   "source": [
    "mse = mean_squared_error(train_data['grade'],y_pred)\n",
    "mse"
   ]
  },
  {
   "cell_type": "code",
   "execution_count": null,
   "metadata": {},
   "outputs": [],
   "source": []
  }
 ],
 "metadata": {
  "kernelspec": {
   "display_name": "Python 3",
   "language": "python",
   "name": "python3"
  },
  "language_info": {
   "codemirror_mode": {
    "name": "ipython",
    "version": 3
   },
   "file_extension": ".py",
   "mimetype": "text/x-python",
   "name": "python",
   "nbconvert_exporter": "python",
   "pygments_lexer": "ipython3",
   "version": "3.8.10"
  }
 },
 "nbformat": 4,
 "nbformat_minor": 2
}
