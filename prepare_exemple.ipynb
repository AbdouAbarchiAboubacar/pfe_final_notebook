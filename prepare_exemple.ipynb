{
 "metadata": {
  "language_info": {
   "codemirror_mode": {
    "name": "ipython",
    "version": 3
   },
   "file_extension": ".py",
   "mimetype": "text/x-python",
   "name": "python",
   "nbconvert_exporter": "python",
   "pygments_lexer": "ipython3",
   "version": "3.8.5"
  },
  "orig_nbformat": 2,
  "kernelspec": {
   "name": "python3",
   "display_name": "Python 3.8.5 64-bit ('base': conda)",
   "metadata": {
    "interpreter": {
     "hash": "277345e2cca05b1eeed069284aa4278110008b173eb291cb52144fd93112fb0d"
    }
   }
  }
 },
 "nbformat": 4,
 "nbformat_minor": 2,
 "cells": [
  {
   "cell_type": "code",
   "execution_count": 1,
   "metadata": {},
   "outputs": [],
   "source": [
    "import numpy as np\n",
    "import matplotlib.pyplot as plt\n",
    "import pandas as pd\n",
    "import seaborn as sns\n",
    "from tqdm import tqdm\n",
    "from datetime import datetime\n",
    "from collections import Counter\n",
    "from sklearn.preprocessing import LabelEncoder\n",
    "import pickle"
   ]
  },
  {
   "cell_type": "code",
   "execution_count": 2,
   "metadata": {},
   "outputs": [
    {
     "output_type": "execute_result",
     "data": {
      "text/plain": [
       "            Row     user_id            Problem Hierarchy Problem Name  \\\n",
       "0             1  0BrbPbwCMz  Unit ES_04, Section ES_04-1    EG4-FIXED   \n",
       "1             2  0BrbPbwCMz  Unit ES_04, Section ES_04-1    EG4-FIXED   \n",
       "2             3  0BrbPbwCMz  Unit ES_04, Section ES_04-1         EG40   \n",
       "3             4  0BrbPbwCMz  Unit ES_04, Section ES_04-1         EG40   \n",
       "4             5  0BrbPbwCMz  Unit ES_04, Section ES_04-1         EG40   \n",
       "...         ...         ...                          ...          ...   \n",
       "809688  1080611  IQQo3367x0  Unit ES_02, Section ES_02-5         EG40   \n",
       "809689  1080612  IQQo3367x0  Unit ES_02, Section ES_02-5         EG40   \n",
       "809690  1080613  IQQo3367x0  Unit ES_02, Section ES_02-5         EG40   \n",
       "809691  1080614  IQQo3367x0  Unit ES_02, Section ES_02-5         EG40   \n",
       "809693  1080616  IQQo3367x0  Unit ES_02, Section ES_02-5         EG40   \n",
       "\n",
       "        Problem View      Step Name        Step Start Time  \\\n",
       "0                  1    3(x+2) = 15  2005-09-09 12:24:35.0   \n",
       "1                  1        x+2 = 5  2005-09-09 12:25:15.0   \n",
       "2                  1      2-8y = -4  2005-09-09 12:25:36.0   \n",
       "3                  1       -8y = -6  2005-09-09 12:26:12.0   \n",
       "4                  2     -7y-5 = -4  2005-09-09 12:26:38.0   \n",
       "...              ...            ...                    ...   \n",
       "809688             4      -7+2x = 4  2006-03-09 10:52:45.0   \n",
       "809689             4  -7+2x+7 = 4+7  2006-03-09 10:58:05.0   \n",
       "809690             4       2x = 4+7  2006-03-09 10:58:13.0   \n",
       "809691             4        2x = 11  2006-03-09 10:58:18.0   \n",
       "809693             5      -2+5x = 8  2006-03-09 10:58:52.0   \n",
       "\n",
       "       First Transaction Time Correct Transaction Time          Step End Time  \\\n",
       "0       2005-09-09 12:24:49.0    2005-09-09 12:25:15.0  2005-09-09 12:25:15.0   \n",
       "1       2005-09-09 12:25:31.0    2005-09-09 12:25:31.0  2005-09-09 12:25:31.0   \n",
       "2       2005-09-09 12:25:43.0    2005-09-09 12:26:12.0  2005-09-09 12:26:12.0   \n",
       "3       2005-09-09 12:26:34.0    2005-09-09 12:26:34.0  2005-09-09 12:26:34.0   \n",
       "4       2005-09-09 12:28:36.0    2005-09-09 12:28:36.0  2005-09-09 12:28:36.0   \n",
       "...                       ...                      ...                    ...   \n",
       "809688  2006-03-09 10:57:52.0    2006-03-09 10:58:05.0  2006-03-09 10:58:05.0   \n",
       "809689  2006-03-09 10:58:13.0    2006-03-09 10:58:13.0  2006-03-09 10:58:13.0   \n",
       "809690  2006-03-09 10:58:18.0    2006-03-09 10:58:18.0  2006-03-09 10:58:18.0   \n",
       "809691  2006-03-09 10:58:22.0    2006-03-09 10:58:39.0  2006-03-09 10:58:39.0   \n",
       "809693  2006-03-09 10:59:03.0    2006-03-09 10:59:18.0  2006-03-09 10:59:18.0   \n",
       "\n",
       "        Step Duration (sec)  Correct Step Duration (sec)  \\\n",
       "0                      40.0                          NaN   \n",
       "1                      16.0                         16.0   \n",
       "2                      36.0                          NaN   \n",
       "3                      22.0                         22.0   \n",
       "4                     118.0                        118.0   \n",
       "...                     ...                          ...   \n",
       "809688                320.0                          NaN   \n",
       "809689                  8.0                          8.0   \n",
       "809690                  5.0                          5.0   \n",
       "809691                 21.0                          NaN   \n",
       "809693                 26.0                          NaN   \n",
       "\n",
       "        Error Step Duration (sec)  correct  Incorrects  Hints  Corrects  \\\n",
       "0                            40.0        0           2      3         1   \n",
       "1                             NaN        1           0      0         1   \n",
       "2                            36.0        0           2      3         1   \n",
       "3                             NaN        1           0      0         1   \n",
       "4                             NaN        1           0      0         1   \n",
       "...                           ...      ...         ...    ...       ...   \n",
       "809688                      320.0        0           0      3         1   \n",
       "809689                        NaN        1           0      0         1   \n",
       "809690                        NaN        1           0      0         1   \n",
       "809691                       21.0        0           1      3         1   \n",
       "809693                       26.0        0           0      3         1   \n",
       "\n",
       "                                              KC(Default) Opportunity(Default)  \n",
       "0       [SkillRule: Eliminate Parens; {CLT nested; CLT...                    1  \n",
       "1       [SkillRule: Remove constant; {ax+b=c, positive...                 1~~1  \n",
       "2       [SkillRule: Remove constant; {ax+b=c, positive...                    2  \n",
       "3       [SkillRule: Remove coefficient; {ax+b=c, divid...                 1~~1  \n",
       "4       [SkillRule: Remove constant; {ax+b=c, positive...                 3~~1  \n",
       "...                                                   ...                  ...  \n",
       "809688  [SkillRule: Remove constant; {ax+b=c, positive...                 4~~2  \n",
       "809689      [SkillRule: Consolidate vars with coeff; CLT]                    5  \n",
       "809690      [SkillRule: Consolidate vars with coeff; CLT]                    6  \n",
       "809691  [SkillRule: Remove positive coefficient; {ax/b...                 1~~4  \n",
       "809693  [SkillRule: Remove constant; {ax+b=c, positive...                 5~~3  \n",
       "\n",
       "[606401 rows x 19 columns]"
      ],
      "text/html": "<div>\n<style scoped>\n    .dataframe tbody tr th:only-of-type {\n        vertical-align: middle;\n    }\n\n    .dataframe tbody tr th {\n        vertical-align: top;\n    }\n\n    .dataframe thead th {\n        text-align: right;\n    }\n</style>\n<table border=\"1\" class=\"dataframe\">\n  <thead>\n    <tr style=\"text-align: right;\">\n      <th></th>\n      <th>Row</th>\n      <th>user_id</th>\n      <th>Problem Hierarchy</th>\n      <th>Problem Name</th>\n      <th>Problem View</th>\n      <th>Step Name</th>\n      <th>Step Start Time</th>\n      <th>First Transaction Time</th>\n      <th>Correct Transaction Time</th>\n      <th>Step End Time</th>\n      <th>Step Duration (sec)</th>\n      <th>Correct Step Duration (sec)</th>\n      <th>Error Step Duration (sec)</th>\n      <th>correct</th>\n      <th>Incorrects</th>\n      <th>Hints</th>\n      <th>Corrects</th>\n      <th>KC(Default)</th>\n      <th>Opportunity(Default)</th>\n    </tr>\n  </thead>\n  <tbody>\n    <tr>\n      <th>0</th>\n      <td>1</td>\n      <td>0BrbPbwCMz</td>\n      <td>Unit ES_04, Section ES_04-1</td>\n      <td>EG4-FIXED</td>\n      <td>1</td>\n      <td>3(x+2) = 15</td>\n      <td>2005-09-09 12:24:35.0</td>\n      <td>2005-09-09 12:24:49.0</td>\n      <td>2005-09-09 12:25:15.0</td>\n      <td>2005-09-09 12:25:15.0</td>\n      <td>40.0</td>\n      <td>NaN</td>\n      <td>40.0</td>\n      <td>0</td>\n      <td>2</td>\n      <td>3</td>\n      <td>1</td>\n      <td>[SkillRule: Eliminate Parens; {CLT nested; CLT...</td>\n      <td>1</td>\n    </tr>\n    <tr>\n      <th>1</th>\n      <td>2</td>\n      <td>0BrbPbwCMz</td>\n      <td>Unit ES_04, Section ES_04-1</td>\n      <td>EG4-FIXED</td>\n      <td>1</td>\n      <td>x+2 = 5</td>\n      <td>2005-09-09 12:25:15.0</td>\n      <td>2005-09-09 12:25:31.0</td>\n      <td>2005-09-09 12:25:31.0</td>\n      <td>2005-09-09 12:25:31.0</td>\n      <td>16.0</td>\n      <td>16.0</td>\n      <td>NaN</td>\n      <td>1</td>\n      <td>0</td>\n      <td>0</td>\n      <td>1</td>\n      <td>[SkillRule: Remove constant; {ax+b=c, positive...</td>\n      <td>1~~1</td>\n    </tr>\n    <tr>\n      <th>2</th>\n      <td>3</td>\n      <td>0BrbPbwCMz</td>\n      <td>Unit ES_04, Section ES_04-1</td>\n      <td>EG40</td>\n      <td>1</td>\n      <td>2-8y = -4</td>\n      <td>2005-09-09 12:25:36.0</td>\n      <td>2005-09-09 12:25:43.0</td>\n      <td>2005-09-09 12:26:12.0</td>\n      <td>2005-09-09 12:26:12.0</td>\n      <td>36.0</td>\n      <td>NaN</td>\n      <td>36.0</td>\n      <td>0</td>\n      <td>2</td>\n      <td>3</td>\n      <td>1</td>\n      <td>[SkillRule: Remove constant; {ax+b=c, positive...</td>\n      <td>2</td>\n    </tr>\n    <tr>\n      <th>3</th>\n      <td>4</td>\n      <td>0BrbPbwCMz</td>\n      <td>Unit ES_04, Section ES_04-1</td>\n      <td>EG40</td>\n      <td>1</td>\n      <td>-8y = -6</td>\n      <td>2005-09-09 12:26:12.0</td>\n      <td>2005-09-09 12:26:34.0</td>\n      <td>2005-09-09 12:26:34.0</td>\n      <td>2005-09-09 12:26:34.0</td>\n      <td>22.0</td>\n      <td>22.0</td>\n      <td>NaN</td>\n      <td>1</td>\n      <td>0</td>\n      <td>0</td>\n      <td>1</td>\n      <td>[SkillRule: Remove coefficient; {ax+b=c, divid...</td>\n      <td>1~~1</td>\n    </tr>\n    <tr>\n      <th>4</th>\n      <td>5</td>\n      <td>0BrbPbwCMz</td>\n      <td>Unit ES_04, Section ES_04-1</td>\n      <td>EG40</td>\n      <td>2</td>\n      <td>-7y-5 = -4</td>\n      <td>2005-09-09 12:26:38.0</td>\n      <td>2005-09-09 12:28:36.0</td>\n      <td>2005-09-09 12:28:36.0</td>\n      <td>2005-09-09 12:28:36.0</td>\n      <td>118.0</td>\n      <td>118.0</td>\n      <td>NaN</td>\n      <td>1</td>\n      <td>0</td>\n      <td>0</td>\n      <td>1</td>\n      <td>[SkillRule: Remove constant; {ax+b=c, positive...</td>\n      <td>3~~1</td>\n    </tr>\n    <tr>\n      <th>...</th>\n      <td>...</td>\n      <td>...</td>\n      <td>...</td>\n      <td>...</td>\n      <td>...</td>\n      <td>...</td>\n      <td>...</td>\n      <td>...</td>\n      <td>...</td>\n      <td>...</td>\n      <td>...</td>\n      <td>...</td>\n      <td>...</td>\n      <td>...</td>\n      <td>...</td>\n      <td>...</td>\n      <td>...</td>\n      <td>...</td>\n      <td>...</td>\n    </tr>\n    <tr>\n      <th>809688</th>\n      <td>1080611</td>\n      <td>IQQo3367x0</td>\n      <td>Unit ES_02, Section ES_02-5</td>\n      <td>EG40</td>\n      <td>4</td>\n      <td>-7+2x = 4</td>\n      <td>2006-03-09 10:52:45.0</td>\n      <td>2006-03-09 10:57:52.0</td>\n      <td>2006-03-09 10:58:05.0</td>\n      <td>2006-03-09 10:58:05.0</td>\n      <td>320.0</td>\n      <td>NaN</td>\n      <td>320.0</td>\n      <td>0</td>\n      <td>0</td>\n      <td>3</td>\n      <td>1</td>\n      <td>[SkillRule: Remove constant; {ax+b=c, positive...</td>\n      <td>4~~2</td>\n    </tr>\n    <tr>\n      <th>809689</th>\n      <td>1080612</td>\n      <td>IQQo3367x0</td>\n      <td>Unit ES_02, Section ES_02-5</td>\n      <td>EG40</td>\n      <td>4</td>\n      <td>-7+2x+7 = 4+7</td>\n      <td>2006-03-09 10:58:05.0</td>\n      <td>2006-03-09 10:58:13.0</td>\n      <td>2006-03-09 10:58:13.0</td>\n      <td>2006-03-09 10:58:13.0</td>\n      <td>8.0</td>\n      <td>8.0</td>\n      <td>NaN</td>\n      <td>1</td>\n      <td>0</td>\n      <td>0</td>\n      <td>1</td>\n      <td>[SkillRule: Consolidate vars with coeff; CLT]</td>\n      <td>5</td>\n    </tr>\n    <tr>\n      <th>809690</th>\n      <td>1080613</td>\n      <td>IQQo3367x0</td>\n      <td>Unit ES_02, Section ES_02-5</td>\n      <td>EG40</td>\n      <td>4</td>\n      <td>2x = 4+7</td>\n      <td>2006-03-09 10:58:13.0</td>\n      <td>2006-03-09 10:58:18.0</td>\n      <td>2006-03-09 10:58:18.0</td>\n      <td>2006-03-09 10:58:18.0</td>\n      <td>5.0</td>\n      <td>5.0</td>\n      <td>NaN</td>\n      <td>1</td>\n      <td>0</td>\n      <td>0</td>\n      <td>1</td>\n      <td>[SkillRule: Consolidate vars with coeff; CLT]</td>\n      <td>6</td>\n    </tr>\n    <tr>\n      <th>809691</th>\n      <td>1080614</td>\n      <td>IQQo3367x0</td>\n      <td>Unit ES_02, Section ES_02-5</td>\n      <td>EG40</td>\n      <td>4</td>\n      <td>2x = 11</td>\n      <td>2006-03-09 10:58:18.0</td>\n      <td>2006-03-09 10:58:22.0</td>\n      <td>2006-03-09 10:58:39.0</td>\n      <td>2006-03-09 10:58:39.0</td>\n      <td>21.0</td>\n      <td>NaN</td>\n      <td>21.0</td>\n      <td>0</td>\n      <td>1</td>\n      <td>3</td>\n      <td>1</td>\n      <td>[SkillRule: Remove positive coefficient; {ax/b...</td>\n      <td>1~~4</td>\n    </tr>\n    <tr>\n      <th>809693</th>\n      <td>1080616</td>\n      <td>IQQo3367x0</td>\n      <td>Unit ES_02, Section ES_02-5</td>\n      <td>EG40</td>\n      <td>5</td>\n      <td>-2+5x = 8</td>\n      <td>2006-03-09 10:58:52.0</td>\n      <td>2006-03-09 10:59:03.0</td>\n      <td>2006-03-09 10:59:18.0</td>\n      <td>2006-03-09 10:59:18.0</td>\n      <td>26.0</td>\n      <td>NaN</td>\n      <td>26.0</td>\n      <td>0</td>\n      <td>0</td>\n      <td>3</td>\n      <td>1</td>\n      <td>[SkillRule: Remove constant; {ax+b=c, positive...</td>\n      <td>5~~3</td>\n    </tr>\n  </tbody>\n</table>\n<p>606401 rows × 19 columns</p>\n</div>"
     },
     "metadata": {},
     "execution_count": 2
    }
   ],
   "source": [
    "df = (pd.read_csv('./data/algebra_2005_2006_train.txt',sep='\\t').dropna(subset=['Step Start Time', 'KC(Default)'])\n",
    "                           .rename(columns={\n",
    "                                    'Anon Student Id': 'user_id',\n",
    "                                    'Correct First Attempt': 'correct'\n",
    "                                   }))\n",
    "df"
   ]
  },
  {
   "cell_type": "code",
   "execution_count": 5,
   "metadata": {},
   "outputs": [],
   "source": [
    "df['item_id'] = df['Problem Name'] + '~' + df['Step Name']"
   ]
  },
  {
   "cell_type": "code",
   "execution_count": 6,
   "metadata": {},
   "outputs": [
    {
     "output_type": "stream",
     "name": "stdout",
     "text": [
      "['2005-08-30 09:50:10.0', '2005-08-30 09:50:14.0', '2005-08-30 09:50:16.0', '2005-08-30 09:50:25.0', '2005-08-30 09:50:32.0'] ['2006-06-07 11:11:34.0', '2006-06-07 11:11:39.0', '2006-06-07 11:12:21.0', '2006-06-07 11:12:24.0', '2006-06-07 11:12:31.0']\n",
      "[('EG57A~FinalAnswer', 24), ('EG57~FinalAnswer', 23), ('EG54~FinalAnswer', 18), ('EG40~FinalAnswer', 17), ('EG41~FinalAnswer', 14)]\n",
      "                      item_id  \\\n",
      "163264  LIT59~b+r*(x+y) = v-s   \n",
      "163265  LIT59~b+r*(x+y) = v-s   \n",
      "163266  LIT59~b+r*(x+y) = v-s   \n",
      "163267  LIT59~b+r*(x+y) = v-s   \n",
      "163268  LIT59~b+r*(x+y) = v-s   \n",
      "\n",
      "                                              KC(Default)   0  \n",
      "163264  [SkillRule: Eliminate Parens; {CLT nested; CLT...  24  \n",
      "163265  [SkillRule: Eliminate Parens; {CLT nested; CLT...   1  \n",
      "163266  [SkillRule: Remove coefficient; {ax+b=c, divid...   5  \n",
      "163267  [SkillRule: Remove constant; {ax+b=c, positive...  31  \n",
      "163268  [SkillRule: Remove constant; {ax+b=c, positive...   2  \n"
     ]
    }
   ],
   "source": [
    "values = sorted(df['Step Start Time'].unique())\n",
    "print(values[:5], values[-5:])\n",
    "\n",
    "df['timestamp'] = pd.to_datetime(df['Step Start Time']).map(\n",
    "    lambda t: t.timestamp()).round().astype(np.int32)\n",
    "\n",
    "# Check if skills are a function of the item_id (answer: NO)\n",
    "steps_with_kc = df.groupby(['item_id', 'KC(Default)']).size().reset_index()\n",
    "print(Counter(steps_with_kc['item_id']).most_common(5))\n",
    "print(steps_with_kc.query('`item_id` == \"LIT59~b+r*(x+y) = v-s\"'))\n",
    "\n",
    "all_skills = set()\n",
    "for skill in df['KC(Default)']:\n",
    "    for token in skill.split('~~'):\n",
    "        all_skills.add(token)\n",
    "encode = dict(zip(all_skills, range(1000000)))\n",
    "\n",
    "skill_ids = []\n",
    "for skills in df['KC(Default)']:\n",
    "    skill_ids.append('~~'.join(str(encode[skill])\n",
    "                               for skill in skills.split('~~')))\n",
    "df['skill_ids'] = skill_ids"
   ]
  },
  {
   "cell_type": "code",
   "execution_count": 7,
   "metadata": {},
   "outputs": [
    {
     "output_type": "execute_result",
     "data": {
      "text/plain": [
       "            Row     user_id            Problem Hierarchy Problem Name  \\\n",
       "0             1  0BrbPbwCMz  Unit ES_04, Section ES_04-1    EG4-FIXED   \n",
       "1             2  0BrbPbwCMz  Unit ES_04, Section ES_04-1    EG4-FIXED   \n",
       "2             3  0BrbPbwCMz  Unit ES_04, Section ES_04-1         EG40   \n",
       "3             4  0BrbPbwCMz  Unit ES_04, Section ES_04-1         EG40   \n",
       "4             5  0BrbPbwCMz  Unit ES_04, Section ES_04-1         EG40   \n",
       "...         ...         ...                          ...          ...   \n",
       "809688  1080611  IQQo3367x0  Unit ES_02, Section ES_02-5         EG40   \n",
       "809689  1080612  IQQo3367x0  Unit ES_02, Section ES_02-5         EG40   \n",
       "809690  1080613  IQQo3367x0  Unit ES_02, Section ES_02-5         EG40   \n",
       "809691  1080614  IQQo3367x0  Unit ES_02, Section ES_02-5         EG40   \n",
       "809693  1080616  IQQo3367x0  Unit ES_02, Section ES_02-5         EG40   \n",
       "\n",
       "        Problem View      Step Name        Step Start Time  \\\n",
       "0                  1    3(x+2) = 15  2005-09-09 12:24:35.0   \n",
       "1                  1        x+2 = 5  2005-09-09 12:25:15.0   \n",
       "2                  1      2-8y = -4  2005-09-09 12:25:36.0   \n",
       "3                  1       -8y = -6  2005-09-09 12:26:12.0   \n",
       "4                  2     -7y-5 = -4  2005-09-09 12:26:38.0   \n",
       "...              ...            ...                    ...   \n",
       "809688             4      -7+2x = 4  2006-03-09 10:52:45.0   \n",
       "809689             4  -7+2x+7 = 4+7  2006-03-09 10:58:05.0   \n",
       "809690             4       2x = 4+7  2006-03-09 10:58:13.0   \n",
       "809691             4        2x = 11  2006-03-09 10:58:18.0   \n",
       "809693             5      -2+5x = 8  2006-03-09 10:58:52.0   \n",
       "\n",
       "       First Transaction Time Correct Transaction Time          Step End Time  \\\n",
       "0       2005-09-09 12:24:49.0    2005-09-09 12:25:15.0  2005-09-09 12:25:15.0   \n",
       "1       2005-09-09 12:25:31.0    2005-09-09 12:25:31.0  2005-09-09 12:25:31.0   \n",
       "2       2005-09-09 12:25:43.0    2005-09-09 12:26:12.0  2005-09-09 12:26:12.0   \n",
       "3       2005-09-09 12:26:34.0    2005-09-09 12:26:34.0  2005-09-09 12:26:34.0   \n",
       "4       2005-09-09 12:28:36.0    2005-09-09 12:28:36.0  2005-09-09 12:28:36.0   \n",
       "...                       ...                      ...                    ...   \n",
       "809688  2006-03-09 10:57:52.0    2006-03-09 10:58:05.0  2006-03-09 10:58:05.0   \n",
       "809689  2006-03-09 10:58:13.0    2006-03-09 10:58:13.0  2006-03-09 10:58:13.0   \n",
       "809690  2006-03-09 10:58:18.0    2006-03-09 10:58:18.0  2006-03-09 10:58:18.0   \n",
       "809691  2006-03-09 10:58:22.0    2006-03-09 10:58:39.0  2006-03-09 10:58:39.0   \n",
       "809693  2006-03-09 10:59:03.0    2006-03-09 10:59:18.0  2006-03-09 10:59:18.0   \n",
       "\n",
       "        ...  Error Step Duration (sec)  correct  Incorrects  Hints  Corrects  \\\n",
       "0       ...                       40.0        0           2      3         1   \n",
       "1       ...                        NaN        1           0      0         1   \n",
       "2       ...                       36.0        0           2      3         1   \n",
       "3       ...                        NaN        1           0      0         1   \n",
       "4       ...                        NaN        1           0      0         1   \n",
       "...     ...                        ...      ...         ...    ...       ...   \n",
       "809688  ...                      320.0        0           0      3         1   \n",
       "809689  ...                        NaN        1           0      0         1   \n",
       "809690  ...                        NaN        1           0      0         1   \n",
       "809691  ...                       21.0        0           1      3         1   \n",
       "809693  ...                       26.0        0           0      3         1   \n",
       "\n",
       "                                              KC(Default)  \\\n",
       "0       [SkillRule: Eliminate Parens; {CLT nested; CLT...   \n",
       "1       [SkillRule: Remove constant; {ax+b=c, positive...   \n",
       "2       [SkillRule: Remove constant; {ax+b=c, positive...   \n",
       "3       [SkillRule: Remove coefficient; {ax+b=c, divid...   \n",
       "4       [SkillRule: Remove constant; {ax+b=c, positive...   \n",
       "...                                                   ...   \n",
       "809688  [SkillRule: Remove constant; {ax+b=c, positive...   \n",
       "809689      [SkillRule: Consolidate vars with coeff; CLT]   \n",
       "809690      [SkillRule: Consolidate vars with coeff; CLT]   \n",
       "809691  [SkillRule: Remove positive coefficient; {ax/b...   \n",
       "809693  [SkillRule: Remove constant; {ax+b=c, positive...   \n",
       "\n",
       "        Opportunity(Default)                item_id   timestamp skill_ids  \n",
       "0                          1  EG4-FIXED~3(x+2) = 15  1126268675        15  \n",
       "1                       1~~1      EG4-FIXED~x+2 = 5  1126268715     1~~73  \n",
       "2                          2         EG40~2-8y = -4  1126268736         1  \n",
       "3                       1~~1          EG40~-8y = -6  1126268772    74~~59  \n",
       "4                       3~~1        EG40~-7y-5 = -4  1126268798    1~~104  \n",
       "...                      ...                    ...         ...       ...  \n",
       "809688                  4~~2         EG40~-7+2x = 4  1141901565    1~~104  \n",
       "809689                     5     EG40~-7+2x+7 = 4+7  1141901885        34  \n",
       "809690                     6          EG40~2x = 4+7  1141901893        34  \n",
       "809691                  1~~4           EG40~2x = 11  1141901898    61~~74  \n",
       "809693                  5~~3         EG40~-2+5x = 8  1141901932    1~~104  \n",
       "\n",
       "[606401 rows x 22 columns]"
      ],
      "text/html": "<div>\n<style scoped>\n    .dataframe tbody tr th:only-of-type {\n        vertical-align: middle;\n    }\n\n    .dataframe tbody tr th {\n        vertical-align: top;\n    }\n\n    .dataframe thead th {\n        text-align: right;\n    }\n</style>\n<table border=\"1\" class=\"dataframe\">\n  <thead>\n    <tr style=\"text-align: right;\">\n      <th></th>\n      <th>Row</th>\n      <th>user_id</th>\n      <th>Problem Hierarchy</th>\n      <th>Problem Name</th>\n      <th>Problem View</th>\n      <th>Step Name</th>\n      <th>Step Start Time</th>\n      <th>First Transaction Time</th>\n      <th>Correct Transaction Time</th>\n      <th>Step End Time</th>\n      <th>...</th>\n      <th>Error Step Duration (sec)</th>\n      <th>correct</th>\n      <th>Incorrects</th>\n      <th>Hints</th>\n      <th>Corrects</th>\n      <th>KC(Default)</th>\n      <th>Opportunity(Default)</th>\n      <th>item_id</th>\n      <th>timestamp</th>\n      <th>skill_ids</th>\n    </tr>\n  </thead>\n  <tbody>\n    <tr>\n      <th>0</th>\n      <td>1</td>\n      <td>0BrbPbwCMz</td>\n      <td>Unit ES_04, Section ES_04-1</td>\n      <td>EG4-FIXED</td>\n      <td>1</td>\n      <td>3(x+2) = 15</td>\n      <td>2005-09-09 12:24:35.0</td>\n      <td>2005-09-09 12:24:49.0</td>\n      <td>2005-09-09 12:25:15.0</td>\n      <td>2005-09-09 12:25:15.0</td>\n      <td>...</td>\n      <td>40.0</td>\n      <td>0</td>\n      <td>2</td>\n      <td>3</td>\n      <td>1</td>\n      <td>[SkillRule: Eliminate Parens; {CLT nested; CLT...</td>\n      <td>1</td>\n      <td>EG4-FIXED~3(x+2) = 15</td>\n      <td>1126268675</td>\n      <td>15</td>\n    </tr>\n    <tr>\n      <th>1</th>\n      <td>2</td>\n      <td>0BrbPbwCMz</td>\n      <td>Unit ES_04, Section ES_04-1</td>\n      <td>EG4-FIXED</td>\n      <td>1</td>\n      <td>x+2 = 5</td>\n      <td>2005-09-09 12:25:15.0</td>\n      <td>2005-09-09 12:25:31.0</td>\n      <td>2005-09-09 12:25:31.0</td>\n      <td>2005-09-09 12:25:31.0</td>\n      <td>...</td>\n      <td>NaN</td>\n      <td>1</td>\n      <td>0</td>\n      <td>0</td>\n      <td>1</td>\n      <td>[SkillRule: Remove constant; {ax+b=c, positive...</td>\n      <td>1~~1</td>\n      <td>EG4-FIXED~x+2 = 5</td>\n      <td>1126268715</td>\n      <td>1~~73</td>\n    </tr>\n    <tr>\n      <th>2</th>\n      <td>3</td>\n      <td>0BrbPbwCMz</td>\n      <td>Unit ES_04, Section ES_04-1</td>\n      <td>EG40</td>\n      <td>1</td>\n      <td>2-8y = -4</td>\n      <td>2005-09-09 12:25:36.0</td>\n      <td>2005-09-09 12:25:43.0</td>\n      <td>2005-09-09 12:26:12.0</td>\n      <td>2005-09-09 12:26:12.0</td>\n      <td>...</td>\n      <td>36.0</td>\n      <td>0</td>\n      <td>2</td>\n      <td>3</td>\n      <td>1</td>\n      <td>[SkillRule: Remove constant; {ax+b=c, positive...</td>\n      <td>2</td>\n      <td>EG40~2-8y = -4</td>\n      <td>1126268736</td>\n      <td>1</td>\n    </tr>\n    <tr>\n      <th>3</th>\n      <td>4</td>\n      <td>0BrbPbwCMz</td>\n      <td>Unit ES_04, Section ES_04-1</td>\n      <td>EG40</td>\n      <td>1</td>\n      <td>-8y = -6</td>\n      <td>2005-09-09 12:26:12.0</td>\n      <td>2005-09-09 12:26:34.0</td>\n      <td>2005-09-09 12:26:34.0</td>\n      <td>2005-09-09 12:26:34.0</td>\n      <td>...</td>\n      <td>NaN</td>\n      <td>1</td>\n      <td>0</td>\n      <td>0</td>\n      <td>1</td>\n      <td>[SkillRule: Remove coefficient; {ax+b=c, divid...</td>\n      <td>1~~1</td>\n      <td>EG40~-8y = -6</td>\n      <td>1126268772</td>\n      <td>74~~59</td>\n    </tr>\n    <tr>\n      <th>4</th>\n      <td>5</td>\n      <td>0BrbPbwCMz</td>\n      <td>Unit ES_04, Section ES_04-1</td>\n      <td>EG40</td>\n      <td>2</td>\n      <td>-7y-5 = -4</td>\n      <td>2005-09-09 12:26:38.0</td>\n      <td>2005-09-09 12:28:36.0</td>\n      <td>2005-09-09 12:28:36.0</td>\n      <td>2005-09-09 12:28:36.0</td>\n      <td>...</td>\n      <td>NaN</td>\n      <td>1</td>\n      <td>0</td>\n      <td>0</td>\n      <td>1</td>\n      <td>[SkillRule: Remove constant; {ax+b=c, positive...</td>\n      <td>3~~1</td>\n      <td>EG40~-7y-5 = -4</td>\n      <td>1126268798</td>\n      <td>1~~104</td>\n    </tr>\n    <tr>\n      <th>...</th>\n      <td>...</td>\n      <td>...</td>\n      <td>...</td>\n      <td>...</td>\n      <td>...</td>\n      <td>...</td>\n      <td>...</td>\n      <td>...</td>\n      <td>...</td>\n      <td>...</td>\n      <td>...</td>\n      <td>...</td>\n      <td>...</td>\n      <td>...</td>\n      <td>...</td>\n      <td>...</td>\n      <td>...</td>\n      <td>...</td>\n      <td>...</td>\n      <td>...</td>\n      <td>...</td>\n    </tr>\n    <tr>\n      <th>809688</th>\n      <td>1080611</td>\n      <td>IQQo3367x0</td>\n      <td>Unit ES_02, Section ES_02-5</td>\n      <td>EG40</td>\n      <td>4</td>\n      <td>-7+2x = 4</td>\n      <td>2006-03-09 10:52:45.0</td>\n      <td>2006-03-09 10:57:52.0</td>\n      <td>2006-03-09 10:58:05.0</td>\n      <td>2006-03-09 10:58:05.0</td>\n      <td>...</td>\n      <td>320.0</td>\n      <td>0</td>\n      <td>0</td>\n      <td>3</td>\n      <td>1</td>\n      <td>[SkillRule: Remove constant; {ax+b=c, positive...</td>\n      <td>4~~2</td>\n      <td>EG40~-7+2x = 4</td>\n      <td>1141901565</td>\n      <td>1~~104</td>\n    </tr>\n    <tr>\n      <th>809689</th>\n      <td>1080612</td>\n      <td>IQQo3367x0</td>\n      <td>Unit ES_02, Section ES_02-5</td>\n      <td>EG40</td>\n      <td>4</td>\n      <td>-7+2x+7 = 4+7</td>\n      <td>2006-03-09 10:58:05.0</td>\n      <td>2006-03-09 10:58:13.0</td>\n      <td>2006-03-09 10:58:13.0</td>\n      <td>2006-03-09 10:58:13.0</td>\n      <td>...</td>\n      <td>NaN</td>\n      <td>1</td>\n      <td>0</td>\n      <td>0</td>\n      <td>1</td>\n      <td>[SkillRule: Consolidate vars with coeff; CLT]</td>\n      <td>5</td>\n      <td>EG40~-7+2x+7 = 4+7</td>\n      <td>1141901885</td>\n      <td>34</td>\n    </tr>\n    <tr>\n      <th>809690</th>\n      <td>1080613</td>\n      <td>IQQo3367x0</td>\n      <td>Unit ES_02, Section ES_02-5</td>\n      <td>EG40</td>\n      <td>4</td>\n      <td>2x = 4+7</td>\n      <td>2006-03-09 10:58:13.0</td>\n      <td>2006-03-09 10:58:18.0</td>\n      <td>2006-03-09 10:58:18.0</td>\n      <td>2006-03-09 10:58:18.0</td>\n      <td>...</td>\n      <td>NaN</td>\n      <td>1</td>\n      <td>0</td>\n      <td>0</td>\n      <td>1</td>\n      <td>[SkillRule: Consolidate vars with coeff; CLT]</td>\n      <td>6</td>\n      <td>EG40~2x = 4+7</td>\n      <td>1141901893</td>\n      <td>34</td>\n    </tr>\n    <tr>\n      <th>809691</th>\n      <td>1080614</td>\n      <td>IQQo3367x0</td>\n      <td>Unit ES_02, Section ES_02-5</td>\n      <td>EG40</td>\n      <td>4</td>\n      <td>2x = 11</td>\n      <td>2006-03-09 10:58:18.0</td>\n      <td>2006-03-09 10:58:22.0</td>\n      <td>2006-03-09 10:58:39.0</td>\n      <td>2006-03-09 10:58:39.0</td>\n      <td>...</td>\n      <td>21.0</td>\n      <td>0</td>\n      <td>1</td>\n      <td>3</td>\n      <td>1</td>\n      <td>[SkillRule: Remove positive coefficient; {ax/b...</td>\n      <td>1~~4</td>\n      <td>EG40~2x = 11</td>\n      <td>1141901898</td>\n      <td>61~~74</td>\n    </tr>\n    <tr>\n      <th>809693</th>\n      <td>1080616</td>\n      <td>IQQo3367x0</td>\n      <td>Unit ES_02, Section ES_02-5</td>\n      <td>EG40</td>\n      <td>5</td>\n      <td>-2+5x = 8</td>\n      <td>2006-03-09 10:58:52.0</td>\n      <td>2006-03-09 10:59:03.0</td>\n      <td>2006-03-09 10:59:18.0</td>\n      <td>2006-03-09 10:59:18.0</td>\n      <td>...</td>\n      <td>26.0</td>\n      <td>0</td>\n      <td>0</td>\n      <td>3</td>\n      <td>1</td>\n      <td>[SkillRule: Remove constant; {ax+b=c, positive...</td>\n      <td>5~~3</td>\n      <td>EG40~-2+5x = 8</td>\n      <td>1141901932</td>\n      <td>1~~104</td>\n    </tr>\n  </tbody>\n</table>\n<p>606401 rows × 22 columns</p>\n</div>"
     },
     "metadata": {},
     "execution_count": 7
    }
   ],
   "source": [
    "df"
   ]
  },
  {
   "cell_type": "code",
   "execution_count": 8,
   "metadata": {},
   "outputs": [
    {
     "output_type": "execute_result",
     "data": {
      "text/plain": [
       "           user_id                item_id skill_ids   timestamp  correct\n",
       "0       0BrbPbwCMz  EG4-FIXED~3(x+2) = 15        15  1126268675        0\n",
       "1       0BrbPbwCMz      EG4-FIXED~x+2 = 5     1~~73  1126268715        1\n",
       "2       0BrbPbwCMz         EG40~2-8y = -4         1  1126268736        0\n",
       "3       0BrbPbwCMz          EG40~-8y = -6    74~~59  1126268772        1\n",
       "4       0BrbPbwCMz        EG40~-7y-5 = -4    1~~104  1126268798        1\n",
       "...            ...                    ...       ...         ...      ...\n",
       "809688  IQQo3367x0         EG40~-7+2x = 4    1~~104  1141901565        0\n",
       "809689  IQQo3367x0     EG40~-7+2x+7 = 4+7        34  1141901885        1\n",
       "809690  IQQo3367x0          EG40~2x = 4+7        34  1141901893        1\n",
       "809691  IQQo3367x0           EG40~2x = 11    61~~74  1141901898        0\n",
       "809693  IQQo3367x0         EG40~-2+5x = 8    1~~104  1141901932        0\n",
       "\n",
       "[606401 rows x 5 columns]"
      ],
      "text/html": "<div>\n<style scoped>\n    .dataframe tbody tr th:only-of-type {\n        vertical-align: middle;\n    }\n\n    .dataframe tbody tr th {\n        vertical-align: top;\n    }\n\n    .dataframe thead th {\n        text-align: right;\n    }\n</style>\n<table border=\"1\" class=\"dataframe\">\n  <thead>\n    <tr style=\"text-align: right;\">\n      <th></th>\n      <th>user_id</th>\n      <th>item_id</th>\n      <th>skill_ids</th>\n      <th>timestamp</th>\n      <th>correct</th>\n    </tr>\n  </thead>\n  <tbody>\n    <tr>\n      <th>0</th>\n      <td>0BrbPbwCMz</td>\n      <td>EG4-FIXED~3(x+2) = 15</td>\n      <td>15</td>\n      <td>1126268675</td>\n      <td>0</td>\n    </tr>\n    <tr>\n      <th>1</th>\n      <td>0BrbPbwCMz</td>\n      <td>EG4-FIXED~x+2 = 5</td>\n      <td>1~~73</td>\n      <td>1126268715</td>\n      <td>1</td>\n    </tr>\n    <tr>\n      <th>2</th>\n      <td>0BrbPbwCMz</td>\n      <td>EG40~2-8y = -4</td>\n      <td>1</td>\n      <td>1126268736</td>\n      <td>0</td>\n    </tr>\n    <tr>\n      <th>3</th>\n      <td>0BrbPbwCMz</td>\n      <td>EG40~-8y = -6</td>\n      <td>74~~59</td>\n      <td>1126268772</td>\n      <td>1</td>\n    </tr>\n    <tr>\n      <th>4</th>\n      <td>0BrbPbwCMz</td>\n      <td>EG40~-7y-5 = -4</td>\n      <td>1~~104</td>\n      <td>1126268798</td>\n      <td>1</td>\n    </tr>\n    <tr>\n      <th>...</th>\n      <td>...</td>\n      <td>...</td>\n      <td>...</td>\n      <td>...</td>\n      <td>...</td>\n    </tr>\n    <tr>\n      <th>809688</th>\n      <td>IQQo3367x0</td>\n      <td>EG40~-7+2x = 4</td>\n      <td>1~~104</td>\n      <td>1141901565</td>\n      <td>0</td>\n    </tr>\n    <tr>\n      <th>809689</th>\n      <td>IQQo3367x0</td>\n      <td>EG40~-7+2x+7 = 4+7</td>\n      <td>34</td>\n      <td>1141901885</td>\n      <td>1</td>\n    </tr>\n    <tr>\n      <th>809690</th>\n      <td>IQQo3367x0</td>\n      <td>EG40~2x = 4+7</td>\n      <td>34</td>\n      <td>1141901893</td>\n      <td>1</td>\n    </tr>\n    <tr>\n      <th>809691</th>\n      <td>IQQo3367x0</td>\n      <td>EG40~2x = 11</td>\n      <td>61~~74</td>\n      <td>1141901898</td>\n      <td>0</td>\n    </tr>\n    <tr>\n      <th>809693</th>\n      <td>IQQo3367x0</td>\n      <td>EG40~-2+5x = 8</td>\n      <td>1~~104</td>\n      <td>1141901932</td>\n      <td>0</td>\n    </tr>\n  </tbody>\n</table>\n<p>606401 rows × 5 columns</p>\n</div>"
     },
     "metadata": {},
     "execution_count": 8
    }
   ],
   "source": [
    "exemple = df[['user_id', 'item_id', 'skill_ids', 'timestamp', 'correct']]\n",
    "exemple"
   ]
  },
  {
   "cell_type": "code",
   "execution_count": null,
   "metadata": {},
   "outputs": [],
   "source": [
    "exemple"
   ]
  }
 ]
}