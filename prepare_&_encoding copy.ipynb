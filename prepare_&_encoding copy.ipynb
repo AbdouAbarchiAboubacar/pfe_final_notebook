{
 "cells": [
  {
   "cell_type": "code",
   "execution_count": 2,
   "metadata": {},
   "outputs": [],
   "source": [
    "import numpy as np\n",
    "import matplotlib.pyplot as plt\n",
    "import pandas as pd\n",
    "import seaborn as sns\n",
    "from tqdm import tqdm\n",
    "from datetime import datetime\n",
    "from collections import Counter\n",
    "from sklearn.preprocessing import LabelEncoder\n",
    "import pickle"
   ]
  },
  {
   "cell_type": "code",
   "execution_count": 3,
   "metadata": {},
   "outputs": [
    {
     "output_type": "stream",
     "name": "stdout",
     "text": [
      "(436493, 47)\n"
     ]
    },
    {
     "output_type": "execute_result",
     "data": {
      "text/plain": [
       "   Row Sample Name                    Transaction Id  \\\n",
       "0    1    All Data  6578b254e514b10664996b383d18f628   \n",
       "1    2    All Data  28ba2bd6ce11a6c15d67c4664094f135   \n",
       "2    3    All Data  3f5d211cee5917340b1ef1db9794be0c   \n",
       "3    4    All Data  638794be3a4bdd41d06f2965900bc5d5   \n",
       "4    5    All Data  a1c7ab4643029119929f1f2f2c5ef198   \n",
       "\n",
       "                        Anon Student Id                        Session Id  \\\n",
       "0  Stu_0297622ac301b5800c639eb2c0d12337  6637162180020c6600b77406c5441e3f   \n",
       "1  Stu_0297622ac301b5800c639eb2c0d12337  6637162180020c6600b77406c5441e3f   \n",
       "2  Stu_0297622ac301b5800c639eb2c0d12337  6637162180020c6600b77406c5441e3f   \n",
       "3  Stu_0297622ac301b5800c639eb2c0d12337  6637162180020c6600b77406c5441e3f   \n",
       "4  Stu_0297622ac301b5800c639eb2c0d12337  6637162180020c6600b77406c5441e3f   \n",
       "\n",
       "                  Time Time Zone Duration (sec) Student Response Type  \\\n",
       "0  2007-10-03 14:14:32       UTC              0           START_TUTOR   \n",
       "1  2007-10-03 14:14:32       UTC              0          VIDEO_ACTION   \n",
       "2  2007-10-03 14:14:51       UTC             19          VIDEO_ACTION   \n",
       "3  2007-10-03 14:15:34       UTC              0          VIDEO_ACTION   \n",
       "4  2007-10-03 14:15:34       UTC              0           START_TUTOR   \n",
       "\n",
       "   Student Response Subtype  ... KC Category (Default).2  KC (Default).3  \\\n",
       "0                       NaN  ...                     NaN             NaN   \n",
       "1                       NaN  ...                     NaN             NaN   \n",
       "2                       NaN  ...                     NaN             NaN   \n",
       "3                       NaN  ...                     NaN             NaN   \n",
       "4                       NaN  ...                     NaN             NaN   \n",
       "\n",
       "  KC Category (Default).3 KC (Single-KC) KC Category (Single-KC)  \\\n",
       "0                     NaN            NaN                     NaN   \n",
       "1                     NaN            NaN                     NaN   \n",
       "2                     NaN            NaN                     NaN   \n",
       "3                     NaN            NaN                     NaN   \n",
       "4                     NaN            NaN                     NaN   \n",
       "\n",
       "   KC (Unique-step) KC Category (Unique-step)                    School  \\\n",
       "0               NaN                       NaN  University of Pittsburgh   \n",
       "1               NaN                       NaN  University of Pittsburgh   \n",
       "2               NaN                       NaN  University of Pittsburgh   \n",
       "3               NaN                       NaN  University of Pittsburgh   \n",
       "4               NaN                       NaN  University of Pittsburgh   \n",
       "\n",
       "   Class  CF (media message)  \n",
       "0    NaN                 NaN  \n",
       "1    NaN                 NaN  \n",
       "2    NaN                 NaN  \n",
       "3    NaN                 NaN  \n",
       "4    NaN                 NaN  \n",
       "\n",
       "[5 rows x 47 columns]"
      ],
      "text/html": "<div>\n<style scoped>\n    .dataframe tbody tr th:only-of-type {\n        vertical-align: middle;\n    }\n\n    .dataframe tbody tr th {\n        vertical-align: top;\n    }\n\n    .dataframe thead th {\n        text-align: right;\n    }\n</style>\n<table border=\"1\" class=\"dataframe\">\n  <thead>\n    <tr style=\"text-align: right;\">\n      <th></th>\n      <th>Row</th>\n      <th>Sample Name</th>\n      <th>Transaction Id</th>\n      <th>Anon Student Id</th>\n      <th>Session Id</th>\n      <th>Time</th>\n      <th>Time Zone</th>\n      <th>Duration (sec)</th>\n      <th>Student Response Type</th>\n      <th>Student Response Subtype</th>\n      <th>...</th>\n      <th>KC Category (Default).2</th>\n      <th>KC (Default).3</th>\n      <th>KC Category (Default).3</th>\n      <th>KC (Single-KC)</th>\n      <th>KC Category (Single-KC)</th>\n      <th>KC (Unique-step)</th>\n      <th>KC Category (Unique-step)</th>\n      <th>School</th>\n      <th>Class</th>\n      <th>CF (media message)</th>\n    </tr>\n  </thead>\n  <tbody>\n    <tr>\n      <th>0</th>\n      <td>1</td>\n      <td>All Data</td>\n      <td>6578b254e514b10664996b383d18f628</td>\n      <td>Stu_0297622ac301b5800c639eb2c0d12337</td>\n      <td>6637162180020c6600b77406c5441e3f</td>\n      <td>2007-10-03 14:14:32</td>\n      <td>UTC</td>\n      <td>0</td>\n      <td>START_TUTOR</td>\n      <td>NaN</td>\n      <td>...</td>\n      <td>NaN</td>\n      <td>NaN</td>\n      <td>NaN</td>\n      <td>NaN</td>\n      <td>NaN</td>\n      <td>NaN</td>\n      <td>NaN</td>\n      <td>University of Pittsburgh</td>\n      <td>NaN</td>\n      <td>NaN</td>\n    </tr>\n    <tr>\n      <th>1</th>\n      <td>2</td>\n      <td>All Data</td>\n      <td>28ba2bd6ce11a6c15d67c4664094f135</td>\n      <td>Stu_0297622ac301b5800c639eb2c0d12337</td>\n      <td>6637162180020c6600b77406c5441e3f</td>\n      <td>2007-10-03 14:14:32</td>\n      <td>UTC</td>\n      <td>0</td>\n      <td>VIDEO_ACTION</td>\n      <td>NaN</td>\n      <td>...</td>\n      <td>NaN</td>\n      <td>NaN</td>\n      <td>NaN</td>\n      <td>NaN</td>\n      <td>NaN</td>\n      <td>NaN</td>\n      <td>NaN</td>\n      <td>University of Pittsburgh</td>\n      <td>NaN</td>\n      <td>NaN</td>\n    </tr>\n    <tr>\n      <th>2</th>\n      <td>3</td>\n      <td>All Data</td>\n      <td>3f5d211cee5917340b1ef1db9794be0c</td>\n      <td>Stu_0297622ac301b5800c639eb2c0d12337</td>\n      <td>6637162180020c6600b77406c5441e3f</td>\n      <td>2007-10-03 14:14:51</td>\n      <td>UTC</td>\n      <td>19</td>\n      <td>VIDEO_ACTION</td>\n      <td>NaN</td>\n      <td>...</td>\n      <td>NaN</td>\n      <td>NaN</td>\n      <td>NaN</td>\n      <td>NaN</td>\n      <td>NaN</td>\n      <td>NaN</td>\n      <td>NaN</td>\n      <td>University of Pittsburgh</td>\n      <td>NaN</td>\n      <td>NaN</td>\n    </tr>\n    <tr>\n      <th>3</th>\n      <td>4</td>\n      <td>All Data</td>\n      <td>638794be3a4bdd41d06f2965900bc5d5</td>\n      <td>Stu_0297622ac301b5800c639eb2c0d12337</td>\n      <td>6637162180020c6600b77406c5441e3f</td>\n      <td>2007-10-03 14:15:34</td>\n      <td>UTC</td>\n      <td>0</td>\n      <td>VIDEO_ACTION</td>\n      <td>NaN</td>\n      <td>...</td>\n      <td>NaN</td>\n      <td>NaN</td>\n      <td>NaN</td>\n      <td>NaN</td>\n      <td>NaN</td>\n      <td>NaN</td>\n      <td>NaN</td>\n      <td>University of Pittsburgh</td>\n      <td>NaN</td>\n      <td>NaN</td>\n    </tr>\n    <tr>\n      <th>4</th>\n      <td>5</td>\n      <td>All Data</td>\n      <td>a1c7ab4643029119929f1f2f2c5ef198</td>\n      <td>Stu_0297622ac301b5800c639eb2c0d12337</td>\n      <td>6637162180020c6600b77406c5441e3f</td>\n      <td>2007-10-03 14:15:34</td>\n      <td>UTC</td>\n      <td>0</td>\n      <td>START_TUTOR</td>\n      <td>NaN</td>\n      <td>...</td>\n      <td>NaN</td>\n      <td>NaN</td>\n      <td>NaN</td>\n      <td>NaN</td>\n      <td>NaN</td>\n      <td>NaN</td>\n      <td>NaN</td>\n      <td>University of Pittsburgh</td>\n      <td>NaN</td>\n      <td>NaN</td>\n    </tr>\n  </tbody>\n</table>\n<p>5 rows × 47 columns</p>\n</div>"
     },
     "metadata": {},
     "execution_count": 3
    }
   ],
   "source": [
    "initial_data = pd.read_csv('./data/frenchLanguage.txt', delimiter = \"\\t\")\n",
    "print(initial_data.shape)\n",
    "initial_data.head()"
   ]
  },
  {
   "cell_type": "code",
   "execution_count": 12,
   "metadata": {},
   "outputs": [
    {
     "output_type": "stream",
     "name": "stdout",
     "text": [
      "(256255, 47)\n"
     ]
    }
   ],
   "source": [
    "initial_data = initial_data.dropna(subset = ['Outcome'])\n",
    "print(initial_data.shape)"
   ]
  },
  {
   "cell_type": "code",
   "execution_count": 13,
   "metadata": {},
   "outputs": [
    {
     "output_type": "execute_result",
     "data": {
      "text/plain": [
       "1245"
      ]
     },
     "metadata": {},
     "execution_count": 13
    }
   ],
   "source": [
    "len(initial_data['Problem Name'].unique())"
   ]
  },
  {
   "cell_type": "code",
   "execution_count": 15,
   "metadata": {},
   "outputs": [
    {
     "output_type": "execute_result",
     "data": {
      "text/plain": [
       "99"
      ]
     },
     "metadata": {},
     "execution_count": 15
    }
   ],
   "source": [
    "len(initial_data['Anon Student Id'].unique())"
   ]
  },
  {
   "cell_type": "code",
   "execution_count": 14,
   "metadata": {},
   "outputs": [
    {
     "output_type": "execute_result",
     "data": {
      "text/plain": [
       "Stu_e46aa25adef44f4fc674a0b388066b5f    14746\n",
       "Stu_8d68ffbd410e069b1351786d13e50c5f    11838\n",
       "Stu_dbfbf7461c726ddbc7be6ace5048ea42     8192\n",
       "Stu_7d95599eebe224dd0e8cb4a0df675891     7670\n",
       "Stu_b40ba2afbd73a26158c33410475825c3     7416\n",
       "                                        ...  \n",
       "Stu_fd9c0f0c3b1ec429b15e5c515beb1147       11\n",
       "Stu_f0ce95411ec7eed8b5ac6e16a7181674        8\n",
       "Stu_fc04f6fcafe9592d0fb8bebe71f1ad2d        3\n",
       "Stu_6732f23fa2b8812a7b0475d90b7163d5        2\n",
       "Stu_73cd12dcefde132df73fe02d1f937ada        1\n",
       "Name: Anon Student Id, Length: 99, dtype: int64"
      ]
     },
     "metadata": {},
     "execution_count": 14
    }
   ],
   "source": [
    "initial_data['Anon Student Id'].value_counts()"
   ]
  },
  {
   "cell_type": "code",
   "execution_count": 3,
   "metadata": {},
   "outputs": [
    {
     "output_type": "execute_result",
     "data": {
      "text/plain": [
       "Index(['Row', 'Sample Name', 'Transaction Id', 'Anon Student Id', 'Session Id',\n",
       "       'Time', 'Time Zone', 'Duration (sec)', 'Student Response Type',\n",
       "       'Student Response Subtype', 'Tutor Response Type',\n",
       "       'Tutor Response Subtype', 'Level (Unit)', 'Level (Section)',\n",
       "       'Problem Name', 'Problem View', 'Problem Start Time', 'Step Name',\n",
       "       'Attempt At Step', 'Is Last Attempt', 'Outcome', 'Selection',\n",
       "       'Selection.1', 'Selection.2', 'Action', 'Input', 'Input.1', 'Input.2',\n",
       "       'Feedback Text', 'Feedback Classification', 'Help Level',\n",
       "       'Total Num Hints', 'KC (Default)', 'KC Category (Default)',\n",
       "       'KC (Default).1', 'KC Category (Default).1', 'KC (Default).2',\n",
       "       'KC Category (Default).2', 'KC (Default).3', 'KC Category (Default).3',\n",
       "       'KC (Single-KC)', 'KC Category (Single-KC)', 'KC (Unique-step)',\n",
       "       'KC Category (Unique-step)', 'School', 'Class', 'CF (media message)'],\n",
       "      dtype='object')"
      ]
     },
     "metadata": {},
     "execution_count": 3
    }
   ],
   "source": [
    "initial_data.columns"
   ]
  },
  {
   "cell_type": "code",
   "execution_count": 8,
   "metadata": {},
   "outputs": [
    {
     "output_type": "execute_result",
     "data": {
      "text/plain": [
       "                             Anon Student Id   Problem Name  \\\n",
       "0       Stu_0361c37e8eb8a731484f34e1ab9dfdcd     LDEMO_WKST   \n",
       "1       Stu_0361c37e8eb8a731484f34e1ab9dfdcd     LDEMO_WKST   \n",
       "2       Stu_0361c37e8eb8a731484f34e1ab9dfdcd     LDEMO_WKST   \n",
       "3       Stu_0361c37e8eb8a731484f34e1ab9dfdcd     LDEMO_WKST   \n",
       "4       Stu_0361c37e8eb8a731484f34e1ab9dfdcd     LDEMO_WKST   \n",
       "...                                      ...            ...   \n",
       "436809  Stu_fee81c4391766153444ccaf109a5a20c  TRANSFORMN021   \n",
       "436810  Stu_fee81c4391766153444ccaf109a5a20c  TRANSFORMN021   \n",
       "436811  Stu_fee81c4391766153444ccaf109a5a20c  TRANSFORMN021   \n",
       "436812  Stu_fee81c4391766153444ccaf109a5a20c  TRANSFORMN021   \n",
       "436813  Stu_fee81c4391766153444ccaf109a5a20c  TRANSFORMN021   \n",
       "\n",
       "       Student Response Type                         Step Name  \\\n",
       "0                      CYCLE                              R1C2   \n",
       "1                      CYCLE                              R1C1   \n",
       "2                      CYCLE                              R2C2   \n",
       "3                      CYCLE                              R2C1   \n",
       "4                      CYCLE                              R4C1   \n",
       "...                      ...                               ...   \n",
       "436809                 CYCLE                  CurrFunctionText   \n",
       "436810                 CYCLE  GRAPHICAL-TRANSFORMATIONS-refl-v   \n",
       "436811                 CYCLE  ALGEBRAIC-TRANSFORMATIONS-refl-v   \n",
       "436812                 CYCLE            TransformButton-refl-v   \n",
       "436813                 CYCLE                  CurrFunctionText   \n",
       "\n",
       "        Attempt At Step  Is Last Attempt Outcome  \n",
       "0                     1                1      OK  \n",
       "1                     1                1      OK  \n",
       "2                     1                1      OK  \n",
       "3                     1                1      OK  \n",
       "4                     1                0     BUG  \n",
       "...                 ...              ...     ...  \n",
       "436809                1                0      OK  \n",
       "436810                1                1      OK  \n",
       "436811                1                1      OK  \n",
       "436812                1                1      OK  \n",
       "436813                2                1      OK  \n",
       "\n",
       "[436814 rows x 7 columns]"
      ],
      "text/html": "<div>\n<style scoped>\n    .dataframe tbody tr th:only-of-type {\n        vertical-align: middle;\n    }\n\n    .dataframe tbody tr th {\n        vertical-align: top;\n    }\n\n    .dataframe thead th {\n        text-align: right;\n    }\n</style>\n<table border=\"1\" class=\"dataframe\">\n  <thead>\n    <tr style=\"text-align: right;\">\n      <th></th>\n      <th>Anon Student Id</th>\n      <th>Problem Name</th>\n      <th>Student Response Type</th>\n      <th>Step Name</th>\n      <th>Attempt At Step</th>\n      <th>Is Last Attempt</th>\n      <th>Outcome</th>\n    </tr>\n  </thead>\n  <tbody>\n    <tr>\n      <th>0</th>\n      <td>Stu_0361c37e8eb8a731484f34e1ab9dfdcd</td>\n      <td>LDEMO_WKST</td>\n      <td>CYCLE</td>\n      <td>R1C2</td>\n      <td>1</td>\n      <td>1</td>\n      <td>OK</td>\n    </tr>\n    <tr>\n      <th>1</th>\n      <td>Stu_0361c37e8eb8a731484f34e1ab9dfdcd</td>\n      <td>LDEMO_WKST</td>\n      <td>CYCLE</td>\n      <td>R1C1</td>\n      <td>1</td>\n      <td>1</td>\n      <td>OK</td>\n    </tr>\n    <tr>\n      <th>2</th>\n      <td>Stu_0361c37e8eb8a731484f34e1ab9dfdcd</td>\n      <td>LDEMO_WKST</td>\n      <td>CYCLE</td>\n      <td>R2C2</td>\n      <td>1</td>\n      <td>1</td>\n      <td>OK</td>\n    </tr>\n    <tr>\n      <th>3</th>\n      <td>Stu_0361c37e8eb8a731484f34e1ab9dfdcd</td>\n      <td>LDEMO_WKST</td>\n      <td>CYCLE</td>\n      <td>R2C1</td>\n      <td>1</td>\n      <td>1</td>\n      <td>OK</td>\n    </tr>\n    <tr>\n      <th>4</th>\n      <td>Stu_0361c37e8eb8a731484f34e1ab9dfdcd</td>\n      <td>LDEMO_WKST</td>\n      <td>CYCLE</td>\n      <td>R4C1</td>\n      <td>1</td>\n      <td>0</td>\n      <td>BUG</td>\n    </tr>\n    <tr>\n      <th>...</th>\n      <td>...</td>\n      <td>...</td>\n      <td>...</td>\n      <td>...</td>\n      <td>...</td>\n      <td>...</td>\n      <td>...</td>\n    </tr>\n    <tr>\n      <th>436809</th>\n      <td>Stu_fee81c4391766153444ccaf109a5a20c</td>\n      <td>TRANSFORMN021</td>\n      <td>CYCLE</td>\n      <td>CurrFunctionText</td>\n      <td>1</td>\n      <td>0</td>\n      <td>OK</td>\n    </tr>\n    <tr>\n      <th>436810</th>\n      <td>Stu_fee81c4391766153444ccaf109a5a20c</td>\n      <td>TRANSFORMN021</td>\n      <td>CYCLE</td>\n      <td>GRAPHICAL-TRANSFORMATIONS-refl-v</td>\n      <td>1</td>\n      <td>1</td>\n      <td>OK</td>\n    </tr>\n    <tr>\n      <th>436811</th>\n      <td>Stu_fee81c4391766153444ccaf109a5a20c</td>\n      <td>TRANSFORMN021</td>\n      <td>CYCLE</td>\n      <td>ALGEBRAIC-TRANSFORMATIONS-refl-v</td>\n      <td>1</td>\n      <td>1</td>\n      <td>OK</td>\n    </tr>\n    <tr>\n      <th>436812</th>\n      <td>Stu_fee81c4391766153444ccaf109a5a20c</td>\n      <td>TRANSFORMN021</td>\n      <td>CYCLE</td>\n      <td>TransformButton-refl-v</td>\n      <td>1</td>\n      <td>1</td>\n      <td>OK</td>\n    </tr>\n    <tr>\n      <th>436813</th>\n      <td>Stu_fee81c4391766153444ccaf109a5a20c</td>\n      <td>TRANSFORMN021</td>\n      <td>CYCLE</td>\n      <td>CurrFunctionText</td>\n      <td>2</td>\n      <td>1</td>\n      <td>OK</td>\n    </tr>\n  </tbody>\n</table>\n<p>436814 rows × 7 columns</p>\n</div>"
     },
     "metadata": {},
     "execution_count": 8
    }
   ],
   "source": [
    "needed = initial_data[['Anon Student Id','Problem Name','Student Response Type','Step Name','Attempt At Step', 'Is Last Attempt','Outcome']]\n",
    "needed"
   ]
  },
  {
   "cell_type": "code",
   "execution_count": 9,
   "metadata": {},
   "outputs": [
    {
     "output_type": "execute_result",
     "data": {
      "text/plain": [
       "59"
      ]
     },
     "metadata": {},
     "execution_count": 9
    }
   ],
   "source": [
    "len(needed['Anon Student Id'].unique())"
   ]
  },
  {
   "cell_type": "markdown",
   "metadata": {},
   "source": [
    "# Collecter les données"
   ]
  },
  {
   "cell_type": "code",
   "execution_count": 3,
   "metadata": {},
   "outputs": [
    {
     "output_type": "execute_result",
     "data": {
      "text/plain": [
       "Index(['Row', 'Anon Student Id', 'Problem Hierarchy', 'Problem Name',\n",
       "       'Problem View', 'Step Name', 'Step Start Time',\n",
       "       'First Transaction Time', 'Correct Transaction Time', 'Step End Time',\n",
       "       'Step Duration (sec)', 'Correct Step Duration (sec)',\n",
       "       'Error Step Duration (sec)', 'Correct First Attempt', 'Incorrects',\n",
       "       'Hints', 'Corrects', 'KC(Default)', 'Opportunity(Default)'],\n",
       "      dtype='object')"
      ]
     },
     "metadata": {},
     "execution_count": 3
    }
   ],
   "source": [
    "initial_data.columns"
   ]
  },
  {
   "cell_type": "code",
   "execution_count": 4,
   "metadata": {},
   "outputs": [
    {
     "output_type": "execute_result",
     "data": {
      "text/plain": [
       "           user_id    item_id              timestamp  correct  nb_hint\n",
       "0       0BrbPbwCMz  EG4-FIXED  2005-09-09 12:24:49.0        0        3\n",
       "1       0BrbPbwCMz  EG4-FIXED  2005-09-09 12:25:31.0        1        0\n",
       "2       0BrbPbwCMz       EG40  2005-09-09 12:25:43.0        0        3\n",
       "3       0BrbPbwCMz       EG40  2005-09-09 12:26:34.0        1        0\n",
       "4       0BrbPbwCMz       EG40  2005-09-09 12:28:36.0        1        0\n",
       "...            ...        ...                    ...      ...      ...\n",
       "809689  IQQo3367x0       EG40  2006-03-09 10:58:13.0        1        0\n",
       "809690  IQQo3367x0       EG40  2006-03-09 10:58:18.0        1        0\n",
       "809691  IQQo3367x0       EG40  2006-03-09 10:58:22.0        0        3\n",
       "809692  IQQo3367x0       EG40  2006-03-09 10:58:44.0        1        0\n",
       "809693  IQQo3367x0       EG40  2006-03-09 10:59:03.0        0        3\n",
       "\n",
       "[809694 rows x 5 columns]"
      ],
      "text/html": "<div>\n<style scoped>\n    .dataframe tbody tr th:only-of-type {\n        vertical-align: middle;\n    }\n\n    .dataframe tbody tr th {\n        vertical-align: top;\n    }\n\n    .dataframe thead th {\n        text-align: right;\n    }\n</style>\n<table border=\"1\" class=\"dataframe\">\n  <thead>\n    <tr style=\"text-align: right;\">\n      <th></th>\n      <th>user_id</th>\n      <th>item_id</th>\n      <th>timestamp</th>\n      <th>correct</th>\n      <th>nb_hint</th>\n    </tr>\n  </thead>\n  <tbody>\n    <tr>\n      <th>0</th>\n      <td>0BrbPbwCMz</td>\n      <td>EG4-FIXED</td>\n      <td>2005-09-09 12:24:49.0</td>\n      <td>0</td>\n      <td>3</td>\n    </tr>\n    <tr>\n      <th>1</th>\n      <td>0BrbPbwCMz</td>\n      <td>EG4-FIXED</td>\n      <td>2005-09-09 12:25:31.0</td>\n      <td>1</td>\n      <td>0</td>\n    </tr>\n    <tr>\n      <th>2</th>\n      <td>0BrbPbwCMz</td>\n      <td>EG40</td>\n      <td>2005-09-09 12:25:43.0</td>\n      <td>0</td>\n      <td>3</td>\n    </tr>\n    <tr>\n      <th>3</th>\n      <td>0BrbPbwCMz</td>\n      <td>EG40</td>\n      <td>2005-09-09 12:26:34.0</td>\n      <td>1</td>\n      <td>0</td>\n    </tr>\n    <tr>\n      <th>4</th>\n      <td>0BrbPbwCMz</td>\n      <td>EG40</td>\n      <td>2005-09-09 12:28:36.0</td>\n      <td>1</td>\n      <td>0</td>\n    </tr>\n    <tr>\n      <th>...</th>\n      <td>...</td>\n      <td>...</td>\n      <td>...</td>\n      <td>...</td>\n      <td>...</td>\n    </tr>\n    <tr>\n      <th>809689</th>\n      <td>IQQo3367x0</td>\n      <td>EG40</td>\n      <td>2006-03-09 10:58:13.0</td>\n      <td>1</td>\n      <td>0</td>\n    </tr>\n    <tr>\n      <th>809690</th>\n      <td>IQQo3367x0</td>\n      <td>EG40</td>\n      <td>2006-03-09 10:58:18.0</td>\n      <td>1</td>\n      <td>0</td>\n    </tr>\n    <tr>\n      <th>809691</th>\n      <td>IQQo3367x0</td>\n      <td>EG40</td>\n      <td>2006-03-09 10:58:22.0</td>\n      <td>0</td>\n      <td>3</td>\n    </tr>\n    <tr>\n      <th>809692</th>\n      <td>IQQo3367x0</td>\n      <td>EG40</td>\n      <td>2006-03-09 10:58:44.0</td>\n      <td>1</td>\n      <td>0</td>\n    </tr>\n    <tr>\n      <th>809693</th>\n      <td>IQQo3367x0</td>\n      <td>EG40</td>\n      <td>2006-03-09 10:59:03.0</td>\n      <td>0</td>\n      <td>3</td>\n    </tr>\n  </tbody>\n</table>\n<p>809694 rows × 5 columns</p>\n</div>"
     },
     "metadata": {},
     "execution_count": 4
    }
   ],
   "source": [
    "initial_data = initial_data.rename(columns={'Anon Student Id': 'user_id','Problem Name': 'item_id','Step Name': 'step_id','KC(Default)': 'kc_id','First Transaction Time': 'timestamp','Correct First Attempt': 'correct',\"Hints\":'nb_hint','Incorrects':'incorrect','Corrects':'incorrect_?'})\n",
    "needed = initial_data[[\"user_id\",\"item_id\",\"timestamp\",\"correct\",\"nb_hint\"]]\n",
    "needed"
   ]
  },
  {
   "cell_type": "code",
   "execution_count": 5,
   "metadata": {},
   "outputs": [
    {
     "output_type": "stream",
     "name": "stdout",
     "text": [
      "(808821, 5)\n"
     ]
    },
    {
     "output_type": "execute_result",
     "data": {
      "text/plain": [
       "           user_id     item_id   timestamp  correct  nb_hint\n",
       "535958  45TTYcotWk  LDEMO_WKST  1125395408        0        0\n",
       "562642  HvghFVBS5v  LDEMO_WKST  1125395410        1        0\n",
       "569598  IQ98biy227  LDEMO_WKST  1125395414        1        0\n",
       "555691  Dmq6441349  LDEMO_WKST  1125395416        1        0\n",
       "545705  80nlN05JQ6  LDEMO_WKST  1125395419        0        0"
      ],
      "text/html": "<div>\n<style scoped>\n    .dataframe tbody tr th:only-of-type {\n        vertical-align: middle;\n    }\n\n    .dataframe tbody tr th {\n        vertical-align: top;\n    }\n\n    .dataframe thead th {\n        text-align: right;\n    }\n</style>\n<table border=\"1\" class=\"dataframe\">\n  <thead>\n    <tr style=\"text-align: right;\">\n      <th></th>\n      <th>user_id</th>\n      <th>item_id</th>\n      <th>timestamp</th>\n      <th>correct</th>\n      <th>nb_hint</th>\n    </tr>\n  </thead>\n  <tbody>\n    <tr>\n      <th>535958</th>\n      <td>45TTYcotWk</td>\n      <td>LDEMO_WKST</td>\n      <td>1125395408</td>\n      <td>0</td>\n      <td>0</td>\n    </tr>\n    <tr>\n      <th>562642</th>\n      <td>HvghFVBS5v</td>\n      <td>LDEMO_WKST</td>\n      <td>1125395410</td>\n      <td>1</td>\n      <td>0</td>\n    </tr>\n    <tr>\n      <th>569598</th>\n      <td>IQ98biy227</td>\n      <td>LDEMO_WKST</td>\n      <td>1125395414</td>\n      <td>1</td>\n      <td>0</td>\n    </tr>\n    <tr>\n      <th>555691</th>\n      <td>Dmq6441349</td>\n      <td>LDEMO_WKST</td>\n      <td>1125395416</td>\n      <td>1</td>\n      <td>0</td>\n    </tr>\n    <tr>\n      <th>545705</th>\n      <td>80nlN05JQ6</td>\n      <td>LDEMO_WKST</td>\n      <td>1125395419</td>\n      <td>0</td>\n      <td>0</td>\n    </tr>\n  </tbody>\n</table>\n</div>"
     },
     "metadata": {},
     "execution_count": 5
    }
   ],
   "source": [
    "needed['timestamp'] = pd.to_datetime(needed['timestamp']).map(lambda t: t.timestamp()).round().astype(np.int32)\n",
    "\n",
    "# Conservez uniquement les utilisateurs avec au moins 10 interactions\n",
    "needed = needed.groupby(\"user_id\").filter(lambda x: len(x) >= 10)\n",
    "\n",
    "# Supprimer les entrées où le résultat n'est pas binaire mais continu\n",
    "needed = needed[needed.correct.isin([0, 1])]\n",
    "needed['correct'] = needed['correct'].astype(np.int32)\n",
    "\n",
    "# Trier la colonne \"timestamp\" et changer le nom de la colonne\n",
    "needed = needed.sort_values('timestamp')\n",
    "print(needed.shape)\n",
    "needed.head()"
   ]
  },
  {
   "cell_type": "markdown",
   "metadata": {},
   "source": [
    "# Encodage"
   ]
  },
  {
   "cell_type": "code",
   "execution_count": 77,
   "metadata": {},
   "outputs": [
    {
     "data": {
      "text/plain": [
       "\"\\nimport pickle \\npkl_file = open('Departure_encoder.pkl', 'rb')\\nle_departure = pickle.load(pkl_file) \\npkl_file.close()\\ndf_test['Departure'] = le_departure.transform(df_test['Departure'])\\n\""
      ]
     },
     "execution_count": 77,
     "metadata": {},
     "output_type": "execute_result"
    }
   ],
   "source": [
    "userId_encoder = LabelEncoder()\n",
    "itemId_encoder = LabelEncoder()\n",
    "\n",
    "needed[\"user_id\"] = userId_encoder.fit_transform(needed[\"user_id\"])\n",
    "needed[\"item_id\"] = itemId_encoder.fit_transform(needed[\"item_id\"])\n",
    "\n",
    "# Save user_id and item_id encoder\n",
    "####\n",
    "outputUserInEncoder = open('userId_encoder.pkl', 'wb')\n",
    "pickle.dump(userId_encoder, outputUserInEncoder)\n",
    "outputUserInEncoder.close()\n",
    "####\n",
    "outputItemInEncoder = open('itemId_encoder.pkl', 'wb')\n",
    "pickle.dump(itemId_encoder, outputItemInEncoder)\n",
    "outputItemInEncoder.close()\n",
    "\n",
    "needed.head()\n",
    "\n",
    "### Load saved encoder\n",
    "\"\"\"\n",
    "import pickle \n",
    "pkl_file = open('Departure_encoder.pkl', 'rb')\n",
    "le_departure = pickle.load(pkl_file) \n",
    "pkl_file.close()\n",
    "df_test['Departure'] = le_departure.transform(df_test['Departure'])\n",
    "\"\"\""
   ]
  },
  {
   "cell_type": "code",
   "execution_count": 78,
   "metadata": {},
   "outputs": [],
   "source": [
    "# replace user_id and item_id where id == 0\n",
    "needed[\"user_id\"].replace(0,len(needed['user_id'].unique()),inplace=True)\n",
    "needed[\"item_id\"].replace(0,len(needed['item_id'].unique()),inplace=True)"
   ]
  },
  {
   "cell_type": "code",
   "execution_count": 79,
   "metadata": {},
   "outputs": [
    {
     "name": "stdout",
     "output_type": "stream",
     "text": [
      "items = 1084 and users = 569\n"
     ]
    }
   ],
   "source": [
    "print(f\"items = {len(needed['item_id'].unique())} and users = {len(needed['user_id'].unique())}\")"
   ]
  },
  {
   "cell_type": "code",
   "execution_count": 80,
   "metadata": {},
   "outputs": [
    {
     "data": {
      "text/html": [
       "<div>\n",
       "<style scoped>\n",
       "    .dataframe tbody tr th:only-of-type {\n",
       "        vertical-align: middle;\n",
       "    }\n",
       "\n",
       "    .dataframe tbody tr th {\n",
       "        vertical-align: top;\n",
       "    }\n",
       "\n",
       "    .dataframe thead th {\n",
       "        text-align: right;\n",
       "    }\n",
       "</style>\n",
       "<table border=\"1\" class=\"dataframe\">\n",
       "  <thead>\n",
       "    <tr style=\"text-align: right;\">\n",
       "      <th></th>\n",
       "      <th>user_id</th>\n",
       "      <th>item_id</th>\n",
       "      <th>timestamp</th>\n",
       "      <th>correct</th>\n",
       "      <th>nb_hint</th>\n",
       "      <th>answers_using_hint</th>\n",
       "    </tr>\n",
       "  </thead>\n",
       "  <tbody>\n",
       "    <tr>\n",
       "      <th>535958</th>\n",
       "      <td>72</td>\n",
       "      <td>563</td>\n",
       "      <td>1125395408</td>\n",
       "      <td>0</td>\n",
       "      <td>0</td>\n",
       "      <td>4</td>\n",
       "    </tr>\n",
       "    <tr>\n",
       "      <th>562642</th>\n",
       "      <td>247</td>\n",
       "      <td>563</td>\n",
       "      <td>1125395410</td>\n",
       "      <td>1</td>\n",
       "      <td>0</td>\n",
       "      <td>2</td>\n",
       "    </tr>\n",
       "    <tr>\n",
       "      <th>569598</th>\n",
       "      <td>249</td>\n",
       "      <td>563</td>\n",
       "      <td>1125395414</td>\n",
       "      <td>1</td>\n",
       "      <td>0</td>\n",
       "      <td>2</td>\n",
       "    </tr>\n",
       "    <tr>\n",
       "      <th>555691</th>\n",
       "      <td>212</td>\n",
       "      <td>563</td>\n",
       "      <td>1125395416</td>\n",
       "      <td>1</td>\n",
       "      <td>0</td>\n",
       "      <td>2</td>\n",
       "    </tr>\n",
       "    <tr>\n",
       "      <th>545705</th>\n",
       "      <td>154</td>\n",
       "      <td>563</td>\n",
       "      <td>1125395419</td>\n",
       "      <td>0</td>\n",
       "      <td>0</td>\n",
       "      <td>4</td>\n",
       "    </tr>\n",
       "  </tbody>\n",
       "</table>\n",
       "</div>"
      ],
      "text/plain": [
       "        user_id  item_id   timestamp  correct  nb_hint  answers_using_hint\n",
       "535958       72      563  1125395408        0        0                   4\n",
       "562642      247      563  1125395410        1        0                   2\n",
       "569598      249      563  1125395414        1        0                   2\n",
       "555691      212      563  1125395416        1        0                   2\n",
       "545705      154      563  1125395419        0        0                   4"
      ]
     },
     "execution_count": 80,
     "metadata": {},
     "output_type": "execute_result"
    }
   ],
   "source": [
    "conditions = [\n",
    "    (needed['correct'] == 1) & (needed['nb_hint'] > 0),\n",
    "    (needed['correct'] == 1) & (needed['nb_hint'] == 0),\n",
    "    (needed['correct'] == 0) & (needed['nb_hint'] > 0),\n",
    "    (needed['correct'] == 0) & (needed['nb_hint'] == 0)\n",
    "    ]\n",
    "# 1 ==> Correct avec hint\n",
    "# 2 ==> Correct sans hint\n",
    "# 3 ==> Incorrect avec hint\n",
    "# 4 ==> Incorrect sans hint\n",
    "values = [1, 2, 3, 4]\n",
    "\n",
    "# create a new column and use np.select to assign values to it using our lists as arguments\n",
    "needed['answers_using_hint'] = np.select(conditions, values)\n",
    "needed.head()"
   ]
  },
  {
   "cell_type": "code",
   "execution_count": 76,
   "metadata": {},
   "outputs": [
    {
     "data": {
      "text/plain": [
       "{'user_ids': 569, 'item_ids': 1084, 'observations': 809660}"
      ]
     },
     "execution_count": 76,
     "metadata": {},
     "output_type": "execute_result"
    }
   ],
   "source": [
    "## dataConfig \n",
    "users = len(needed['user_id'].unique())\n",
    "items = len(needed['item_id'].unique())\n",
    "n_observations = len(needed)\n",
    "config = {\n",
    "    'user_ids': users,\n",
    "    'item_ids': items,\n",
    "    'observations': n_observations,\n",
    "}\n",
    "config"
   ]
  },
  {
   "cell_type": "code",
   "execution_count": 81,
   "metadata": {},
   "outputs": [],
   "source": [
    "#Save configuration to csv file\n",
    "needed.to_csv(\"./data/neededData.csv\")"
   ]
  },
  {
   "cell_type": "code",
   "execution_count": null,
   "metadata": {},
   "outputs": [],
   "source": []
  }
 ],
 "metadata": {
  "kernelspec": {
   "display_name": "Python 3",
   "language": "python",
   "name": "python3"
  },
  "language_info": {
   "codemirror_mode": {
    "name": "ipython",
    "version": 3
   },
   "file_extension": ".py",
   "mimetype": "text/x-python",
   "name": "python",
   "nbconvert_exporter": "python",
   "pygments_lexer": "ipython3",
   "version": "3.8.5"
  }
 },
 "nbformat": 4,
 "nbformat_minor": 2
}