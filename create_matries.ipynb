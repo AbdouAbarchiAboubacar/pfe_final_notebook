{
 "metadata": {
  "language_info": {
   "codemirror_mode": {
    "name": "ipython",
    "version": 3
   },
   "file_extension": ".py",
   "mimetype": "text/x-python",
   "name": "python",
   "nbconvert_exporter": "python",
   "pygments_lexer": "ipython3",
   "version": "3.8.5"
  },
  "orig_nbformat": 2,
  "kernelspec": {
   "name": "python3",
   "display_name": "Python 3",
   "language": "python"
  }
 },
 "nbformat": 4,
 "nbformat_minor": 2,
 "cells": [
  {
   "cell_type": "code",
   "execution_count": 2,
   "metadata": {},
   "outputs": [],
   "source": [
    "import numpy as np \n",
    "import matplotlib.pyplot as plt\n",
    "import pandas as pd\n",
    "import seaborn as sns\n",
    "from tqdm import tqdm"
   ]
  },
  {
   "cell_type": "code",
   "execution_count": 4,
   "metadata": {},
   "outputs": [
    {
     "output_type": "stream",
     "name": "stdout",
     "text": [
      "(809660, 6)\n"
     ]
    },
    {
     "output_type": "execute_result",
     "data": {
      "text/plain": [
       "   user_id  item_id  correct  nb_hint  answers_using_hint\n",
       "0       72      563        0        0                   4\n",
       "1      247      563        0        0                   4\n",
       "2      249      563        1        0                   2\n",
       "3      212      563        1        0                   2\n",
       "4      154      563        0        0                   4"
      ],
      "text/html": "<div>\n<style scoped>\n    .dataframe tbody tr th:only-of-type {\n        vertical-align: middle;\n    }\n\n    .dataframe tbody tr th {\n        vertical-align: top;\n    }\n\n    .dataframe thead th {\n        text-align: right;\n    }\n</style>\n<table border=\"1\" class=\"dataframe\">\n  <thead>\n    <tr style=\"text-align: right;\">\n      <th></th>\n      <th>user_id</th>\n      <th>item_id</th>\n      <th>correct</th>\n      <th>nb_hint</th>\n      <th>answers_using_hint</th>\n    </tr>\n  </thead>\n  <tbody>\n    <tr>\n      <th>0</th>\n      <td>72</td>\n      <td>563</td>\n      <td>0</td>\n      <td>0</td>\n      <td>4</td>\n    </tr>\n    <tr>\n      <th>1</th>\n      <td>247</td>\n      <td>563</td>\n      <td>0</td>\n      <td>0</td>\n      <td>4</td>\n    </tr>\n    <tr>\n      <th>2</th>\n      <td>249</td>\n      <td>563</td>\n      <td>1</td>\n      <td>0</td>\n      <td>2</td>\n    </tr>\n    <tr>\n      <th>3</th>\n      <td>212</td>\n      <td>563</td>\n      <td>1</td>\n      <td>0</td>\n      <td>2</td>\n    </tr>\n    <tr>\n      <th>4</th>\n      <td>154</td>\n      <td>563</td>\n      <td>0</td>\n      <td>0</td>\n      <td>4</td>\n    </tr>\n  </tbody>\n</table>\n</div>"
     },
     "metadata": {},
     "execution_count": 4
    }
   ],
   "source": [
    "needed = pd.read_csv(\"./data/neededData2.csv\")\n",
    "print(needed.shape)\n",
    "needed = needed.drop(columns=['Unnamed: 0',])\n",
    "needed.head()"
   ]
  },
  {
   "cell_type": "code",
   "execution_count": 5,
   "metadata": {},
   "outputs": [],
   "source": [
    "# Créer un dataframe vide qui a columns == 'item_id' et index = \"Les categories des reponses: correct avec hint ==> 'CH', correct sans hint ==> 'CS', incorrect avec hint ==> 'IH' et incorrect sans hint ==> 'IS' \"\n",
    "def createEmpty_sumOfAnswers_Dataframe(data):\n",
    "    \"\"\"\n",
    "    ==> Exemple\n",
    "    sumOfAnswers_df = createEmpty_sumOfAnswers_Dataframe(needed)\n",
    "    print(empty_sumOfAnswers_df.shape)\n",
    "    empty_sumOfAnswers_df.head()\n",
    "    \"\"\"\n",
    "    column_names = data['item_id'].unique()\n",
    "    rows_name = [\"CH\",\"CS\",\"IH\",\"IS\"]\n",
    "    columns = pd.DataFrame(columns = column_names)\n",
    "    index = pd.DataFrame(rows_name, columns = ['catégories'])\n",
    "    empty_sumOfAnswers_df = pd.concat([index,columns], axis=1)\n",
    "    empty_sumOfAnswers_df = empty_sumOfAnswers_df.set_index(\"catégories\")\n",
    "    empty_sumOfAnswers_df = empty_sumOfAnswers_df.replace(np.nan,0)\n",
    "    return empty_sumOfAnswers_df\n",
    "\n",
    "# Remplir le dataframe en utilisant les valeurs de la colonne  \"answers_using_hint\"\n",
    "def fill_EmptyDataframe(data,emptyDataframe,columns):\n",
    "    \"\"\"\n",
    "    ==> Exemple\n",
    "    filled_df = fill_EmptyDataframe(needed,empty_df,columns = 'answers_using_hint')\n",
    "    print(filled_df.shape)\n",
    "    filled_df.head()\n",
    "    \"\"\"\n",
    "    filled_sumOfAnswers_df = emptyDataframe\n",
    "    column_name = data['item_id'].unique()\n",
    "    rows_name = data['user_id'].unique()\n",
    "    for i in tqdm(rows_name):\n",
    "        for j in column_name:\n",
    "            dictVal = data[(data[\"user_id\"] == i) & (data[\"item_id\"] == j)]['answers_using_hint'].value_counts()\n",
    "            chVal = filled_sumOfAnswers_df.loc[\"CH\",j]\n",
    "            csVal = filled_sumOfAnswers_df.loc[\"CS\",j]\n",
    "            ihVal = filled_sumOfAnswers_df.loc[\"IH\",j]\n",
    "            isVal = filled_sumOfAnswers_df.loc[\"IS\",j]\n",
    "            if len(dictVal) != 0:\n",
    "                for key, value in dictVal.items():\n",
    "                    key = int(key)\n",
    "                    if key == 1:\n",
    "                        chVal = int(chVal) + value\n",
    "                    elif key == 2:\n",
    "                        csVal = int(csVal) + value\n",
    "                    elif key == 3:\n",
    "                        ihVal = int(ihVal) + value\n",
    "                    elif key == 4:\n",
    "                        isVal = int(isVal) + value\n",
    "                filled_sumOfAnswers_df.loc[\"CH\",j] = chVal\n",
    "                filled_sumOfAnswers_df.loc[\"CS\",j] = csVal\n",
    "                filled_sumOfAnswers_df.loc[\"IH\",j] = ihVal\n",
    "                filled_sumOfAnswers_df.loc[\"IS\",j] = isVal\n",
    "    return filled_sumOfAnswers_df\n",
    "\n",
    "def createSumMatrix(data):\n",
    "    column_names = data['item_id'].unique()\n",
    "    rows_name = [\"CH\",\"CS\",\"IH\",\"IS\"]\n",
    "    columns = pd.DataFrame(columns = column_names)\n",
    "    index = pd.DataFrame(rows_name, columns = ['catégories'])\n",
    "    sumOfAnswers_df = pd.concat([index,columns], axis=1)\n",
    "    sumOfAnswers_df = sumOfAnswers_df.set_index(\"catégories\")\n",
    "    sumOfAnswers_df = sumOfAnswers_df.replace(np.nan,0)\n",
    "\n",
    "    column_name = data['item_id'].unique()\n",
    "    rows_name = data['user_id'].unique()\n",
    "    for i in tqdm(rows_name):\n",
    "        for j in column_name:\n",
    "            dictVal = data[(data[\"user_id\"] == i) & (data[\"item_id\"] == j)]['answers_using_hint'].value_counts()\n",
    "            chVal = sumOfAnswers_df.loc[\"CH\",j]\n",
    "            csVal = sumOfAnswers_df.loc[\"CS\",j]\n",
    "            ihVal = sumOfAnswers_df.loc[\"IH\",j]\n",
    "            isVal = sumOfAnswers_df.loc[\"IS\",j]\n",
    "            if len(dictVal) != 0:\n",
    "                for key, value in dictVal.items():\n",
    "                    key = int(key)\n",
    "                    if key == 1:\n",
    "                        chVal = int(chVal) + value\n",
    "                    elif key == 2:\n",
    "                        csVal = int(csVal) + value\n",
    "                    elif key == 3:\n",
    "                        ihVal = int(ihVal) + value\n",
    "                    elif key == 4:\n",
    "                        isVal = int(isVal) + value\n",
    "                sumOfAnswers_df.loc[\"CH\",j] = chVal\n",
    "                sumOfAnswers_df.loc[\"CS\",j] = csVal\n",
    "                sumOfAnswers_df.loc[\"IH\",j] = ihVal\n",
    "                sumOfAnswers_df.loc[\"IS\",j] = isVal\n",
    "    return sumOfAnswers_df"
   ]
  },
  {
   "cell_type": "code",
   "execution_count": 6,
   "metadata": {},
   "outputs": [
    {
     "output_type": "stream",
     "name": "stdout",
     "text": [
      "(4, 1084)\n"
     ]
    },
    {
     "output_type": "execute_result",
     "data": {
      "text/plain": [
       "            563   81    79    80    849   851   852   850   87    89    ...  \\\n",
       "catégories                                                              ...   \n",
       "CH             0     0     0     0     0     0     0     0     0     0  ...   \n",
       "CS             0     0     0     0     0     0     0     0     0     0  ...   \n",
       "IH             0     0     0     0     0     0     0     0     0     0  ...   \n",
       "IS             0     0     0     0     0     0     0     0     0     0  ...   \n",
       "\n",
       "            977   524   997   1063  251   4     710   1002  943   1001  \n",
       "catégories                                                              \n",
       "CH             0     0     0     0     0     0     0     0     0     0  \n",
       "CS             0     0     0     0     0     0     0     0     0     0  \n",
       "IH             0     0     0     0     0     0     0     0     0     0  \n",
       "IS             0     0     0     0     0     0     0     0     0     0  \n",
       "\n",
       "[4 rows x 1084 columns]"
      ],
      "text/html": "<div>\n<style scoped>\n    .dataframe tbody tr th:only-of-type {\n        vertical-align: middle;\n    }\n\n    .dataframe tbody tr th {\n        vertical-align: top;\n    }\n\n    .dataframe thead th {\n        text-align: right;\n    }\n</style>\n<table border=\"1\" class=\"dataframe\">\n  <thead>\n    <tr style=\"text-align: right;\">\n      <th></th>\n      <th>563</th>\n      <th>81</th>\n      <th>79</th>\n      <th>80</th>\n      <th>849</th>\n      <th>851</th>\n      <th>852</th>\n      <th>850</th>\n      <th>87</th>\n      <th>89</th>\n      <th>...</th>\n      <th>977</th>\n      <th>524</th>\n      <th>997</th>\n      <th>1063</th>\n      <th>251</th>\n      <th>4</th>\n      <th>710</th>\n      <th>1002</th>\n      <th>943</th>\n      <th>1001</th>\n    </tr>\n    <tr>\n      <th>catégories</th>\n      <th></th>\n      <th></th>\n      <th></th>\n      <th></th>\n      <th></th>\n      <th></th>\n      <th></th>\n      <th></th>\n      <th></th>\n      <th></th>\n      <th></th>\n      <th></th>\n      <th></th>\n      <th></th>\n      <th></th>\n      <th></th>\n      <th></th>\n      <th></th>\n      <th></th>\n      <th></th>\n      <th></th>\n    </tr>\n  </thead>\n  <tbody>\n    <tr>\n      <th>CH</th>\n      <td>0</td>\n      <td>0</td>\n      <td>0</td>\n      <td>0</td>\n      <td>0</td>\n      <td>0</td>\n      <td>0</td>\n      <td>0</td>\n      <td>0</td>\n      <td>0</td>\n      <td>...</td>\n      <td>0</td>\n      <td>0</td>\n      <td>0</td>\n      <td>0</td>\n      <td>0</td>\n      <td>0</td>\n      <td>0</td>\n      <td>0</td>\n      <td>0</td>\n      <td>0</td>\n    </tr>\n    <tr>\n      <th>CS</th>\n      <td>0</td>\n      <td>0</td>\n      <td>0</td>\n      <td>0</td>\n      <td>0</td>\n      <td>0</td>\n      <td>0</td>\n      <td>0</td>\n      <td>0</td>\n      <td>0</td>\n      <td>...</td>\n      <td>0</td>\n      <td>0</td>\n      <td>0</td>\n      <td>0</td>\n      <td>0</td>\n      <td>0</td>\n      <td>0</td>\n      <td>0</td>\n      <td>0</td>\n      <td>0</td>\n    </tr>\n    <tr>\n      <th>IH</th>\n      <td>0</td>\n      <td>0</td>\n      <td>0</td>\n      <td>0</td>\n      <td>0</td>\n      <td>0</td>\n      <td>0</td>\n      <td>0</td>\n      <td>0</td>\n      <td>0</td>\n      <td>...</td>\n      <td>0</td>\n      <td>0</td>\n      <td>0</td>\n      <td>0</td>\n      <td>0</td>\n      <td>0</td>\n      <td>0</td>\n      <td>0</td>\n      <td>0</td>\n      <td>0</td>\n    </tr>\n    <tr>\n      <th>IS</th>\n      <td>0</td>\n      <td>0</td>\n      <td>0</td>\n      <td>0</td>\n      <td>0</td>\n      <td>0</td>\n      <td>0</td>\n      <td>0</td>\n      <td>0</td>\n      <td>0</td>\n      <td>...</td>\n      <td>0</td>\n      <td>0</td>\n      <td>0</td>\n      <td>0</td>\n      <td>0</td>\n      <td>0</td>\n      <td>0</td>\n      <td>0</td>\n      <td>0</td>\n      <td>0</td>\n    </tr>\n  </tbody>\n</table>\n<p>4 rows × 1084 columns</p>\n</div>"
     },
     "metadata": {},
     "execution_count": 6
    }
   ],
   "source": [
    "empty_sumOfAnswers_df = createEmpty_sumOfAnswers_Dataframe(needed)\n",
    "print(empty_sumOfAnswers_df.shape)\n",
    "empty_sumOfAnswers_df.head()"
   ]
  },
  {
   "cell_type": "code",
   "execution_count": 7,
   "metadata": {},
   "outputs": [
    {
     "output_type": "stream",
     "name": "stderr",
     "text": [
      "100%|██████████| 569/569 [39:22<00:00,  4.15s/it](4, 1084)\n",
      "\n"
     ]
    },
    {
     "output_type": "execute_result",
     "data": {
      "text/plain": [
       "            563   81    79    80    849   851   852   850   87    89    ...  \\\n",
       "catégories                                                              ...   \n",
       "CH            45     1     1     1     9    11     2     5     0     1  ...   \n",
       "CS          1003    79    95   128   261   255   149   281    72    35  ...   \n",
       "IH           152    59    21    23    21    34    34    46    51    62  ...   \n",
       "IS          1202   333   222   180   261   231   262   291   521   497  ...   \n",
       "\n",
       "            977   524   997   1063  251   4     710   1002  943   1001  \n",
       "catégories                                                              \n",
       "CH             0     0     0     0     0     0     0     0     0     0  \n",
       "CS             7    10     0    32     5     4     0     0    16     0  \n",
       "IH             0     0     3     0     0     0    11     2     0     2  \n",
       "IS            12     0    12     0     5     0    18    15     0    15  \n",
       "\n",
       "[4 rows x 1084 columns]"
      ],
      "text/html": "<div>\n<style scoped>\n    .dataframe tbody tr th:only-of-type {\n        vertical-align: middle;\n    }\n\n    .dataframe tbody tr th {\n        vertical-align: top;\n    }\n\n    .dataframe thead th {\n        text-align: right;\n    }\n</style>\n<table border=\"1\" class=\"dataframe\">\n  <thead>\n    <tr style=\"text-align: right;\">\n      <th></th>\n      <th>563</th>\n      <th>81</th>\n      <th>79</th>\n      <th>80</th>\n      <th>849</th>\n      <th>851</th>\n      <th>852</th>\n      <th>850</th>\n      <th>87</th>\n      <th>89</th>\n      <th>...</th>\n      <th>977</th>\n      <th>524</th>\n      <th>997</th>\n      <th>1063</th>\n      <th>251</th>\n      <th>4</th>\n      <th>710</th>\n      <th>1002</th>\n      <th>943</th>\n      <th>1001</th>\n    </tr>\n    <tr>\n      <th>catégories</th>\n      <th></th>\n      <th></th>\n      <th></th>\n      <th></th>\n      <th></th>\n      <th></th>\n      <th></th>\n      <th></th>\n      <th></th>\n      <th></th>\n      <th></th>\n      <th></th>\n      <th></th>\n      <th></th>\n      <th></th>\n      <th></th>\n      <th></th>\n      <th></th>\n      <th></th>\n      <th></th>\n      <th></th>\n    </tr>\n  </thead>\n  <tbody>\n    <tr>\n      <th>CH</th>\n      <td>45</td>\n      <td>1</td>\n      <td>1</td>\n      <td>1</td>\n      <td>9</td>\n      <td>11</td>\n      <td>2</td>\n      <td>5</td>\n      <td>0</td>\n      <td>1</td>\n      <td>...</td>\n      <td>0</td>\n      <td>0</td>\n      <td>0</td>\n      <td>0</td>\n      <td>0</td>\n      <td>0</td>\n      <td>0</td>\n      <td>0</td>\n      <td>0</td>\n      <td>0</td>\n    </tr>\n    <tr>\n      <th>CS</th>\n      <td>1003</td>\n      <td>79</td>\n      <td>95</td>\n      <td>128</td>\n      <td>261</td>\n      <td>255</td>\n      <td>149</td>\n      <td>281</td>\n      <td>72</td>\n      <td>35</td>\n      <td>...</td>\n      <td>7</td>\n      <td>10</td>\n      <td>0</td>\n      <td>32</td>\n      <td>5</td>\n      <td>4</td>\n      <td>0</td>\n      <td>0</td>\n      <td>16</td>\n      <td>0</td>\n    </tr>\n    <tr>\n      <th>IH</th>\n      <td>152</td>\n      <td>59</td>\n      <td>21</td>\n      <td>23</td>\n      <td>21</td>\n      <td>34</td>\n      <td>34</td>\n      <td>46</td>\n      <td>51</td>\n      <td>62</td>\n      <td>...</td>\n      <td>0</td>\n      <td>0</td>\n      <td>3</td>\n      <td>0</td>\n      <td>0</td>\n      <td>0</td>\n      <td>11</td>\n      <td>2</td>\n      <td>0</td>\n      <td>2</td>\n    </tr>\n    <tr>\n      <th>IS</th>\n      <td>1202</td>\n      <td>333</td>\n      <td>222</td>\n      <td>180</td>\n      <td>261</td>\n      <td>231</td>\n      <td>262</td>\n      <td>291</td>\n      <td>521</td>\n      <td>497</td>\n      <td>...</td>\n      <td>12</td>\n      <td>0</td>\n      <td>12</td>\n      <td>0</td>\n      <td>5</td>\n      <td>0</td>\n      <td>18</td>\n      <td>15</td>\n      <td>0</td>\n      <td>15</td>\n    </tr>\n  </tbody>\n</table>\n<p>4 rows × 1084 columns</p>\n</div>"
     },
     "metadata": {},
     "execution_count": 7
    }
   ],
   "source": [
    "filled_df = fill_EmptyDataframe(needed,empty_sumOfAnswers_df,columns = 'answers_using_hint')\n",
    "print(filled_df.shape)\n",
    "filled_df.head()"
   ]
  },
  {
   "cell_type": "code",
   "execution_count": 8,
   "metadata": {},
   "outputs": [],
   "source": [
    "filled_df.to_csv('./data/items_categories2.csv')"
   ]
  },
  {
   "cell_type": "code",
   "execution_count": null,
   "metadata": {},
   "outputs": [],
   "source": []
  }
 ]
}