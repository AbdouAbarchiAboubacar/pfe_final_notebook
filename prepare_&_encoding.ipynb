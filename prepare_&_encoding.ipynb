{
 "cells": [
  {
   "cell_type": "code",
   "execution_count": 1,
   "metadata": {},
   "outputs": [],
   "source": [
    "import numpy as np\n",
    "import matplotlib.pyplot as plt\n",
    "import pandas as pd\n",
    "import seaborn as sns\n",
    "from tqdm import tqdm\n",
    "from datetime import datetime\n",
    "from collections import Counter\n",
    "from sklearn.preprocessing import LabelEncoder\n",
    "import pickle"
   ]
  },
  {
   "cell_type": "code",
   "execution_count": 2,
   "metadata": {},
   "outputs": [
    {
     "output_type": "stream",
     "name": "stdout",
     "text": [
      "(809694, 19)\n"
     ]
    },
    {
     "output_type": "execute_result",
     "data": {
      "text/plain": [
       "   Row Anon Student Id            Problem Hierarchy Problem Name  \\\n",
       "0    1      0BrbPbwCMz  Unit ES_04, Section ES_04-1    EG4-FIXED   \n",
       "1    2      0BrbPbwCMz  Unit ES_04, Section ES_04-1    EG4-FIXED   \n",
       "2    3      0BrbPbwCMz  Unit ES_04, Section ES_04-1         EG40   \n",
       "3    4      0BrbPbwCMz  Unit ES_04, Section ES_04-1         EG40   \n",
       "4    5      0BrbPbwCMz  Unit ES_04, Section ES_04-1         EG40   \n",
       "\n",
       "   Problem View    Step Name        Step Start Time First Transaction Time  \\\n",
       "0             1  3(x+2) = 15  2005-09-09 12:24:35.0  2005-09-09 12:24:49.0   \n",
       "1             1      x+2 = 5  2005-09-09 12:25:15.0  2005-09-09 12:25:31.0   \n",
       "2             1    2-8y = -4  2005-09-09 12:25:36.0  2005-09-09 12:25:43.0   \n",
       "3             1     -8y = -6  2005-09-09 12:26:12.0  2005-09-09 12:26:34.0   \n",
       "4             2   -7y-5 = -4  2005-09-09 12:26:38.0  2005-09-09 12:28:36.0   \n",
       "\n",
       "  Correct Transaction Time          Step End Time  Step Duration (sec)  \\\n",
       "0    2005-09-09 12:25:15.0  2005-09-09 12:25:15.0                 40.0   \n",
       "1    2005-09-09 12:25:31.0  2005-09-09 12:25:31.0                 16.0   \n",
       "2    2005-09-09 12:26:12.0  2005-09-09 12:26:12.0                 36.0   \n",
       "3    2005-09-09 12:26:34.0  2005-09-09 12:26:34.0                 22.0   \n",
       "4    2005-09-09 12:28:36.0  2005-09-09 12:28:36.0                118.0   \n",
       "\n",
       "   Correct Step Duration (sec)  Error Step Duration (sec)  \\\n",
       "0                          NaN                       40.0   \n",
       "1                         16.0                        NaN   \n",
       "2                          NaN                       36.0   \n",
       "3                         22.0                        NaN   \n",
       "4                        118.0                        NaN   \n",
       "\n",
       "   Correct First Attempt  Incorrects  Hints  Corrects  \\\n",
       "0                      0           2      3         1   \n",
       "1                      1           0      0         1   \n",
       "2                      0           2      3         1   \n",
       "3                      1           0      0         1   \n",
       "4                      1           0      0         1   \n",
       "\n",
       "                                         KC(Default) Opportunity(Default)  \n",
       "0  [SkillRule: Eliminate Parens; {CLT nested; CLT...                    1  \n",
       "1  [SkillRule: Remove constant; {ax+b=c, positive...                 1~~1  \n",
       "2  [SkillRule: Remove constant; {ax+b=c, positive...                    2  \n",
       "3  [SkillRule: Remove coefficient; {ax+b=c, divid...                 1~~1  \n",
       "4  [SkillRule: Remove constant; {ax+b=c, positive...                 3~~1  "
      ],
      "text/html": "<div>\n<style scoped>\n    .dataframe tbody tr th:only-of-type {\n        vertical-align: middle;\n    }\n\n    .dataframe tbody tr th {\n        vertical-align: top;\n    }\n\n    .dataframe thead th {\n        text-align: right;\n    }\n</style>\n<table border=\"1\" class=\"dataframe\">\n  <thead>\n    <tr style=\"text-align: right;\">\n      <th></th>\n      <th>Row</th>\n      <th>Anon Student Id</th>\n      <th>Problem Hierarchy</th>\n      <th>Problem Name</th>\n      <th>Problem View</th>\n      <th>Step Name</th>\n      <th>Step Start Time</th>\n      <th>First Transaction Time</th>\n      <th>Correct Transaction Time</th>\n      <th>Step End Time</th>\n      <th>Step Duration (sec)</th>\n      <th>Correct Step Duration (sec)</th>\n      <th>Error Step Duration (sec)</th>\n      <th>Correct First Attempt</th>\n      <th>Incorrects</th>\n      <th>Hints</th>\n      <th>Corrects</th>\n      <th>KC(Default)</th>\n      <th>Opportunity(Default)</th>\n    </tr>\n  </thead>\n  <tbody>\n    <tr>\n      <th>0</th>\n      <td>1</td>\n      <td>0BrbPbwCMz</td>\n      <td>Unit ES_04, Section ES_04-1</td>\n      <td>EG4-FIXED</td>\n      <td>1</td>\n      <td>3(x+2) = 15</td>\n      <td>2005-09-09 12:24:35.0</td>\n      <td>2005-09-09 12:24:49.0</td>\n      <td>2005-09-09 12:25:15.0</td>\n      <td>2005-09-09 12:25:15.0</td>\n      <td>40.0</td>\n      <td>NaN</td>\n      <td>40.0</td>\n      <td>0</td>\n      <td>2</td>\n      <td>3</td>\n      <td>1</td>\n      <td>[SkillRule: Eliminate Parens; {CLT nested; CLT...</td>\n      <td>1</td>\n    </tr>\n    <tr>\n      <th>1</th>\n      <td>2</td>\n      <td>0BrbPbwCMz</td>\n      <td>Unit ES_04, Section ES_04-1</td>\n      <td>EG4-FIXED</td>\n      <td>1</td>\n      <td>x+2 = 5</td>\n      <td>2005-09-09 12:25:15.0</td>\n      <td>2005-09-09 12:25:31.0</td>\n      <td>2005-09-09 12:25:31.0</td>\n      <td>2005-09-09 12:25:31.0</td>\n      <td>16.0</td>\n      <td>16.0</td>\n      <td>NaN</td>\n      <td>1</td>\n      <td>0</td>\n      <td>0</td>\n      <td>1</td>\n      <td>[SkillRule: Remove constant; {ax+b=c, positive...</td>\n      <td>1~~1</td>\n    </tr>\n    <tr>\n      <th>2</th>\n      <td>3</td>\n      <td>0BrbPbwCMz</td>\n      <td>Unit ES_04, Section ES_04-1</td>\n      <td>EG40</td>\n      <td>1</td>\n      <td>2-8y = -4</td>\n      <td>2005-09-09 12:25:36.0</td>\n      <td>2005-09-09 12:25:43.0</td>\n      <td>2005-09-09 12:26:12.0</td>\n      <td>2005-09-09 12:26:12.0</td>\n      <td>36.0</td>\n      <td>NaN</td>\n      <td>36.0</td>\n      <td>0</td>\n      <td>2</td>\n      <td>3</td>\n      <td>1</td>\n      <td>[SkillRule: Remove constant; {ax+b=c, positive...</td>\n      <td>2</td>\n    </tr>\n    <tr>\n      <th>3</th>\n      <td>4</td>\n      <td>0BrbPbwCMz</td>\n      <td>Unit ES_04, Section ES_04-1</td>\n      <td>EG40</td>\n      <td>1</td>\n      <td>-8y = -6</td>\n      <td>2005-09-09 12:26:12.0</td>\n      <td>2005-09-09 12:26:34.0</td>\n      <td>2005-09-09 12:26:34.0</td>\n      <td>2005-09-09 12:26:34.0</td>\n      <td>22.0</td>\n      <td>22.0</td>\n      <td>NaN</td>\n      <td>1</td>\n      <td>0</td>\n      <td>0</td>\n      <td>1</td>\n      <td>[SkillRule: Remove coefficient; {ax+b=c, divid...</td>\n      <td>1~~1</td>\n    </tr>\n    <tr>\n      <th>4</th>\n      <td>5</td>\n      <td>0BrbPbwCMz</td>\n      <td>Unit ES_04, Section ES_04-1</td>\n      <td>EG40</td>\n      <td>2</td>\n      <td>-7y-5 = -4</td>\n      <td>2005-09-09 12:26:38.0</td>\n      <td>2005-09-09 12:28:36.0</td>\n      <td>2005-09-09 12:28:36.0</td>\n      <td>2005-09-09 12:28:36.0</td>\n      <td>118.0</td>\n      <td>118.0</td>\n      <td>NaN</td>\n      <td>1</td>\n      <td>0</td>\n      <td>0</td>\n      <td>1</td>\n      <td>[SkillRule: Remove constant; {ax+b=c, positive...</td>\n      <td>3~~1</td>\n    </tr>\n  </tbody>\n</table>\n</div>"
     },
     "metadata": {},
     "execution_count": 2
    }
   ],
   "source": [
    "initial_data = pd.read_csv('./data/algebra_2005_2006_train.txt', delimiter = \"\\t\")\n",
    "print(initial_data.shape)\n",
    "initial_data.head()"
   ]
  },
  {
   "cell_type": "code",
   "execution_count": 3,
   "metadata": {},
   "outputs": [
    {
     "output_type": "execute_result",
     "data": {
      "text/plain": [
       "                Row   Problem View  Step Duration (sec)  \\\n",
       "count  8.096940e+05  809694.000000        808775.000000   \n",
       "mean   5.403042e+05       1.692636            27.744935   \n",
       "std    3.116039e+05       1.834555            55.246830   \n",
       "min    1.000000e+00       1.000000             0.000000   \n",
       "25%    2.707982e+05       1.000000             5.000000   \n",
       "50%    5.394415e+05       1.000000            11.000000   \n",
       "75%    8.094898e+05       2.000000            27.000000   \n",
       "max    1.080616e+06      49.000000          2701.000000   \n",
       "\n",
       "       Correct Step Duration (sec)  Error Step Duration (sec)  \\\n",
       "count                620129.000000              188646.000000   \n",
       "mean                     18.071478                  59.544133   \n",
       "std                      34.796694                  88.241827   \n",
       "min                       0.000000                   0.000000   \n",
       "25%                       5.000000                  16.000000   \n",
       "50%                       8.000000                  31.000000   \n",
       "75%                      18.000000                  66.000000   \n",
       "max                    1907.000000                2701.000000   \n",
       "\n",
       "       Correct First Attempt     Incorrects          Hints       Corrects  \n",
       "count          809694.000000  809694.000000  809694.000000  809694.000000  \n",
       "mean                0.766514       0.504276       0.302483       1.174170  \n",
       "std                 0.423049       2.036774       1.242620       0.804606  \n",
       "min                 0.000000       0.000000       0.000000       0.000000  \n",
       "25%                 1.000000       0.000000       0.000000       1.000000  \n",
       "50%                 1.000000       0.000000       0.000000       1.000000  \n",
       "75%                 1.000000       0.000000       0.000000       1.000000  \n",
       "max                 1.000000     333.000000     217.000000      73.000000  "
      ],
      "text/html": "<div>\n<style scoped>\n    .dataframe tbody tr th:only-of-type {\n        vertical-align: middle;\n    }\n\n    .dataframe tbody tr th {\n        vertical-align: top;\n    }\n\n    .dataframe thead th {\n        text-align: right;\n    }\n</style>\n<table border=\"1\" class=\"dataframe\">\n  <thead>\n    <tr style=\"text-align: right;\">\n      <th></th>\n      <th>Row</th>\n      <th>Problem View</th>\n      <th>Step Duration (sec)</th>\n      <th>Correct Step Duration (sec)</th>\n      <th>Error Step Duration (sec)</th>\n      <th>Correct First Attempt</th>\n      <th>Incorrects</th>\n      <th>Hints</th>\n      <th>Corrects</th>\n    </tr>\n  </thead>\n  <tbody>\n    <tr>\n      <th>count</th>\n      <td>8.096940e+05</td>\n      <td>809694.000000</td>\n      <td>808775.000000</td>\n      <td>620129.000000</td>\n      <td>188646.000000</td>\n      <td>809694.000000</td>\n      <td>809694.000000</td>\n      <td>809694.000000</td>\n      <td>809694.000000</td>\n    </tr>\n    <tr>\n      <th>mean</th>\n      <td>5.403042e+05</td>\n      <td>1.692636</td>\n      <td>27.744935</td>\n      <td>18.071478</td>\n      <td>59.544133</td>\n      <td>0.766514</td>\n      <td>0.504276</td>\n      <td>0.302483</td>\n      <td>1.174170</td>\n    </tr>\n    <tr>\n      <th>std</th>\n      <td>3.116039e+05</td>\n      <td>1.834555</td>\n      <td>55.246830</td>\n      <td>34.796694</td>\n      <td>88.241827</td>\n      <td>0.423049</td>\n      <td>2.036774</td>\n      <td>1.242620</td>\n      <td>0.804606</td>\n    </tr>\n    <tr>\n      <th>min</th>\n      <td>1.000000e+00</td>\n      <td>1.000000</td>\n      <td>0.000000</td>\n      <td>0.000000</td>\n      <td>0.000000</td>\n      <td>0.000000</td>\n      <td>0.000000</td>\n      <td>0.000000</td>\n      <td>0.000000</td>\n    </tr>\n    <tr>\n      <th>25%</th>\n      <td>2.707982e+05</td>\n      <td>1.000000</td>\n      <td>5.000000</td>\n      <td>5.000000</td>\n      <td>16.000000</td>\n      <td>1.000000</td>\n      <td>0.000000</td>\n      <td>0.000000</td>\n      <td>1.000000</td>\n    </tr>\n    <tr>\n      <th>50%</th>\n      <td>5.394415e+05</td>\n      <td>1.000000</td>\n      <td>11.000000</td>\n      <td>8.000000</td>\n      <td>31.000000</td>\n      <td>1.000000</td>\n      <td>0.000000</td>\n      <td>0.000000</td>\n      <td>1.000000</td>\n    </tr>\n    <tr>\n      <th>75%</th>\n      <td>8.094898e+05</td>\n      <td>2.000000</td>\n      <td>27.000000</td>\n      <td>18.000000</td>\n      <td>66.000000</td>\n      <td>1.000000</td>\n      <td>0.000000</td>\n      <td>0.000000</td>\n      <td>1.000000</td>\n    </tr>\n    <tr>\n      <th>max</th>\n      <td>1.080616e+06</td>\n      <td>49.000000</td>\n      <td>2701.000000</td>\n      <td>1907.000000</td>\n      <td>2701.000000</td>\n      <td>1.000000</td>\n      <td>333.000000</td>\n      <td>217.000000</td>\n      <td>73.000000</td>\n    </tr>\n  </tbody>\n</table>\n</div>"
     },
     "metadata": {},
     "execution_count": 3
    }
   ],
   "source": [
    "initial_data.describe()"
   ]
  },
  {
   "cell_type": "markdown",
   "metadata": {},
   "source": [
    "# Collecter les données"
   ]
  },
  {
   "cell_type": "code",
   "execution_count": 4,
   "metadata": {},
   "outputs": [
    {
     "output_type": "execute_result",
     "data": {
      "text/plain": [
       "Index(['Row', 'Anon Student Id', 'Problem Hierarchy', 'Problem Name',\n",
       "       'Problem View', 'Step Name', 'Step Start Time',\n",
       "       'First Transaction Time', 'Correct Transaction Time', 'Step End Time',\n",
       "       'Step Duration (sec)', 'Correct Step Duration (sec)',\n",
       "       'Error Step Duration (sec)', 'Correct First Attempt', 'Incorrects',\n",
       "       'Hints', 'Corrects', 'KC(Default)', 'Opportunity(Default)'],\n",
       "      dtype='object')"
      ]
     },
     "metadata": {},
     "execution_count": 4
    }
   ],
   "source": [
    "initial_data.columns"
   ]
  },
  {
   "cell_type": "code",
   "execution_count": 5,
   "metadata": {},
   "outputs": [
    {
     "output_type": "execute_result",
     "data": {
      "text/plain": [
       "138"
      ]
     },
     "metadata": {},
     "execution_count": 5
    }
   ],
   "source": [
    "len(initial_data['Problem Hierarchy'].unique())"
   ]
  },
  {
   "cell_type": "code",
   "execution_count": 6,
   "metadata": {},
   "outputs": [
    {
     "output_type": "execute_result",
     "data": {
      "text/plain": [
       "           user_id    item_id              timestamp  correct  nb_hint\n",
       "0       0BrbPbwCMz  EG4-FIXED  2005-09-09 12:24:49.0        0        3\n",
       "1       0BrbPbwCMz  EG4-FIXED  2005-09-09 12:25:31.0        1        0\n",
       "2       0BrbPbwCMz       EG40  2005-09-09 12:25:43.0        0        3\n",
       "3       0BrbPbwCMz       EG40  2005-09-09 12:26:34.0        1        0\n",
       "4       0BrbPbwCMz       EG40  2005-09-09 12:28:36.0        1        0\n",
       "...            ...        ...                    ...      ...      ...\n",
       "809689  IQQo3367x0       EG40  2006-03-09 10:58:13.0        1        0\n",
       "809690  IQQo3367x0       EG40  2006-03-09 10:58:18.0        1        0\n",
       "809691  IQQo3367x0       EG40  2006-03-09 10:58:22.0        0        3\n",
       "809692  IQQo3367x0       EG40  2006-03-09 10:58:44.0        1        0\n",
       "809693  IQQo3367x0       EG40  2006-03-09 10:59:03.0        0        3\n",
       "\n",
       "[809694 rows x 5 columns]"
      ],
      "text/html": "<div>\n<style scoped>\n    .dataframe tbody tr th:only-of-type {\n        vertical-align: middle;\n    }\n\n    .dataframe tbody tr th {\n        vertical-align: top;\n    }\n\n    .dataframe thead th {\n        text-align: right;\n    }\n</style>\n<table border=\"1\" class=\"dataframe\">\n  <thead>\n    <tr style=\"text-align: right;\">\n      <th></th>\n      <th>user_id</th>\n      <th>item_id</th>\n      <th>timestamp</th>\n      <th>correct</th>\n      <th>nb_hint</th>\n    </tr>\n  </thead>\n  <tbody>\n    <tr>\n      <th>0</th>\n      <td>0BrbPbwCMz</td>\n      <td>EG4-FIXED</td>\n      <td>2005-09-09 12:24:49.0</td>\n      <td>0</td>\n      <td>3</td>\n    </tr>\n    <tr>\n      <th>1</th>\n      <td>0BrbPbwCMz</td>\n      <td>EG4-FIXED</td>\n      <td>2005-09-09 12:25:31.0</td>\n      <td>1</td>\n      <td>0</td>\n    </tr>\n    <tr>\n      <th>2</th>\n      <td>0BrbPbwCMz</td>\n      <td>EG40</td>\n      <td>2005-09-09 12:25:43.0</td>\n      <td>0</td>\n      <td>3</td>\n    </tr>\n    <tr>\n      <th>3</th>\n      <td>0BrbPbwCMz</td>\n      <td>EG40</td>\n      <td>2005-09-09 12:26:34.0</td>\n      <td>1</td>\n      <td>0</td>\n    </tr>\n    <tr>\n      <th>4</th>\n      <td>0BrbPbwCMz</td>\n      <td>EG40</td>\n      <td>2005-09-09 12:28:36.0</td>\n      <td>1</td>\n      <td>0</td>\n    </tr>\n    <tr>\n      <th>...</th>\n      <td>...</td>\n      <td>...</td>\n      <td>...</td>\n      <td>...</td>\n      <td>...</td>\n    </tr>\n    <tr>\n      <th>809689</th>\n      <td>IQQo3367x0</td>\n      <td>EG40</td>\n      <td>2006-03-09 10:58:13.0</td>\n      <td>1</td>\n      <td>0</td>\n    </tr>\n    <tr>\n      <th>809690</th>\n      <td>IQQo3367x0</td>\n      <td>EG40</td>\n      <td>2006-03-09 10:58:18.0</td>\n      <td>1</td>\n      <td>0</td>\n    </tr>\n    <tr>\n      <th>809691</th>\n      <td>IQQo3367x0</td>\n      <td>EG40</td>\n      <td>2006-03-09 10:58:22.0</td>\n      <td>0</td>\n      <td>3</td>\n    </tr>\n    <tr>\n      <th>809692</th>\n      <td>IQQo3367x0</td>\n      <td>EG40</td>\n      <td>2006-03-09 10:58:44.0</td>\n      <td>1</td>\n      <td>0</td>\n    </tr>\n    <tr>\n      <th>809693</th>\n      <td>IQQo3367x0</td>\n      <td>EG40</td>\n      <td>2006-03-09 10:59:03.0</td>\n      <td>0</td>\n      <td>3</td>\n    </tr>\n  </tbody>\n</table>\n<p>809694 rows × 5 columns</p>\n</div>"
     },
     "metadata": {},
     "execution_count": 6
    }
   ],
   "source": [
    "initial_data = initial_data.rename(columns={'Anon Student Id': 'user_id','Problem Name': 'item_id','Step Name': 'step_id','KC(Default)': 'kc_id','First Transaction Time': 'timestamp','Correct First Attempt': 'correct',\"Hints\":'nb_hint','Incorrects':'incorrect','Corrects':'incorrect_?'})\n",
    "needed = initial_data[[\"user_id\",\"item_id\",\"timestamp\",\"correct\",\"nb_hint\"]]\n",
    "needed"
   ]
  },
  {
   "cell_type": "code",
   "execution_count": 7,
   "metadata": {},
   "outputs": [
    {
     "output_type": "stream",
     "name": "stdout",
     "text": [
      "(809660, 5)\n"
     ]
    },
    {
     "output_type": "execute_result",
     "data": {
      "text/plain": [
       "           user_id     item_id   timestamp  correct  nb_hint\n",
       "535958  45TTYcotWk  LDEMO_WKST  1125395408        0        0\n",
       "562642  HvghFVBS5v  LDEMO_WKST  1125395410        1        0\n",
       "569598  IQ98biy227  LDEMO_WKST  1125395414        1        0\n",
       "555691  Dmq6441349  LDEMO_WKST  1125395416        1        0\n",
       "545705  80nlN05JQ6  LDEMO_WKST  1125395419        0        0"
      ],
      "text/html": "<div>\n<style scoped>\n    .dataframe tbody tr th:only-of-type {\n        vertical-align: middle;\n    }\n\n    .dataframe tbody tr th {\n        vertical-align: top;\n    }\n\n    .dataframe thead th {\n        text-align: right;\n    }\n</style>\n<table border=\"1\" class=\"dataframe\">\n  <thead>\n    <tr style=\"text-align: right;\">\n      <th></th>\n      <th>user_id</th>\n      <th>item_id</th>\n      <th>timestamp</th>\n      <th>correct</th>\n      <th>nb_hint</th>\n    </tr>\n  </thead>\n  <tbody>\n    <tr>\n      <th>535958</th>\n      <td>45TTYcotWk</td>\n      <td>LDEMO_WKST</td>\n      <td>1125395408</td>\n      <td>0</td>\n      <td>0</td>\n    </tr>\n    <tr>\n      <th>562642</th>\n      <td>HvghFVBS5v</td>\n      <td>LDEMO_WKST</td>\n      <td>1125395410</td>\n      <td>1</td>\n      <td>0</td>\n    </tr>\n    <tr>\n      <th>569598</th>\n      <td>IQ98biy227</td>\n      <td>LDEMO_WKST</td>\n      <td>1125395414</td>\n      <td>1</td>\n      <td>0</td>\n    </tr>\n    <tr>\n      <th>555691</th>\n      <td>Dmq6441349</td>\n      <td>LDEMO_WKST</td>\n      <td>1125395416</td>\n      <td>1</td>\n      <td>0</td>\n    </tr>\n    <tr>\n      <th>545705</th>\n      <td>80nlN05JQ6</td>\n      <td>LDEMO_WKST</td>\n      <td>1125395419</td>\n      <td>0</td>\n      <td>0</td>\n    </tr>\n  </tbody>\n</table>\n</div>"
     },
     "metadata": {},
     "execution_count": 7
    }
   ],
   "source": [
    "needed['timestamp'] = pd.to_datetime(needed['timestamp']).map(lambda t: t.timestamp()).round().astype(np.int32)\n",
    "\n",
    "# Conservez uniquement les utilisateurs avec au moins 10 interactions\n",
    "needed = needed.groupby(\"user_id\").filter(lambda x: len(x) >= 10)\n",
    "\n",
    "# Supprimer les entrées où le résultat n'est pas binaire mais continu\n",
    "needed = needed[needed.correct.isin([0, 1])]\n",
    "needed['correct'] = needed['correct'].astype(np.int32)\n",
    "\n",
    "# Trier la colonne \"timestamp\" et changer le nom de la colonne\n",
    "needed = needed.sort_values('timestamp')\n",
    "print(needed.shape)\n",
    "needed.head()"
   ]
  },
  {
   "cell_type": "markdown",
   "metadata": {},
   "source": [
    "# Encodage"
   ]
  },
  {
   "cell_type": "code",
   "execution_count": 8,
   "metadata": {},
   "outputs": [
    {
     "output_type": "execute_result",
     "data": {
      "text/plain": [
       "\"\\nimport pickle \\npkl_file = open('Departure_encoder.pkl', 'rb')\\nle_departure = pickle.load(pkl_file) \\npkl_file.close()\\ndf_test['Departure'] = le_departure.transform(df_test['Departure'])\\n\""
      ]
     },
     "metadata": {},
     "execution_count": 8
    }
   ],
   "source": [
    "userId_encoder = LabelEncoder()\n",
    "itemId_encoder = LabelEncoder()\n",
    "\n",
    "needed[\"user_id\"] = userId_encoder.fit_transform(needed[\"user_id\"])\n",
    "needed[\"item_id\"] = itemId_encoder.fit_transform(needed[\"item_id\"])\n",
    "\n",
    "# Save user_id and item_id encoder\n",
    "####\n",
    "outputUserInEncoder = open('userId_encoder.pkl', 'wb')\n",
    "pickle.dump(userId_encoder, outputUserInEncoder)\n",
    "outputUserInEncoder.close()\n",
    "####\n",
    "outputItemInEncoder = open('itemId_encoder.pkl', 'wb')\n",
    "pickle.dump(itemId_encoder, outputItemInEncoder)\n",
    "outputItemInEncoder.close()\n",
    "\n",
    "needed.head()\n",
    "\n",
    "### Load saved encoder\n",
    "\"\"\"\n",
    "import pickle \n",
    "pkl_file = open('Departure_encoder.pkl', 'rb')\n",
    "le_departure = pickle.load(pkl_file) \n",
    "pkl_file.close()\n",
    "df_test['Departure'] = le_departure.transform(df_test['Departure'])\n",
    "\"\"\""
   ]
  },
  {
   "cell_type": "code",
   "execution_count": 9,
   "metadata": {},
   "outputs": [],
   "source": [
    "# replace user_id and item_id where id == 0\n",
    "needed[\"user_id\"].replace(0,len(needed['user_id'].unique()),inplace=True)\n",
    "needed[\"item_id\"].replace(0,len(needed['item_id'].unique()),inplace=True)"
   ]
  },
  {
   "cell_type": "code",
   "execution_count": 10,
   "metadata": {},
   "outputs": [
    {
     "output_type": "execute_result",
     "data": {
      "text/plain": [
       "        user_id  item_id   timestamp  correct  nb_hint  answers_using_hint\n",
       "535958       72      563  1125395408        0        0                   4\n",
       "562642      247      563  1125395410        1        0                   2\n",
       "569598      249      563  1125395414        1        0                   2\n",
       "555691      212      563  1125395416        1        0                   2\n",
       "545705      154      563  1125395419        0        0                   4"
      ],
      "text/html": "<div>\n<style scoped>\n    .dataframe tbody tr th:only-of-type {\n        vertical-align: middle;\n    }\n\n    .dataframe tbody tr th {\n        vertical-align: top;\n    }\n\n    .dataframe thead th {\n        text-align: right;\n    }\n</style>\n<table border=\"1\" class=\"dataframe\">\n  <thead>\n    <tr style=\"text-align: right;\">\n      <th></th>\n      <th>user_id</th>\n      <th>item_id</th>\n      <th>timestamp</th>\n      <th>correct</th>\n      <th>nb_hint</th>\n      <th>answers_using_hint</th>\n    </tr>\n  </thead>\n  <tbody>\n    <tr>\n      <th>535958</th>\n      <td>72</td>\n      <td>563</td>\n      <td>1125395408</td>\n      <td>0</td>\n      <td>0</td>\n      <td>4</td>\n    </tr>\n    <tr>\n      <th>562642</th>\n      <td>247</td>\n      <td>563</td>\n      <td>1125395410</td>\n      <td>1</td>\n      <td>0</td>\n      <td>2</td>\n    </tr>\n    <tr>\n      <th>569598</th>\n      <td>249</td>\n      <td>563</td>\n      <td>1125395414</td>\n      <td>1</td>\n      <td>0</td>\n      <td>2</td>\n    </tr>\n    <tr>\n      <th>555691</th>\n      <td>212</td>\n      <td>563</td>\n      <td>1125395416</td>\n      <td>1</td>\n      <td>0</td>\n      <td>2</td>\n    </tr>\n    <tr>\n      <th>545705</th>\n      <td>154</td>\n      <td>563</td>\n      <td>1125395419</td>\n      <td>0</td>\n      <td>0</td>\n      <td>4</td>\n    </tr>\n  </tbody>\n</table>\n</div>"
     },
     "metadata": {},
     "execution_count": 10
    }
   ],
   "source": [
    "conditions = [\n",
    "    (needed['correct'] == 1) & (needed['nb_hint'] > 0),\n",
    "    (needed['correct'] == 1) & (needed['nb_hint'] == 0),\n",
    "    (needed['correct'] == 0) & (needed['nb_hint'] > 0),\n",
    "    (needed['correct'] == 0) & (needed['nb_hint'] == 0)\n",
    "    ]\n",
    "# 1 ==> Correct avec hint\n",
    "# 2 ==> Correct sans hint\n",
    "# 3 ==> Incorrect avec hint\n",
    "# 4 ==> Incorrect sans hint\n",
    "values = [1, 2, 3, 4]\n",
    "\n",
    "# create a new column and use np.select to assign values to it using our lists as arguments\n",
    "needed['answers_using_hint'] = np.select(conditions, values)\n",
    "needed.head()"
   ]
  },
  {
   "cell_type": "code",
   "execution_count": 11,
   "metadata": {},
   "outputs": [
    {
     "output_type": "execute_result",
     "data": {
      "text/plain": [
       "{'user_ids': 569, 'item_ids': 1084, 'observations': 809660}"
      ]
     },
     "metadata": {},
     "execution_count": 11
    }
   ],
   "source": [
    "## dataConfig \n",
    "users = len(needed['user_id'].unique())\n",
    "items = len(needed['item_id'].unique())\n",
    "n_observations = len(needed)\n",
    "config = {\n",
    "    'user_ids': users,\n",
    "    'item_ids': items,\n",
    "    'observations': n_observations,\n",
    "}\n",
    "config"
   ]
  },
  {
   "cell_type": "code",
   "execution_count": 39,
   "metadata": {},
   "outputs": [],
   "source": [
    "# Save needed Data to csv file\n",
    "# needed.to_csv(\"./data/neededData.csv\")"
   ]
  },
  {
   "cell_type": "code",
   "execution_count": 12,
   "metadata": {},
   "outputs": [],
   "source": [
    "import matplotlib.pyplot as plt\n",
    "import pandas as pd\n",
    "from pandas.plotting import table # EDIT: see deprecation warnings below"
   ]
  },
  {
   "cell_type": "code",
   "execution_count": 13,
   "metadata": {},
   "outputs": [],
   "source": [
    "from bokeh.io import export_png, export_svgs\n",
    "from bokeh.models import ColumnDataSource, DataTable, TableColumn\n",
    "\n",
    "def save_df_as_image(df, path):\n",
    "    source = ColumnDataSource(df)\n",
    "    df_columns = [df.index.name]\n",
    "    df_columns.extend(df.columns.values)\n",
    "    columns_for_table=[]\n",
    "    for column in df_columns:\n",
    "        columns_for_table.append(TableColumn(field=column, title=column))\n",
    "\n",
    "    data_table = DataTable(source=source, columns=columns_for_table,height_policy=\"auto\",width_policy=\"auto\",index_position=None)\n",
    "    export_png(data_table, filename = path)"
   ]
  },
  {
   "cell_type": "code",
   "execution_count": 22,
   "metadata": {},
   "outputs": [
    {
     "output_type": "execute_result",
     "data": {
      "text/plain": [
       "        user_id  item_id  correct  nb_hint  answers_using_hint\n",
       "535958       72      563        0        0                   4\n",
       "562642      247      563        1        0                   2\n",
       "569598      249      563        1        0                   2\n",
       "555691      212      563        1        0                   2\n",
       "545705      154      563        0        0                   4\n",
       "...         ...      ...      ...      ...                 ...\n",
       "478819      392      482        1        0                   2\n",
       "478820      392      482        0        4                   3\n",
       "478821      392      482        1        0                   2\n",
       "478822      392      482        1        0                   2\n",
       "478823      392      482        1        0                   2\n",
       "\n",
       "[809660 rows x 5 columns]"
      ],
      "text/html": "<div>\n<style scoped>\n    .dataframe tbody tr th:only-of-type {\n        vertical-align: middle;\n    }\n\n    .dataframe tbody tr th {\n        vertical-align: top;\n    }\n\n    .dataframe thead th {\n        text-align: right;\n    }\n</style>\n<table border=\"1\" class=\"dataframe\">\n  <thead>\n    <tr style=\"text-align: right;\">\n      <th></th>\n      <th>user_id</th>\n      <th>item_id</th>\n      <th>correct</th>\n      <th>nb_hint</th>\n      <th>answers_using_hint</th>\n    </tr>\n  </thead>\n  <tbody>\n    <tr>\n      <th>535958</th>\n      <td>72</td>\n      <td>563</td>\n      <td>0</td>\n      <td>0</td>\n      <td>4</td>\n    </tr>\n    <tr>\n      <th>562642</th>\n      <td>247</td>\n      <td>563</td>\n      <td>1</td>\n      <td>0</td>\n      <td>2</td>\n    </tr>\n    <tr>\n      <th>569598</th>\n      <td>249</td>\n      <td>563</td>\n      <td>1</td>\n      <td>0</td>\n      <td>2</td>\n    </tr>\n    <tr>\n      <th>555691</th>\n      <td>212</td>\n      <td>563</td>\n      <td>1</td>\n      <td>0</td>\n      <td>2</td>\n    </tr>\n    <tr>\n      <th>545705</th>\n      <td>154</td>\n      <td>563</td>\n      <td>0</td>\n      <td>0</td>\n      <td>4</td>\n    </tr>\n    <tr>\n      <th>...</th>\n      <td>...</td>\n      <td>...</td>\n      <td>...</td>\n      <td>...</td>\n      <td>...</td>\n    </tr>\n    <tr>\n      <th>478819</th>\n      <td>392</td>\n      <td>482</td>\n      <td>1</td>\n      <td>0</td>\n      <td>2</td>\n    </tr>\n    <tr>\n      <th>478820</th>\n      <td>392</td>\n      <td>482</td>\n      <td>0</td>\n      <td>4</td>\n      <td>3</td>\n    </tr>\n    <tr>\n      <th>478821</th>\n      <td>392</td>\n      <td>482</td>\n      <td>1</td>\n      <td>0</td>\n      <td>2</td>\n    </tr>\n    <tr>\n      <th>478822</th>\n      <td>392</td>\n      <td>482</td>\n      <td>1</td>\n      <td>0</td>\n      <td>2</td>\n    </tr>\n    <tr>\n      <th>478823</th>\n      <td>392</td>\n      <td>482</td>\n      <td>1</td>\n      <td>0</td>\n      <td>2</td>\n    </tr>\n  </tbody>\n</table>\n<p>809660 rows × 5 columns</p>\n</div>"
     },
     "metadata": {},
     "execution_count": 22
    }
   ],
   "source": [
    "needed2 = needed[['user_id','item_id','correct','nb_hint','answers_using_hint']]\n",
    "needed2"
   ]
  },
  {
   "cell_type": "code",
   "execution_count": 21,
   "metadata": {},
   "outputs": [
    {
     "output_type": "execute_result",
     "data": {
      "text/plain": [
       "    user_id  item_id  correct  nb_hint  answers_using_hint\n",
       "0        72      563        0        0                   4\n",
       "1       247      563        1        0                   2\n",
       "2       249      563        1        0                   2\n",
       "3       212      563        1        0                   2\n",
       "4       154      563        0        0                   4\n",
       "..      ...      ...      ...      ...                 ...\n",
       "95      249      563        1        0                   2\n",
       "96       60      563        1        0                   2\n",
       "97      249      563        1        0                   2\n",
       "98       18      563        1        0                   2\n",
       "99      247      563        1        0                   2\n",
       "\n",
       "[100 rows x 5 columns]"
      ],
      "text/html": "<div>\n<style scoped>\n    .dataframe tbody tr th:only-of-type {\n        vertical-align: middle;\n    }\n\n    .dataframe tbody tr th {\n        vertical-align: top;\n    }\n\n    .dataframe thead th {\n        text-align: right;\n    }\n</style>\n<table border=\"1\" class=\"dataframe\">\n  <thead>\n    <tr style=\"text-align: right;\">\n      <th></th>\n      <th>user_id</th>\n      <th>item_id</th>\n      <th>correct</th>\n      <th>nb_hint</th>\n      <th>answers_using_hint</th>\n    </tr>\n  </thead>\n  <tbody>\n    <tr>\n      <th>0</th>\n      <td>72</td>\n      <td>563</td>\n      <td>0</td>\n      <td>0</td>\n      <td>4</td>\n    </tr>\n    <tr>\n      <th>1</th>\n      <td>247</td>\n      <td>563</td>\n      <td>1</td>\n      <td>0</td>\n      <td>2</td>\n    </tr>\n    <tr>\n      <th>2</th>\n      <td>249</td>\n      <td>563</td>\n      <td>1</td>\n      <td>0</td>\n      <td>2</td>\n    </tr>\n    <tr>\n      <th>3</th>\n      <td>212</td>\n      <td>563</td>\n      <td>1</td>\n      <td>0</td>\n      <td>2</td>\n    </tr>\n    <tr>\n      <th>4</th>\n      <td>154</td>\n      <td>563</td>\n      <td>0</td>\n      <td>0</td>\n      <td>4</td>\n    </tr>\n    <tr>\n      <th>...</th>\n      <td>...</td>\n      <td>...</td>\n      <td>...</td>\n      <td>...</td>\n      <td>...</td>\n    </tr>\n    <tr>\n      <th>95</th>\n      <td>249</td>\n      <td>563</td>\n      <td>1</td>\n      <td>0</td>\n      <td>2</td>\n    </tr>\n    <tr>\n      <th>96</th>\n      <td>60</td>\n      <td>563</td>\n      <td>1</td>\n      <td>0</td>\n      <td>2</td>\n    </tr>\n    <tr>\n      <th>97</th>\n      <td>249</td>\n      <td>563</td>\n      <td>1</td>\n      <td>0</td>\n      <td>2</td>\n    </tr>\n    <tr>\n      <th>98</th>\n      <td>18</td>\n      <td>563</td>\n      <td>1</td>\n      <td>0</td>\n      <td>2</td>\n    </tr>\n    <tr>\n      <th>99</th>\n      <td>247</td>\n      <td>563</td>\n      <td>1</td>\n      <td>0</td>\n      <td>2</td>\n    </tr>\n  </tbody>\n</table>\n<p>100 rows × 5 columns</p>\n</div>"
     },
     "metadata": {},
     "execution_count": 21
    }
   ],
   "source": [
    "exemple = needed.iloc[0:100,:]\n",
    "exemple = exemple.reset_index()\n",
    "exemple = exemple.drop('index', 1)\n",
    "exemple = exemple[['user_id','item_id','correct','nb_hint','answers_using_hint']]\n",
    "exemple"
   ]
  },
  {
   "cell_type": "code",
   "execution_count": 18,
   "metadata": {},
   "outputs": [
    {
     "output_type": "execute_result",
     "data": {
      "text/plain": [
       "    user_id  item_id  correct  nb_hint  answers_using_hint   timestamp\n",
       "0        72      563        0        0                   4  1125395408\n",
       "1       247      563        1        0                   2  1125395410\n",
       "2       249      563        1        0                   2  1125395414\n",
       "3       212      563        1        0                   2  1125395416\n",
       "4       154      563        0        0                   4  1125395419\n",
       "..      ...      ...      ...      ...                 ...         ...\n",
       "95      249      563        1        0                   2  1125396088\n",
       "96       60      563        1        0                   2  1125396093\n",
       "97      249      563        1        0                   2  1125396094\n",
       "98       18      563        1        0                   2  1125396097\n",
       "99      247      563        1        0                   2  1125396099\n",
       "\n",
       "[100 rows x 6 columns]"
      ],
      "text/html": "<div>\n<style scoped>\n    .dataframe tbody tr th:only-of-type {\n        vertical-align: middle;\n    }\n\n    .dataframe tbody tr th {\n        vertical-align: top;\n    }\n\n    .dataframe thead th {\n        text-align: right;\n    }\n</style>\n<table border=\"1\" class=\"dataframe\">\n  <thead>\n    <tr style=\"text-align: right;\">\n      <th></th>\n      <th>user_id</th>\n      <th>item_id</th>\n      <th>correct</th>\n      <th>nb_hint</th>\n      <th>answers_using_hint</th>\n      <th>timestamp</th>\n    </tr>\n  </thead>\n  <tbody>\n    <tr>\n      <th>0</th>\n      <td>72</td>\n      <td>563</td>\n      <td>0</td>\n      <td>0</td>\n      <td>4</td>\n      <td>1125395408</td>\n    </tr>\n    <tr>\n      <th>1</th>\n      <td>247</td>\n      <td>563</td>\n      <td>1</td>\n      <td>0</td>\n      <td>2</td>\n      <td>1125395410</td>\n    </tr>\n    <tr>\n      <th>2</th>\n      <td>249</td>\n      <td>563</td>\n      <td>1</td>\n      <td>0</td>\n      <td>2</td>\n      <td>1125395414</td>\n    </tr>\n    <tr>\n      <th>3</th>\n      <td>212</td>\n      <td>563</td>\n      <td>1</td>\n      <td>0</td>\n      <td>2</td>\n      <td>1125395416</td>\n    </tr>\n    <tr>\n      <th>4</th>\n      <td>154</td>\n      <td>563</td>\n      <td>0</td>\n      <td>0</td>\n      <td>4</td>\n      <td>1125395419</td>\n    </tr>\n    <tr>\n      <th>...</th>\n      <td>...</td>\n      <td>...</td>\n      <td>...</td>\n      <td>...</td>\n      <td>...</td>\n      <td>...</td>\n    </tr>\n    <tr>\n      <th>95</th>\n      <td>249</td>\n      <td>563</td>\n      <td>1</td>\n      <td>0</td>\n      <td>2</td>\n      <td>1125396088</td>\n    </tr>\n    <tr>\n      <th>96</th>\n      <td>60</td>\n      <td>563</td>\n      <td>1</td>\n      <td>0</td>\n      <td>2</td>\n      <td>1125396093</td>\n    </tr>\n    <tr>\n      <th>97</th>\n      <td>249</td>\n      <td>563</td>\n      <td>1</td>\n      <td>0</td>\n      <td>2</td>\n      <td>1125396094</td>\n    </tr>\n    <tr>\n      <th>98</th>\n      <td>18</td>\n      <td>563</td>\n      <td>1</td>\n      <td>0</td>\n      <td>2</td>\n      <td>1125396097</td>\n    </tr>\n    <tr>\n      <th>99</th>\n      <td>247</td>\n      <td>563</td>\n      <td>1</td>\n      <td>0</td>\n      <td>2</td>\n      <td>1125396099</td>\n    </tr>\n  </tbody>\n</table>\n<p>100 rows × 6 columns</p>\n</div>"
     },
     "metadata": {},
     "execution_count": 18
    }
   ],
   "source": [
    "exemple"
   ]
  },
  {
   "cell_type": "code",
   "execution_count": 19,
   "metadata": {},
   "outputs": [],
   "source": [
    "save_df_as_image(exemple, \"plot.png\")"
   ]
  },
  {
   "cell_type": "code",
   "execution_count": 20,
   "metadata": {},
   "outputs": [],
   "source": [
    "save_df_as_image(initial_data, \"initial_dataset.png\")"
   ]
  },
  {
   "cell_type": "code",
   "execution_count": null,
   "metadata": {},
   "outputs": [],
   "source": []
  }
 ],
 "metadata": {
  "kernelspec": {
   "display_name": "Python 3",
   "language": "python",
   "name": "python3"
  },
  "language_info": {
   "codemirror_mode": {
    "name": "ipython",
    "version": 3
   },
   "file_extension": ".py",
   "mimetype": "text/x-python",
   "name": "python",
   "nbconvert_exporter": "python",
   "pygments_lexer": "ipython3",
   "version": "3.8.5"
  }
 },
 "nbformat": 4,
 "nbformat_minor": 2
}