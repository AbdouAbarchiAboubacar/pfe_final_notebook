{
 "cells": [
  {
   "cell_type": "code",
   "execution_count": 1,
   "metadata": {},
   "outputs": [],
   "source": [
    "import numpy as np\n",
    "import matplotlib.pyplot as plt\n",
    "import pandas as pd\n",
    "import seaborn as sns\n",
    "from tqdm import tqdm\n",
    "from datetime import datetime\n",
    "from collections import Counter\n",
    "from sklearn.preprocessing import LabelEncoder\n",
    "import pickle"
   ]
  },
  {
   "cell_type": "code",
   "execution_count": 105,
   "metadata": {},
   "outputs": [
    {
     "output_type": "stream",
     "name": "stdout",
     "text": [
      "(809694, 19)\n"
     ]
    },
    {
     "output_type": "execute_result",
     "data": {
      "text/plain": [
       "   Row Anon Student Id            Problem Hierarchy Problem Name  \\\n",
       "0    1      0BrbPbwCMz  Unit ES_04, Section ES_04-1    EG4-FIXED   \n",
       "1    2      0BrbPbwCMz  Unit ES_04, Section ES_04-1    EG4-FIXED   \n",
       "2    3      0BrbPbwCMz  Unit ES_04, Section ES_04-1         EG40   \n",
       "3    4      0BrbPbwCMz  Unit ES_04, Section ES_04-1         EG40   \n",
       "4    5      0BrbPbwCMz  Unit ES_04, Section ES_04-1         EG40   \n",
       "\n",
       "   Problem View    Step Name        Step Start Time First Transaction Time  \\\n",
       "0             1  3(x+2) = 15  2005-09-09 12:24:35.0  2005-09-09 12:24:49.0   \n",
       "1             1      x+2 = 5  2005-09-09 12:25:15.0  2005-09-09 12:25:31.0   \n",
       "2             1    2-8y = -4  2005-09-09 12:25:36.0  2005-09-09 12:25:43.0   \n",
       "3             1     -8y = -6  2005-09-09 12:26:12.0  2005-09-09 12:26:34.0   \n",
       "4             2   -7y-5 = -4  2005-09-09 12:26:38.0  2005-09-09 12:28:36.0   \n",
       "\n",
       "  Correct Transaction Time          Step End Time  Step Duration (sec)  \\\n",
       "0    2005-09-09 12:25:15.0  2005-09-09 12:25:15.0                 40.0   \n",
       "1    2005-09-09 12:25:31.0  2005-09-09 12:25:31.0                 16.0   \n",
       "2    2005-09-09 12:26:12.0  2005-09-09 12:26:12.0                 36.0   \n",
       "3    2005-09-09 12:26:34.0  2005-09-09 12:26:34.0                 22.0   \n",
       "4    2005-09-09 12:28:36.0  2005-09-09 12:28:36.0                118.0   \n",
       "\n",
       "   Correct Step Duration (sec)  Error Step Duration (sec)  \\\n",
       "0                          NaN                       40.0   \n",
       "1                         16.0                        NaN   \n",
       "2                          NaN                       36.0   \n",
       "3                         22.0                        NaN   \n",
       "4                        118.0                        NaN   \n",
       "\n",
       "   Correct First Attempt  Incorrects  Hints  Corrects  \\\n",
       "0                      0           2      3         1   \n",
       "1                      1           0      0         1   \n",
       "2                      0           2      3         1   \n",
       "3                      1           0      0         1   \n",
       "4                      1           0      0         1   \n",
       "\n",
       "                                         KC(Default) Opportunity(Default)  \n",
       "0  [SkillRule: Eliminate Parens; {CLT nested; CLT...                    1  \n",
       "1  [SkillRule: Remove constant; {ax+b=c, positive...                 1~~1  \n",
       "2  [SkillRule: Remove constant; {ax+b=c, positive...                    2  \n",
       "3  [SkillRule: Remove coefficient; {ax+b=c, divid...                 1~~1  \n",
       "4  [SkillRule: Remove constant; {ax+b=c, positive...                 3~~1  "
      ],
      "text/html": "<div>\n<style scoped>\n    .dataframe tbody tr th:only-of-type {\n        vertical-align: middle;\n    }\n\n    .dataframe tbody tr th {\n        vertical-align: top;\n    }\n\n    .dataframe thead th {\n        text-align: right;\n    }\n</style>\n<table border=\"1\" class=\"dataframe\">\n  <thead>\n    <tr style=\"text-align: right;\">\n      <th></th>\n      <th>Row</th>\n      <th>Anon Student Id</th>\n      <th>Problem Hierarchy</th>\n      <th>Problem Name</th>\n      <th>Problem View</th>\n      <th>Step Name</th>\n      <th>Step Start Time</th>\n      <th>First Transaction Time</th>\n      <th>Correct Transaction Time</th>\n      <th>Step End Time</th>\n      <th>Step Duration (sec)</th>\n      <th>Correct Step Duration (sec)</th>\n      <th>Error Step Duration (sec)</th>\n      <th>Correct First Attempt</th>\n      <th>Incorrects</th>\n      <th>Hints</th>\n      <th>Corrects</th>\n      <th>KC(Default)</th>\n      <th>Opportunity(Default)</th>\n    </tr>\n  </thead>\n  <tbody>\n    <tr>\n      <th>0</th>\n      <td>1</td>\n      <td>0BrbPbwCMz</td>\n      <td>Unit ES_04, Section ES_04-1</td>\n      <td>EG4-FIXED</td>\n      <td>1</td>\n      <td>3(x+2) = 15</td>\n      <td>2005-09-09 12:24:35.0</td>\n      <td>2005-09-09 12:24:49.0</td>\n      <td>2005-09-09 12:25:15.0</td>\n      <td>2005-09-09 12:25:15.0</td>\n      <td>40.0</td>\n      <td>NaN</td>\n      <td>40.0</td>\n      <td>0</td>\n      <td>2</td>\n      <td>3</td>\n      <td>1</td>\n      <td>[SkillRule: Eliminate Parens; {CLT nested; CLT...</td>\n      <td>1</td>\n    </tr>\n    <tr>\n      <th>1</th>\n      <td>2</td>\n      <td>0BrbPbwCMz</td>\n      <td>Unit ES_04, Section ES_04-1</td>\n      <td>EG4-FIXED</td>\n      <td>1</td>\n      <td>x+2 = 5</td>\n      <td>2005-09-09 12:25:15.0</td>\n      <td>2005-09-09 12:25:31.0</td>\n      <td>2005-09-09 12:25:31.0</td>\n      <td>2005-09-09 12:25:31.0</td>\n      <td>16.0</td>\n      <td>16.0</td>\n      <td>NaN</td>\n      <td>1</td>\n      <td>0</td>\n      <td>0</td>\n      <td>1</td>\n      <td>[SkillRule: Remove constant; {ax+b=c, positive...</td>\n      <td>1~~1</td>\n    </tr>\n    <tr>\n      <th>2</th>\n      <td>3</td>\n      <td>0BrbPbwCMz</td>\n      <td>Unit ES_04, Section ES_04-1</td>\n      <td>EG40</td>\n      <td>1</td>\n      <td>2-8y = -4</td>\n      <td>2005-09-09 12:25:36.0</td>\n      <td>2005-09-09 12:25:43.0</td>\n      <td>2005-09-09 12:26:12.0</td>\n      <td>2005-09-09 12:26:12.0</td>\n      <td>36.0</td>\n      <td>NaN</td>\n      <td>36.0</td>\n      <td>0</td>\n      <td>2</td>\n      <td>3</td>\n      <td>1</td>\n      <td>[SkillRule: Remove constant; {ax+b=c, positive...</td>\n      <td>2</td>\n    </tr>\n    <tr>\n      <th>3</th>\n      <td>4</td>\n      <td>0BrbPbwCMz</td>\n      <td>Unit ES_04, Section ES_04-1</td>\n      <td>EG40</td>\n      <td>1</td>\n      <td>-8y = -6</td>\n      <td>2005-09-09 12:26:12.0</td>\n      <td>2005-09-09 12:26:34.0</td>\n      <td>2005-09-09 12:26:34.0</td>\n      <td>2005-09-09 12:26:34.0</td>\n      <td>22.0</td>\n      <td>22.0</td>\n      <td>NaN</td>\n      <td>1</td>\n      <td>0</td>\n      <td>0</td>\n      <td>1</td>\n      <td>[SkillRule: Remove coefficient; {ax+b=c, divid...</td>\n      <td>1~~1</td>\n    </tr>\n    <tr>\n      <th>4</th>\n      <td>5</td>\n      <td>0BrbPbwCMz</td>\n      <td>Unit ES_04, Section ES_04-1</td>\n      <td>EG40</td>\n      <td>2</td>\n      <td>-7y-5 = -4</td>\n      <td>2005-09-09 12:26:38.0</td>\n      <td>2005-09-09 12:28:36.0</td>\n      <td>2005-09-09 12:28:36.0</td>\n      <td>2005-09-09 12:28:36.0</td>\n      <td>118.0</td>\n      <td>118.0</td>\n      <td>NaN</td>\n      <td>1</td>\n      <td>0</td>\n      <td>0</td>\n      <td>1</td>\n      <td>[SkillRule: Remove constant; {ax+b=c, positive...</td>\n      <td>3~~1</td>\n    </tr>\n  </tbody>\n</table>\n</div>"
     },
     "metadata": {},
     "execution_count": 105
    }
   ],
   "source": [
    "initial_data = pd.read_csv('./data/algebra_2005_2006_train.txt', delimiter = \"\\t\")\n",
    "print(initial_data.shape)\n",
    "initial_data.head()"
   ]
  },
  {
   "cell_type": "markdown",
   "metadata": {},
   "source": [
    "# Collecter les données"
   ]
  },
  {
   "cell_type": "code",
   "execution_count": 106,
   "metadata": {},
   "outputs": [
    {
     "output_type": "execute_result",
     "data": {
      "text/plain": [
       "Index(['Row', 'Anon Student Id', 'Problem Hierarchy', 'Problem Name',\n",
       "       'Problem View', 'Step Name', 'Step Start Time',\n",
       "       'First Transaction Time', 'Correct Transaction Time', 'Step End Time',\n",
       "       'Step Duration (sec)', 'Correct Step Duration (sec)',\n",
       "       'Error Step Duration (sec)', 'Correct First Attempt', 'Incorrects',\n",
       "       'Hints', 'Corrects', 'KC(Default)', 'Opportunity(Default)'],\n",
       "      dtype='object')"
      ]
     },
     "metadata": {},
     "execution_count": 106
    }
   ],
   "source": [
    "initial_data.columns"
   ]
  },
  {
   "cell_type": "code",
   "execution_count": 107,
   "metadata": {},
   "outputs": [
    {
     "output_type": "execute_result",
     "data": {
      "text/plain": [
       "138"
      ]
     },
     "metadata": {},
     "execution_count": 107
    }
   ],
   "source": [
    "len(initial_data['Problem Hierarchy'].unique())"
   ]
  },
  {
   "cell_type": "code",
   "execution_count": 108,
   "metadata": {},
   "outputs": [
    {
     "output_type": "execute_result",
     "data": {
      "text/plain": [
       "           user_id    item_id              timestamp  correct  nb_hint\n",
       "0       0BrbPbwCMz  EG4-FIXED  2005-09-09 12:24:49.0        0        3\n",
       "1       0BrbPbwCMz  EG4-FIXED  2005-09-09 12:25:31.0        1        0\n",
       "2       0BrbPbwCMz       EG40  2005-09-09 12:25:43.0        0        3\n",
       "3       0BrbPbwCMz       EG40  2005-09-09 12:26:34.0        1        0\n",
       "4       0BrbPbwCMz       EG40  2005-09-09 12:28:36.0        1        0\n",
       "...            ...        ...                    ...      ...      ...\n",
       "809689  IQQo3367x0       EG40  2006-03-09 10:58:13.0        1        0\n",
       "809690  IQQo3367x0       EG40  2006-03-09 10:58:18.0        1        0\n",
       "809691  IQQo3367x0       EG40  2006-03-09 10:58:22.0        0        3\n",
       "809692  IQQo3367x0       EG40  2006-03-09 10:58:44.0        1        0\n",
       "809693  IQQo3367x0       EG40  2006-03-09 10:59:03.0        0        3\n",
       "\n",
       "[809694 rows x 5 columns]"
      ],
      "text/html": "<div>\n<style scoped>\n    .dataframe tbody tr th:only-of-type {\n        vertical-align: middle;\n    }\n\n    .dataframe tbody tr th {\n        vertical-align: top;\n    }\n\n    .dataframe thead th {\n        text-align: right;\n    }\n</style>\n<table border=\"1\" class=\"dataframe\">\n  <thead>\n    <tr style=\"text-align: right;\">\n      <th></th>\n      <th>user_id</th>\n      <th>item_id</th>\n      <th>timestamp</th>\n      <th>correct</th>\n      <th>nb_hint</th>\n    </tr>\n  </thead>\n  <tbody>\n    <tr>\n      <th>0</th>\n      <td>0BrbPbwCMz</td>\n      <td>EG4-FIXED</td>\n      <td>2005-09-09 12:24:49.0</td>\n      <td>0</td>\n      <td>3</td>\n    </tr>\n    <tr>\n      <th>1</th>\n      <td>0BrbPbwCMz</td>\n      <td>EG4-FIXED</td>\n      <td>2005-09-09 12:25:31.0</td>\n      <td>1</td>\n      <td>0</td>\n    </tr>\n    <tr>\n      <th>2</th>\n      <td>0BrbPbwCMz</td>\n      <td>EG40</td>\n      <td>2005-09-09 12:25:43.0</td>\n      <td>0</td>\n      <td>3</td>\n    </tr>\n    <tr>\n      <th>3</th>\n      <td>0BrbPbwCMz</td>\n      <td>EG40</td>\n      <td>2005-09-09 12:26:34.0</td>\n      <td>1</td>\n      <td>0</td>\n    </tr>\n    <tr>\n      <th>4</th>\n      <td>0BrbPbwCMz</td>\n      <td>EG40</td>\n      <td>2005-09-09 12:28:36.0</td>\n      <td>1</td>\n      <td>0</td>\n    </tr>\n    <tr>\n      <th>...</th>\n      <td>...</td>\n      <td>...</td>\n      <td>...</td>\n      <td>...</td>\n      <td>...</td>\n    </tr>\n    <tr>\n      <th>809689</th>\n      <td>IQQo3367x0</td>\n      <td>EG40</td>\n      <td>2006-03-09 10:58:13.0</td>\n      <td>1</td>\n      <td>0</td>\n    </tr>\n    <tr>\n      <th>809690</th>\n      <td>IQQo3367x0</td>\n      <td>EG40</td>\n      <td>2006-03-09 10:58:18.0</td>\n      <td>1</td>\n      <td>0</td>\n    </tr>\n    <tr>\n      <th>809691</th>\n      <td>IQQo3367x0</td>\n      <td>EG40</td>\n      <td>2006-03-09 10:58:22.0</td>\n      <td>0</td>\n      <td>3</td>\n    </tr>\n    <tr>\n      <th>809692</th>\n      <td>IQQo3367x0</td>\n      <td>EG40</td>\n      <td>2006-03-09 10:58:44.0</td>\n      <td>1</td>\n      <td>0</td>\n    </tr>\n    <tr>\n      <th>809693</th>\n      <td>IQQo3367x0</td>\n      <td>EG40</td>\n      <td>2006-03-09 10:59:03.0</td>\n      <td>0</td>\n      <td>3</td>\n    </tr>\n  </tbody>\n</table>\n<p>809694 rows × 5 columns</p>\n</div>"
     },
     "metadata": {},
     "execution_count": 108
    }
   ],
   "source": [
    "initial_data = initial_data.rename(columns={'Anon Student Id': 'user_id','Problem Name': 'item_id','Step Name': 'step_id','KC(Default)': 'kc_id','First Transaction Time': 'timestamp','Correct First Attempt': 'correct',\"Hints\":'nb_hint','Incorrects':'incorrect','Corrects':'incorrect_?'})\n",
    "needed = initial_data[[\"user_id\",\"item_id\",\"timestamp\",\"correct\",\"nb_hint\"]]\n",
    "needed"
   ]
  },
  {
   "cell_type": "code",
   "execution_count": 109,
   "metadata": {},
   "outputs": [
    {
     "output_type": "stream",
     "name": "stdout",
     "text": [
      "(809694, 5)\n"
     ]
    },
    {
     "output_type": "execute_result",
     "data": {
      "text/plain": [
       "           user_id     item_id   timestamp  correct  nb_hint\n",
       "535958  45TTYcotWk  LDEMO_WKST  1125395408        0        0\n",
       "562642  HvghFVBS5v  LDEMO_WKST  1125395410        1        0\n",
       "569598  IQ98biy227  LDEMO_WKST  1125395414        1        0\n",
       "555691  Dmq6441349  LDEMO_WKST  1125395416        1        0\n",
       "545705  80nlN05JQ6  LDEMO_WKST  1125395419        0        0"
      ],
      "text/html": "<div>\n<style scoped>\n    .dataframe tbody tr th:only-of-type {\n        vertical-align: middle;\n    }\n\n    .dataframe tbody tr th {\n        vertical-align: top;\n    }\n\n    .dataframe thead th {\n        text-align: right;\n    }\n</style>\n<table border=\"1\" class=\"dataframe\">\n  <thead>\n    <tr style=\"text-align: right;\">\n      <th></th>\n      <th>user_id</th>\n      <th>item_id</th>\n      <th>timestamp</th>\n      <th>correct</th>\n      <th>nb_hint</th>\n    </tr>\n  </thead>\n  <tbody>\n    <tr>\n      <th>535958</th>\n      <td>45TTYcotWk</td>\n      <td>LDEMO_WKST</td>\n      <td>1125395408</td>\n      <td>0</td>\n      <td>0</td>\n    </tr>\n    <tr>\n      <th>562642</th>\n      <td>HvghFVBS5v</td>\n      <td>LDEMO_WKST</td>\n      <td>1125395410</td>\n      <td>1</td>\n      <td>0</td>\n    </tr>\n    <tr>\n      <th>569598</th>\n      <td>IQ98biy227</td>\n      <td>LDEMO_WKST</td>\n      <td>1125395414</td>\n      <td>1</td>\n      <td>0</td>\n    </tr>\n    <tr>\n      <th>555691</th>\n      <td>Dmq6441349</td>\n      <td>LDEMO_WKST</td>\n      <td>1125395416</td>\n      <td>1</td>\n      <td>0</td>\n    </tr>\n    <tr>\n      <th>545705</th>\n      <td>80nlN05JQ6</td>\n      <td>LDEMO_WKST</td>\n      <td>1125395419</td>\n      <td>0</td>\n      <td>0</td>\n    </tr>\n  </tbody>\n</table>\n</div>"
     },
     "metadata": {},
     "execution_count": 109
    }
   ],
   "source": [
    "needed['timestamp'] = pd.to_datetime(needed['timestamp']).map(lambda t: t.timestamp()).round().astype(np.int32)\n",
    "\n",
    "# Conservez uniquement les utilisateurs avec au moins 10 interactions\n",
    "needed = needed.groupby(\"user_id\").filter(lambda x: len(x) >= 1)\n",
    "\n",
    "# Supprimer les entrées où le résultat n'est pas binaire mais continu\n",
    "needed = needed[needed.correct.isin([0, 1])]\n",
    "needed['correct'] = needed['correct'].astype(np.int32)\n",
    "\n",
    "# Trier la colonne \"timestamp\" et changer le nom de la colonne\n",
    "needed = needed.sort_values('timestamp')\n",
    "print(needed.shape)\n",
    "needed.head()"
   ]
  },
  {
   "cell_type": "markdown",
   "metadata": {},
   "source": [
    "# Encodage"
   ]
  },
  {
   "cell_type": "code",
   "execution_count": 110,
   "metadata": {},
   "outputs": [
    {
     "output_type": "execute_result",
     "data": {
      "text/plain": [
       "\"\\nimport pickle \\npkl_file = open('Departure_encoder.pkl', 'rb')\\nle_departure = pickle.load(pkl_file) \\npkl_file.close()\\ndf_test['Departure'] = le_departure.transform(df_test['Departure'])\\n\""
      ]
     },
     "metadata": {},
     "execution_count": 110
    }
   ],
   "source": [
    "userId_encoder = LabelEncoder()\n",
    "itemId_encoder = LabelEncoder()\n",
    "\n",
    "needed[\"user_id\"] = userId_encoder.fit_transform(needed[\"user_id\"])\n",
    "needed[\"item_id\"] = itemId_encoder.fit_transform(needed[\"item_id\"])\n",
    "\n",
    "# Save user_id and item_id encoder\n",
    "####\n",
    "outputUserInEncoder = open('./final_data/userId_encoder.pkl', 'wb')\n",
    "pickle.dump(userId_encoder, outputUserInEncoder)\n",
    "outputUserInEncoder.close()\n",
    "####\n",
    "outputItemInEncoder = open('./final_data/itemId_encoder.pkl', 'wb')\n",
    "pickle.dump(itemId_encoder, outputItemInEncoder)\n",
    "outputItemInEncoder.close()\n",
    "\n",
    "needed.head()\n",
    "\n",
    "### Load saved encoder\n",
    "\"\"\"\n",
    "import pickle \n",
    "pkl_file = open('Departure_encoder.pkl', 'rb')\n",
    "le_departure = pickle.load(pkl_file) \n",
    "pkl_file.close()\n",
    "df_test['Departure'] = le_departure.transform(df_test['Departure'])\n",
    "\"\"\""
   ]
  },
  {
   "cell_type": "code",
   "execution_count": 111,
   "metadata": {},
   "outputs": [],
   "source": [
    "# replace user_id and item_id where id == 0\n",
    "needed[\"user_id\"].replace(0,len(needed['user_id'].unique()),inplace=True)\n",
    "needed[\"item_id\"].replace(0,len(needed['item_id'].unique()),inplace=True)"
   ]
  },
  {
   "cell_type": "code",
   "execution_count": 112,
   "metadata": {},
   "outputs": [
    {
     "output_type": "execute_result",
     "data": {
      "text/plain": [
       "{'user_ids': 574, 'item_ids': 1084, 'observations': 809694}"
      ]
     },
     "metadata": {},
     "execution_count": 112
    }
   ],
   "source": [
    "## dataConfig \n",
    "users = len(needed['user_id'].unique())\n",
    "items = len(needed['item_id'].unique())\n",
    "n_observations = len(needed)\n",
    "config = {\n",
    "    'user_ids': users,\n",
    "    'item_ids': items,\n",
    "    'observations': n_observations,\n",
    "}\n",
    "config"
   ]
  },
  {
   "cell_type": "code",
   "execution_count": 113,
   "metadata": {},
   "outputs": [
    {
     "output_type": "execute_result",
     "data": {
      "text/plain": [
       "        user_id  item_id   timestamp  correct  nb_hint\n",
       "0            72      563  1125395408        0        0\n",
       "1           249      563  1125395410        1        0\n",
       "2           251      563  1125395414        1        0\n",
       "3           214      563  1125395416        1        0\n",
       "4           155      563  1125395419        0        0\n",
       "...         ...      ...         ...      ...      ...\n",
       "809689      395      482  1149678699        1        0\n",
       "809690      395      482  1149678711        0        4\n",
       "809691      395      482  1149678744        1        0\n",
       "809692      395      482  1149678751        1        0\n",
       "809693      395      482  1149678758        1        0\n",
       "\n",
       "[809694 rows x 5 columns]"
      ],
      "text/html": "<div>\n<style scoped>\n    .dataframe tbody tr th:only-of-type {\n        vertical-align: middle;\n    }\n\n    .dataframe tbody tr th {\n        vertical-align: top;\n    }\n\n    .dataframe thead th {\n        text-align: right;\n    }\n</style>\n<table border=\"1\" class=\"dataframe\">\n  <thead>\n    <tr style=\"text-align: right;\">\n      <th></th>\n      <th>user_id</th>\n      <th>item_id</th>\n      <th>timestamp</th>\n      <th>correct</th>\n      <th>nb_hint</th>\n    </tr>\n  </thead>\n  <tbody>\n    <tr>\n      <th>0</th>\n      <td>72</td>\n      <td>563</td>\n      <td>1125395408</td>\n      <td>0</td>\n      <td>0</td>\n    </tr>\n    <tr>\n      <th>1</th>\n      <td>249</td>\n      <td>563</td>\n      <td>1125395410</td>\n      <td>1</td>\n      <td>0</td>\n    </tr>\n    <tr>\n      <th>2</th>\n      <td>251</td>\n      <td>563</td>\n      <td>1125395414</td>\n      <td>1</td>\n      <td>0</td>\n    </tr>\n    <tr>\n      <th>3</th>\n      <td>214</td>\n      <td>563</td>\n      <td>1125395416</td>\n      <td>1</td>\n      <td>0</td>\n    </tr>\n    <tr>\n      <th>4</th>\n      <td>155</td>\n      <td>563</td>\n      <td>1125395419</td>\n      <td>0</td>\n      <td>0</td>\n    </tr>\n    <tr>\n      <th>...</th>\n      <td>...</td>\n      <td>...</td>\n      <td>...</td>\n      <td>...</td>\n      <td>...</td>\n    </tr>\n    <tr>\n      <th>809689</th>\n      <td>395</td>\n      <td>482</td>\n      <td>1149678699</td>\n      <td>1</td>\n      <td>0</td>\n    </tr>\n    <tr>\n      <th>809690</th>\n      <td>395</td>\n      <td>482</td>\n      <td>1149678711</td>\n      <td>0</td>\n      <td>4</td>\n    </tr>\n    <tr>\n      <th>809691</th>\n      <td>395</td>\n      <td>482</td>\n      <td>1149678744</td>\n      <td>1</td>\n      <td>0</td>\n    </tr>\n    <tr>\n      <th>809692</th>\n      <td>395</td>\n      <td>482</td>\n      <td>1149678751</td>\n      <td>1</td>\n      <td>0</td>\n    </tr>\n    <tr>\n      <th>809693</th>\n      <td>395</td>\n      <td>482</td>\n      <td>1149678758</td>\n      <td>1</td>\n      <td>0</td>\n    </tr>\n  </tbody>\n</table>\n<p>809694 rows × 5 columns</p>\n</div>"
     },
     "metadata": {},
     "execution_count": 113
    }
   ],
   "source": [
    "needed = needed.reset_index()\n",
    "needed = needed.drop('index', 1)\n",
    "needed"
   ]
  },
  {
   "cell_type": "code",
   "execution_count": 116,
   "metadata": {},
   "outputs": [],
   "source": [
    "# Save needed Data to csv file\n",
    "needed = needed[[\"user_id\",\"item_id\",\"correct\",\"nb_hint\"]]\n",
    "needed.to_csv(\"./final_data/neededData.csv\")"
   ]
  },
  {
   "source": [
    "# Import irt predictions"
   ],
   "cell_type": "markdown",
   "metadata": {}
  },
  {
   "cell_type": "code",
   "execution_count": 115,
   "metadata": {},
   "outputs": [],
   "source": [
    "# conditions = [\r\n",
    "#     (needed['correct'] == 1) & (needed['nb_hint'] > 0),\r\n",
    "#     (needed['correct'] == 1) & (needed['nb_hint'] == 0),\r\n",
    "#     (needed['correct'] == 0) & (needed['nb_hint'] > 0),\r\n",
    "#     (needed['correct'] == 0) & (needed['nb_hint'] == 0)\r\n",
    "#     ]\r\n",
    "# # 1 ==> Correct avec hint\r\n",
    "# # 2 ==> Correct sans hint\r\n",
    "# # 3 ==> Incorrect avec hint\r\n",
    "# # 4 ==> Incorrect sans hint\r\n",
    "# values = [1, 2, 3, 4]\r\n",
    "\r\n",
    "# # create a new column and use np.select to assign values to it using our lists as arguments\r\n",
    "# needed['answers_using_hint'] = np.select(conditions, values)\r\n",
    "# needed.head()"
   ]
  }
 ],
 "metadata": {
  "kernelspec": {
   "display_name": "Python 3",
   "language": "python",
   "name": "python3"
  },
  "language_info": {
   "codemirror_mode": {
    "name": "ipython",
    "version": 3
   },
   "file_extension": ".py",
   "mimetype": "text/x-python",
   "name": "python",
   "nbconvert_exporter": "python",
   "pygments_lexer": "ipython3",
   "version": "3.8.5"
  }
 },
 "nbformat": 4,
 "nbformat_minor": 2
}