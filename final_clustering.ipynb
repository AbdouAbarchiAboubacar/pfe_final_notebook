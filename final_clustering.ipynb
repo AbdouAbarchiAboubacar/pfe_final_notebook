{
 "cells": [
  {
   "cell_type": "code",
   "execution_count": 9,
   "metadata": {},
   "outputs": [],
   "source": [
    "import numpy as np \n",
    "import matplotlib.pyplot as plt\n",
    "import pandas as pd\n",
    "import seaborn as sns\n",
    "from tqdm import tqdm\n",
    "from sklearn.metrics import cohen_kappa_score\n",
    "from itertools import product\n",
    "from sklearn.cluster import AgglomerativeClustering\n",
    "import skfuzzy as fuzz\n",
    "from sklearn.cluster import KMeans\n",
    "from mpl_toolkits.mplot3d import Axes3D\n",
    "import scipy.cluster.hierarchy as sch\n",
    "from sklearn.datasets import make_blobs\n",
    "from sklearn.metrics import silhouette_score\n",
    "from sklearn import decomposition\n",
    "from sklearn.preprocessing import StandardScaler\n",
    "from scipy.cluster.hierarchy import cophenet\n",
    "from scipy.spatial.distance import pdist\n",
    "from sklearn.metrics import confusion_matrix\n",
    "from sklearn.cluster import KMeans\n",
    "from sklearn.datasets import make_blobs\n",
    "from yellowbrick.cluster import KElbowVisualizer"
   ]
  },
  {
   "source": [
    "# Hard and Soft Clustering"
   ],
   "cell_type": "markdown",
   "metadata": {}
  },
  {
   "cell_type": "code",
   "execution_count": 10,
   "metadata": {},
   "outputs": [],
   "source": [
    "items_similarity = pd.read_csv(\"./data/items_similarity.csv\")\n",
    "items_similarity = items_similarity.set_index('item_id')\n",
    "# print(items_similarity.shape)\n",
    "# items_similarity"
   ]
  },
  {
   "source": [
    "## PCA"
   ],
   "cell_type": "markdown",
   "metadata": {}
  },
  {
   "cell_type": "code",
   "execution_count": 11,
   "metadata": {},
   "outputs": [],
   "source": [
    "X_std = StandardScaler().fit_transform(items_similarity)\n",
    "pca = decomposition.PCA(n_components=392)\n",
    "features = pca.fit_transform(items_similarity)"
   ]
  },
  {
   "source": [
    "## K-means Clustering"
   ],
   "cell_type": "markdown",
   "metadata": {}
  },
  {
   "cell_type": "code",
   "execution_count": 12,
   "metadata": {},
   "outputs": [],
   "source": [
    "#Applying kmeans to the dataset / Creating the kmeans classifier\n",
    "kmeans = KMeans(n_clusters = 2, init = 'k-means++', max_iter = 10000, n_init = 50, random_state = 0)\n",
    "y_kmeans_1_ = kmeans.fit_predict(features)"
   ]
  },
  {
   "source": [
    "## Fuzzy Clustering"
   ],
   "cell_type": "markdown",
   "metadata": {}
  },
  {
   "cell_type": "code",
   "execution_count": 13,
   "metadata": {},
   "outputs": [],
   "source": [
    "cntr, u, u0, d, jm, p, fpc = fuzz.cluster.cmeans(features.T, 2, 2, error=0.005, maxiter=1000, init=None)\n",
    "cluster_membership = np.argmax(u, axis=0)"
   ]
  },
  {
   "source": [
    "# Hierarchical Clustering"
   ],
   "cell_type": "markdown",
   "metadata": {}
  },
  {
   "cell_type": "code",
   "execution_count": 14,
   "metadata": {},
   "outputs": [],
   "source": [
    "hc = AgglomerativeClustering(n_clusters=2,affinity=\"euclidean\",linkage=\"average\")\n",
    "y_hc = hc.fit_predict(features)"
   ]
  },
  {
   "source": [
    "# Clustering Validation"
   ],
   "cell_type": "markdown",
   "metadata": {}
  },
  {
   "cell_type": "code",
   "execution_count": 22,
   "metadata": {},
   "outputs": [],
   "source": [
    "from jqmcvi import base\n",
    "from sklearn.metrics import davies_bouldin_score, calinski_harabasz_score"
   ]
  },
  {
   "source": [
    "## Indice de Dunn"
   ],
   "cell_type": "markdown",
   "metadata": {}
  },
  {
   "cell_type": "code",
   "execution_count": 20,
   "metadata": {},
   "outputs": [
    {
     "output_type": "stream",
     "name": "stdout",
     "text": [
      "Kemans ==> 0.4275280514357695 \n",
      "Agglo ==> 0.5704708340372251\n",
      "Fuzzy ==> 0.4275280514357695\n"
     ]
    }
   ],
   "source": [
    "# We store the clusters\n",
    "from jqmcvi import base\n",
    "# Kmeans Clusters\n",
    "kmeans_clus0 = features[y_kmeans_1_ == 0,:]\n",
    "kmeans_clus1 = features[y_kmeans_1_ == 1,:]\n",
    "kmeans_clusters = [kmeans_clus0, kmeans_clus1]\n",
    "# Hierarchical Clusters\n",
    "agglo_clus0 = features[y_hc == 0,:]\n",
    "agglo_clus1 = features[y_hc == 1,:]\n",
    "agglo_clusters = [agglo_clus0, agglo_clus1]\n",
    "# Fuzzy Clusters\n",
    "fuzzy_clus0 = features[cluster_membership == 0,:]\n",
    "fuzzy_clus1 = features[cluster_membership == 1,:]\n",
    "fuzzy_clusters = [fuzzy_clus0, fuzzy_clus1]\n",
    "  \n",
    "print(f\"Kemans ==> {base.dunn(kmeans_clusters)} \")\n",
    "print(f\"Agglo ==> {base.dunn(agglo_clusters)}\")\n",
    "print(f\"Fuzzy ==> {base.dunn(fuzzy_clusters)}\")"
   ]
  },
  {
   "source": [
    "## Indice Davies-Bouldin"
   ],
   "cell_type": "markdown",
   "metadata": {}
  },
  {
   "cell_type": "code",
   "execution_count": 21,
   "metadata": {},
   "outputs": [
    {
     "output_type": "stream",
     "name": "stdout",
     "text": [
      "Kemans ==> 0.5862468799936242\nAgglo ==> 0.5766252914501527\nFuzzy ==> 0.5862468799936242\n"
     ]
    }
   ],
   "source": [
    "print(f\"Kemans ==> {davies_bouldin_score(features, y_kmeans_1_)}\")\n",
    "print(f\"Agglo ==> {davies_bouldin_score(features, y_hc)}\")\n",
    "print(f\"Fuzzy ==> {davies_bouldin_score(features, cluster_membership)}\")"
   ]
  },
  {
   "source": [
    "# Indice Calinski Harabasz"
   ],
   "cell_type": "markdown",
   "metadata": {}
  },
  {
   "cell_type": "code",
   "execution_count": 24,
   "metadata": {},
   "outputs": [
    {
     "output_type": "stream",
     "name": "stdout",
     "text": [
      "Kemans ==> 2413.693346711567\nAgglo ==> 2368.281414740965\nFuzzy ==> 2413.693346711567\n"
     ]
    }
   ],
   "source": [
    "print(f\"Kemans ==> {calinski_harabasz_score(features, y_kmeans_1_)}\")\n",
    "print(f\"Agglo ==> {calinski_harabasz_score(features, y_hc)}\")\n",
    "print(f\"Fuzzy ==> {calinski_harabasz_score(features, cluster_membership)}\")"
   ]
  },
  {
   "source": [
    "## silhouette_score"
   ],
   "cell_type": "markdown",
   "metadata": {}
  },
  {
   "cell_type": "code",
   "execution_count": 18,
   "metadata": {},
   "outputs": [
    {
     "output_type": "stream",
     "name": "stdout",
     "text": [
      "hierarchical clustering ==> Silhouette Score(n=2): 0.620315008119564\n",
      "kmeans clustering ==> Silhouette Score(n=2): 0.6209031100633661\n",
      "fuzzy clustering ==> Silhouette Score(n=2): 0.6209031100633661\n"
     ]
    }
   ],
   "source": [
    "# Comparaison of models\n",
    "print(f'hierarchical clustering ==> Silhouette Score(n=2): {silhouette_score(features, y_hc)}')\n",
    "print(f'kmeans clustering ==> Silhouette Score(n=2): {silhouette_score(features, y_kmeans_1_)}')\n",
    "print(f'fuzzy clustering ==> Silhouette Score(n=2): {silhouette_score(features,cluster_membership)}')\n",
    "# ==> Enfin, la partition avec le SI le plus élevé est considérée comme optimale"
   ]
  },
  {
   "cell_type": "code",
   "execution_count": null,
   "metadata": {},
   "outputs": [],
   "source": []
  }
 ],
 "metadata": {
  "kernelspec": {
   "display_name": "Python 3",
   "language": "python",
   "name": "python3"
  },
  "language_info": {
   "codemirror_mode": {
    "name": "ipython",
    "version": 3
   },
   "file_extension": ".py",
   "mimetype": "text/x-python",
   "name": "python",
   "nbconvert_exporter": "python",
   "pygments_lexer": "ipython3",
   "version": "3.8.5"
  }
 },
 "nbformat": 4,
 "nbformat_minor": 2
}