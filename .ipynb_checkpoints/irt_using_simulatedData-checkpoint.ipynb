{
 "cells": [
  {
   "cell_type": "code",
   "execution_count": 1,
   "id": "69bd14b2",
   "metadata": {},
   "outputs": [],
   "source": [
    "import pandas as pd\n",
    "from pprint import pprint\n",
    "import stan\n",
    "from scipy.special import expit\n",
    "from matplotlib import pyplot as plt\n",
    "from numpy.random import normal, randint, binomial, choice\n",
    "from numpy import percentile, concatenate, array, linspace, append\n",
    "import numpy as np \n",
    "import seaborn as sns\n",
    "from sklearn.preprocessing import LabelEncoder\n",
    "from sklearn.metrics import cohen_kappa_score\n",
    "from sklearn.metrics import mean_squared_error,mean_absolute_error\n",
    "import pickle\n",
    "import nest_asyncio\n",
    "nest_asyncio.apply()"
   ]
  },
  {
   "cell_type": "code",
   "execution_count": 2,
   "id": "d34b0a80",
   "metadata": {},
   "outputs": [
    {
     "name": "stdout",
     "output_type": "stream",
     "text": [
      "Here is our randomly generated data:\n",
      "{'I': 15,\n",
      " 'N': 10000,\n",
      " 'S': 15,\n",
      " 'grade': array([1, 1, 1, ..., 1, 1, 0]),\n",
      " 'item': array([ 1,  7,  4, ..., 14,  7, 13]),\n",
      " 'subject': array([15, 15, 10, ...,  9,  3, 14])}\n"
     ]
    }
   ],
   "source": [
    "def generate_binary_irt_data(sim_input):\n",
    "    # simulate abilities, difficulties, and subject/item combinations\n",
    "    sim_ability = normal(loc=0,\n",
    "                         scale=sim_input['sigma_ability'],\n",
    "                         size=sim_input['S'])\n",
    "    sim_difficulty = normal(loc=sim_input['mu_difficulty'],\n",
    "                            scale=sim_input['sigma_difficulty'],\n",
    "                            size=sim_input['I'])\n",
    "    sim_subject = randint(low=0,\n",
    "                          high=sim_input['S'],\n",
    "                          size=sim_input['N'])\n",
    "    sim_item = randint(low=0,\n",
    "                       high=sim_input['I'],\n",
    "                       size=sim_input['N'])\n",
    "    # work out success probabilities\n",
    "    sim_success_probabilities = expit(sim_ability[sim_subject] -\n",
    "                                      sim_difficulty[sim_item])\n",
    "    # simulate grades\n",
    "    sim_grade = binomial(n=1,\n",
    "                         p=sim_success_probabilities,\n",
    "                         size=sim_input['N'])\n",
    "    # Dictionary of data to give to STAN\n",
    "    sim_data = {\n",
    "        'grade': sim_grade,\n",
    "        'subject': sim_subject + 1,\n",
    "        'item': sim_item + 1,\n",
    "    }\n",
    "    sim_data.update({i: binary_sim_input[i] for i in ['N', 'I', 'S']})\n",
    "    recoverables = {\n",
    "        'ability': sim_ability,\n",
    "        'difficulty': sim_difficulty,\n",
    "    }\n",
    "    recoverables.update({i: binary_sim_input[i] for i in ['sigma_ability',\n",
    "                                                          'mu_difficulty',\n",
    "                                                          'sigma_difficulty']})\n",
    "    return sim_data, recoverables\n",
    "\n",
    "# define some input data\n",
    "binary_sim_input = {'N': 10000,\n",
    "                    'I': 15,\n",
    "                    'S': 15,\n",
    "                    'sigma_ability': 1,\n",
    "                    'sigma_difficulty': 2,\n",
    "                    'mu_difficulty': -1}\n",
    "binary_sim_data, binary_sim_recoverables = generate_binary_irt_data(binary_sim_input)\n",
    "# print results\n",
    "print('Here is our randomly generated data:')\n",
    "pprint(binary_sim_data)  # pprint makes the dictionary print nicely"
   ]
  },
  {
   "cell_type": "code",
   "execution_count": 3,
   "id": "07d990b2",
   "metadata": {},
   "outputs": [],
   "source": [
    "# From stan documentation\n",
    "_1pl_model = \"\"\"\n",
    "data {\n",
    "  // numbers of things\n",
    "  \n",
    "  int<lower=1> N;  // number of observations\n",
    "  int<lower=1> I;  // items,  number of questions  \n",
    "  int<lower=1> S;  // subjects,  number of users\n",
    "  \n",
    "  // data\n",
    "  \n",
    "  int<lower=1,upper=I> item[N];\n",
    "  int<lower=1,upper=S> subject[N];\n",
    "  int<lower=0,upper=1> grade[N];\n",
    "}\n",
    "parameters {\n",
    "  // parameters\n",
    "  \n",
    "  real ability[S];             //  alpha: ability od student\n",
    "  real difficulty[I];          //  beta: difficulty of question\n",
    "  real delta;                   // man student ability\n",
    "  \n",
    "}\n",
    "model {\n",
    "\n",
    "  ability ~ std_normal();         \n",
    "  difficulty ~ std_normal();   \n",
    "  delta ~ normal(0.75,1);\n",
    "  \n",
    "  for(n in 1:N)\n",
    "      grade[n] ~ bernoulli_logit(ability[subject[n]] - difficulty[item[n]] + delta);\n",
    "  \n",
    "}\n",
    "\"\"\"\n",
    "## Model from Stan documantation\n",
    "multilevel_2pl_model = \"\"\"\n",
    "data {\n",
    "  // numbers of things\n",
    "  \n",
    "  int<lower=1> N;  // number of observations\n",
    "  int<lower=1> I;  // items,  number of questions  \n",
    "  int<lower=1> S;  // subjects,  number of users\n",
    "  \n",
    "  // data\n",
    "  \n",
    "  int<lower=1,upper=I> item[N];\n",
    "  int<lower=1,upper=S> subject[N];\n",
    "  int<lower=0,upper=1> grade[N];\n",
    "}\n",
    "parameters {\n",
    "  // parameters\n",
    "  \n",
    "  vector[S] ability;             //  alpha ability od student\n",
    "  vector[I] difficulty;          //  beta difficulty of question\n",
    "  vector<lower=0>[I] discrimination;      // discrimination of question\n",
    "  \n",
    "  // hyperparameters\n",
    "  \n",
    "  real mu_difficulty;                       // mean question difficulty\n",
    "  real<lower=0> sigma_difficulty;           // scale of difficulty\n",
    "  real<lower=0> sigma_discrimination;                // scale of log discrimination\n",
    "}\n",
    "model {\n",
    "  ability ~ std_normal();         \n",
    "  difficulty ~ normal(0,sigma_difficulty);   \n",
    "  discrimination ~ lognormal(0,sigma_discrimination);\n",
    "  \n",
    "  mu_difficulty ~ cauchy(0,5);\n",
    "  sigma_difficulty ~ cauchy(0,5);\n",
    "  sigma_discrimination ~ cauchy(0,5);\n",
    "  \n",
    "  grade ~ bernoulli_logit(discrimination[item] .* (ability[subject] - (difficulty[item] + mu_difficulty)));\n",
    "  \n",
    "}\n",
    "\n",
    "generated quantities {\n",
    "  int<lower=0,upper=1> y_pred[N];\n",
    "  for(n in 1:N)\n",
    "      y_pred[n] = bernoulli_logit_rng(discrimination[item[n]] * (ability[subject[n]] - (difficulty[item[n]] + mu_difficulty)));\n",
    "}\n",
    "\n",
    "\"\"\"\n",
    "# From Exemple\n",
    "__1pl_model = \"\"\"\n",
    "data {\n",
    "  // numbers of things\n",
    "  int<lower=1> N;  // responses\n",
    "  int<lower=1> I;  // items\n",
    "  int<lower=1> S;  // subjects\n",
    "  // data\n",
    "  int<lower=1,upper=I> item[N];\n",
    "  int<lower=1,upper=S> subject[N];\n",
    "  int<lower=0,upper=1> grade[N];\n",
    "}\n",
    "parameters {\n",
    "  // parameters\n",
    "  vector[S] ability;\n",
    "  vector[I] difficulty;\n",
    "  // hyperparameters\n",
    "  real mu_difficulty;\n",
    "  real<lower=0> sigma_difficulty;\n",
    "  real<lower=0> sigma_ability;\n",
    "}\n",
    "model {\n",
    "  // priors\n",
    "  ability ~ normal(0, sigma_ability);\n",
    "  difficulty ~ normal(0, sigma_difficulty);\n",
    "  mu_difficulty ~ cauchy(0, 5);\n",
    "  // data model\n",
    "  grade ~ bernoulli_logit(ability[subject] - difficulty[item] - mu_difficulty);\n",
    "}\n",
    "generated quantities {\n",
    "  int<lower=0,upper=1> y_pred[N];\n",
    "  for(n in 1:N)\n",
    "      y_pred[n] = bernoulli_logit_rng(ability[subject[n]] - difficulty[item[n]] - mu_difficulty);\n",
    "}\n",
    "\"\"\""
   ]
  },
  {
   "cell_type": "code",
   "execution_count": 55,
   "id": "254a572d",
   "metadata": {},
   "outputs": [
    {
     "name": "stdout",
     "output_type": "stream",
     "text": [
      "Building...\n"
     ]
    },
    {
     "name": "stderr",
     "output_type": "stream",
     "text": [
      "\n",
      "Building: found in cache, done."
     ]
    }
   ],
   "source": [
    "posteriori = stan.build(_1pl_model,data=binary_sim_data,random_seed = random_seed)"
   ]
  },
  {
   "cell_type": "code",
   "execution_count": 65,
   "id": "6ee946b4",
   "metadata": {},
   "outputs": [
    {
     "name": "stderr",
     "output_type": "stream",
     "text": [
      "Sampling:   0%\n",
      "Sampling: 100%, done.\n",
      "Messages received during sampling:\n",
      "  Gradient evaluation took 0.019354 seconds\n",
      "  1000 transitions using 10 leapfrog steps per transition would take 193.54 seconds.\n",
      "  Adjust your expectations accordingly!\n"
     ]
    }
   ],
   "source": [
    "# fit model\n",
    "binary_fit = posteriori.sample(num_chains=1, num_samples=20)"
   ]
  },
  {
   "cell_type": "code",
   "execution_count": 57,
   "id": "a9984269",
   "metadata": {},
   "outputs": [
    {
     "name": "stdout",
     "output_type": "stream",
     "text": [
      "<stan.Fit>\n",
      "Parameters:\n",
      "    ability: (15,)\n",
      "    difficulty: (15,)\n",
      "    delta: ()\n",
      "    y_pred: (10000,)\n",
      "Draws: 80\n"
     ]
    }
   ],
   "source": [
    "# print fit summary\n",
    "print(binary_fit)"
   ]
  },
  {
   "cell_type": "markdown",
   "id": "86a37163",
   "metadata": {},
   "source": [
    "# validation of model"
   ]
  },
  {
   "cell_type": "code",
   "execution_count": 58,
   "id": "a35fafc6",
   "metadata": {},
   "outputs": [],
   "source": [
    "ability = np.mean(binary_fit['ability'],axis=1)\n",
    "difficulty = np.mean(binary_fit['difficulty'],axis=1)"
   ]
  },
  {
   "cell_type": "code",
   "execution_count": 59,
   "id": "0169f6ea",
   "metadata": {},
   "outputs": [
    {
     "data": {
      "text/plain": [
       "array([0, 0, 0, ..., 1, 0, 1])"
      ]
     },
     "execution_count": 59,
     "metadata": {},
     "output_type": "execute_result"
    }
   ],
   "source": [
    "y_pred = []\n",
    "for i in range(0,10000):\n",
    "    diff = binary_sim_data['item'][i]\n",
    "    abilt = binary_sim_data['subject'][i]\n",
    "    p = np.exp(ability[abilt - 1 ] - difficulty[diff - 1])/(1+np.exp(ability[abilt - 1] - difficulty[diff - 1]))\n",
    "    y_pred.append(p)\n",
    "y_pred = np.round(y_pred).astype(int)\n",
    "y_pred"
   ]
  },
  {
   "cell_type": "code",
   "execution_count": 63,
   "id": "4268f0ce",
   "metadata": {},
   "outputs": [
    {
     "data": {
      "text/plain": [
       "0.5809923047945164"
      ]
     },
     "execution_count": 63,
     "metadata": {},
     "output_type": "execute_result"
    }
   ],
   "source": [
    "x = cohen_kappa_score(binary_sim_data['grade'],y_pred)\n",
    "x"
   ]
  },
  {
   "cell_type": "code",
   "execution_count": 68,
   "id": "ca161edb",
   "metadata": {},
   "outputs": [
    {
     "data": {
      "text/plain": [
       "0.5710936906336872"
      ]
     },
     "execution_count": 68,
     "metadata": {},
     "output_type": "execute_result"
    }
   ],
   "source": [
    "y_pred = np.mean(binary_fit['y_pred'],axis=1)\n",
    "y_pred = np.round(y_pred).astype(int)\n",
    "x = cohen_kappa_score(binary_sim_data['grade'],y_pred)\n",
    "x"
   ]
  },
  {
   "cell_type": "code",
   "execution_count": null,
   "id": "80b7b134",
   "metadata": {},
   "outputs": [],
   "source": [
    "mse = mean_squared_error(train_data['grade'],y_pred)\n",
    "mse"
   ]
  },
  {
   "cell_type": "code",
   "execution_count": 28,
   "id": "0593dc55",
   "metadata": {},
   "outputs": [
    {
     "data": {
      "text/plain": [
       "(10000, 8000)"
      ]
     },
     "execution_count": 28,
     "metadata": {},
     "output_type": "execute_result"
    }
   ],
   "source": [
    "y_pred.shape"
   ]
  },
  {
   "cell_type": "code",
   "execution_count": null,
   "id": "699e8640",
   "metadata": {},
   "outputs": [],
   "source": []
  }
 ],
 "metadata": {
  "kernelspec": {
   "display_name": "Python 3",
   "language": "python",
   "name": "python3"
  },
  "language_info": {
   "codemirror_mode": {
    "name": "ipython",
    "version": 3
   },
   "file_extension": ".py",
   "mimetype": "text/x-python",
   "name": "python",
   "nbconvert_exporter": "python",
   "pygments_lexer": "ipython3",
   "version": "3.8.10"
  }
 },
 "nbformat": 4,
 "nbformat_minor": 5
}
