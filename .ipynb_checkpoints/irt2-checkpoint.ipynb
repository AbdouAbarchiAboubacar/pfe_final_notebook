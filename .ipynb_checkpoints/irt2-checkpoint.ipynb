{
 "cells": [
  {
   "cell_type": "code",
   "execution_count": 1,
   "metadata": {},
   "outputs": [],
   "source": [
    "import pandas as pd\n",
    "from pprint import pprint\n",
    "import pystan\n",
    "from scipy.special import expit\n",
    "from matplotlib import pyplot as plt\n",
    "from numpy.random import normal, randint, binomial, choice\n",
    "from numpy import percentile, concatenate, array, linspace, append\n",
    "import numpy as np\n",
    "from sklearn.metrics import cohen_kappa_score\n",
    "from sklearn.metrics import mean_squared_error,mean_absolute_error \n",
    "import pickle"
   ]
  },
  {
   "cell_type": "code",
   "execution_count": 2,
   "metadata": {},
   "outputs": [
    {
     "name": "stdout",
     "output_type": "stream",
     "text": [
      "(809660, 6)\n"
     ]
    },
    {
     "data": {
      "text/html": [
       "<div>\n",
       "<style scoped>\n",
       "    .dataframe tbody tr th:only-of-type {\n",
       "        vertical-align: middle;\n",
       "    }\n",
       "\n",
       "    .dataframe tbody tr th {\n",
       "        vertical-align: top;\n",
       "    }\n",
       "\n",
       "    .dataframe thead th {\n",
       "        text-align: right;\n",
       "    }\n",
       "</style>\n",
       "<table border=\"1\" class=\"dataframe\">\n",
       "  <thead>\n",
       "    <tr style=\"text-align: right;\">\n",
       "      <th></th>\n",
       "      <th>user_id</th>\n",
       "      <th>item_id</th>\n",
       "      <th>timestamp</th>\n",
       "      <th>correct</th>\n",
       "      <th>nb_hint</th>\n",
       "      <th>answers_using_hint</th>\n",
       "    </tr>\n",
       "  </thead>\n",
       "  <tbody>\n",
       "    <tr>\n",
       "      <th>535958</th>\n",
       "      <td>72</td>\n",
       "      <td>563</td>\n",
       "      <td>1125395408</td>\n",
       "      <td>0</td>\n",
       "      <td>0</td>\n",
       "      <td>4</td>\n",
       "    </tr>\n",
       "    <tr>\n",
       "      <th>562642</th>\n",
       "      <td>247</td>\n",
       "      <td>563</td>\n",
       "      <td>1125395410</td>\n",
       "      <td>1</td>\n",
       "      <td>0</td>\n",
       "      <td>2</td>\n",
       "    </tr>\n",
       "    <tr>\n",
       "      <th>569598</th>\n",
       "      <td>249</td>\n",
       "      <td>563</td>\n",
       "      <td>1125395414</td>\n",
       "      <td>1</td>\n",
       "      <td>0</td>\n",
       "      <td>2</td>\n",
       "    </tr>\n",
       "    <tr>\n",
       "      <th>555691</th>\n",
       "      <td>212</td>\n",
       "      <td>563</td>\n",
       "      <td>1125395416</td>\n",
       "      <td>1</td>\n",
       "      <td>0</td>\n",
       "      <td>2</td>\n",
       "    </tr>\n",
       "    <tr>\n",
       "      <th>545705</th>\n",
       "      <td>154</td>\n",
       "      <td>563</td>\n",
       "      <td>1125395419</td>\n",
       "      <td>0</td>\n",
       "      <td>0</td>\n",
       "      <td>4</td>\n",
       "    </tr>\n",
       "  </tbody>\n",
       "</table>\n",
       "</div>"
      ],
      "text/plain": [
       "        user_id  item_id   timestamp  correct  nb_hint  answers_using_hint\n",
       "535958       72      563  1125395408        0        0                   4\n",
       "562642      247      563  1125395410        1        0                   2\n",
       "569598      249      563  1125395414        1        0                   2\n",
       "555691      212      563  1125395416        1        0                   2\n",
       "545705      154      563  1125395419        0        0                   4"
      ]
     },
     "execution_count": 2,
     "metadata": {},
     "output_type": "execute_result"
    }
   ],
   "source": [
    "neededData = pd.read_csv('./data/neededData.csv')\n",
    "print(neededData.shape)\n",
    "neededData.head()"
   ]
  },
  {
   "cell_type": "code",
   "execution_count": 3,
   "metadata": {},
   "outputs": [
    {
     "data": {
      "text/html": [
       "<div>\n",
       "<style scoped>\n",
       "    .dataframe tbody tr th:only-of-type {\n",
       "        vertical-align: middle;\n",
       "    }\n",
       "\n",
       "    .dataframe tbody tr th {\n",
       "        vertical-align: top;\n",
       "    }\n",
       "\n",
       "    .dataframe thead th {\n",
       "        text-align: right;\n",
       "    }\n",
       "</style>\n",
       "<table border=\"1\" class=\"dataframe\">\n",
       "  <thead>\n",
       "    <tr style=\"text-align: right;\">\n",
       "      <th></th>\n",
       "      <th>user_id</th>\n",
       "      <th>item_id</th>\n",
       "      <th>correct</th>\n",
       "    </tr>\n",
       "  </thead>\n",
       "  <tbody>\n",
       "    <tr>\n",
       "      <th>535958</th>\n",
       "      <td>72</td>\n",
       "      <td>563</td>\n",
       "      <td>0</td>\n",
       "    </tr>\n",
       "    <tr>\n",
       "      <th>562642</th>\n",
       "      <td>247</td>\n",
       "      <td>563</td>\n",
       "      <td>1</td>\n",
       "    </tr>\n",
       "    <tr>\n",
       "      <th>569598</th>\n",
       "      <td>249</td>\n",
       "      <td>563</td>\n",
       "      <td>1</td>\n",
       "    </tr>\n",
       "    <tr>\n",
       "      <th>555691</th>\n",
       "      <td>212</td>\n",
       "      <td>563</td>\n",
       "      <td>1</td>\n",
       "    </tr>\n",
       "    <tr>\n",
       "      <th>545705</th>\n",
       "      <td>154</td>\n",
       "      <td>563</td>\n",
       "      <td>0</td>\n",
       "    </tr>\n",
       "  </tbody>\n",
       "</table>\n",
       "</div>"
      ],
      "text/plain": [
       "        user_id  item_id  correct\n",
       "535958       72      563        0\n",
       "562642      247      563        1\n",
       "569598      249      563        1\n",
       "555691      212      563        1\n",
       "545705      154      563        0"
      ]
     },
     "execution_count": 3,
     "metadata": {},
     "output_type": "execute_result"
    }
   ],
   "source": [
    "needed = neededData[[\"user_id\",\"item_id\",\"correct\"]]\n",
    "needed.head()"
   ]
  },
  {
   "cell_type": "code",
   "execution_count": 4,
   "metadata": {},
   "outputs": [
    {
     "name": "stdout",
     "output_type": "stream",
     "text": [
      "{'I': 1084,\n",
      " 'N': 809660,\n",
      " 'S': 569,\n",
      " 'grade': array([0, 1, 1, ..., 1, 1, 1], dtype=int64),\n",
      " 'item': array([563, 563, 563, ..., 482, 482, 482], dtype=int64),\n",
      " 'subject': array([ 72, 247, 249, ..., 392, 392, 392], dtype=int64)}\n"
     ]
    }
   ],
   "source": [
    "train_data = {'I': len(needed['item_id'].unique()),\n",
    "              'S': len(needed['user_id'].unique()),\n",
    "              'N': len(needed),\n",
    "              'item': needed['item_id'].to_numpy(),\n",
    "              'subject': needed['user_id'].to_numpy(),\n",
    "              'grade': needed['correct'].to_numpy(),}\n",
    "pprint(train_data)"
   ]
  },
  {
   "cell_type": "code",
   "execution_count": 5,
   "metadata": {},
   "outputs": [
    {
     "name": "stderr",
     "output_type": "stream",
     "text": [
      "INFO:pystan:COMPILING THE C++ CODE FOR MODEL anon_model_aed87605d565431f117463bb4ca48038 NOW.\n"
     ]
    }
   ],
   "source": [
    "_1pl_model = pystan.StanModel(file=\"./data/_1pl_model.stan\")"
   ]
  },
  {
   "cell_type": "code",
   "execution_count": 6,
   "metadata": {},
   "outputs": [],
   "source": [
    "# fit model\n",
    "_1pl_model_fit = _1pl_model.sampling(data=train_data, iter=2000, chains=4,thin=1, seed=2021,algorithm='HMC')"
   ]
  },
  {
   "cell_type": "code",
   "execution_count": null,
   "metadata": {},
   "outputs": [],
   "source": [
    "# extract parameters\n",
    "_1pl_model_params = _1pl_model_fit.extract()\n",
    "# print fit summary\n",
    "print(_1pl_model_fit)\n",
    "# draw summary plot\n",
    "f = _1pl_model_fit.plot()\n",
    "f.set_size_inches(18, 10)\n",
    "plt.tight_layout()\n",
    "# On obtient donc \"Item Information Functions\""
   ]
  },
  {
   "cell_type": "code",
   "execution_count": null,
   "metadata": {},
   "outputs": [],
   "source": [
    "# parameter summary statistics pystan 3.2\n",
    "# df = fit.to_frame()\n",
    "# print(df.describe().T)"
   ]
  },
  {
   "cell_type": "markdown",
   "metadata": {},
   "source": [
    "# Export IRT Model"
   ]
  },
  {
   "cell_type": "code",
   "execution_count": null,
   "metadata": {},
   "outputs": [],
   "source": [
    "with open(\"_1pl_model_2000-iter_chains-4_seed-2021_algo-HMC.pkl\", \"wb\") as f:\n",
    "    pickle.dump({'model' : posteriori, 'fit' : _1pl_model_fit}, f, protocol=-1)"
   ]
  },
  {
   "cell_type": "markdown",
   "metadata": {},
   "source": [
    "# Load Saved IRT Model"
   ]
  },
  {
   "cell_type": "code",
   "execution_count": null,
   "metadata": {},
   "outputs": [],
   "source": [
    "with open(\"pfeModel_fit2.pkl\", \"rb\") as f:\n",
    "    data_dict = pickle.load(f)\n",
    "fit = data_dict['fit']\n",
    "fit"
   ]
  },
  {
   "cell_type": "code",
   "execution_count": null,
   "metadata": {},
   "outputs": [],
   "source": [
    "ability = np.mean(fit['ability'],axis=1)\n",
    "difficulty = np.mean(fit['difficulty'],axis=1)\n",
    "delta = np.mean(fit['delta'],axis=1)"
   ]
  },
  {
   "cell_type": "code",
   "execution_count": null,
   "metadata": {},
   "outputs": [],
   "source": [
    "y_pred = []\n",
    "for i in range(0,len(needed)):\n",
    "    diff = train_data['item'][i]\n",
    "    abilt = train_data['subject'][i]\n",
    "    p = np.exp(ability[abilt - 1 ] - difficulty[diff - 1])/(1+np.exp(ability[abilt - 1] - difficulty[diff - 1]))\n",
    "    y_pred.append(p)\n",
    "y_pred = np.round(y_pred).astype(int)\n",
    "y_pred"
   ]
  },
  {
   "cell_type": "code",
   "execution_count": null,
   "metadata": {},
   "outputs": [],
   "source": [
    "mse = mean_squared_error(train_data['grade'],y_pred)\n",
    "mse"
   ]
  },
  {
   "cell_type": "code",
   "execution_count": null,
   "metadata": {},
   "outputs": [],
   "source": [
    "x = cohen_kappa_score(train_data['grade'],y_pred)\n",
    "x"
   ]
  }
 ],
 "metadata": {
  "kernelspec": {
   "display_name": "Python 3",
   "language": "python",
   "name": "python3"
  },
  "language_info": {
   "codemirror_mode": {
    "name": "ipython",
    "version": 3
   },
   "file_extension": ".py",
   "mimetype": "text/x-python",
   "name": "python",
   "nbconvert_exporter": "python",
   "pygments_lexer": "ipython3",
   "version": "3.8.10"
  }
 },
 "nbformat": 4,
 "nbformat_minor": 2
}
