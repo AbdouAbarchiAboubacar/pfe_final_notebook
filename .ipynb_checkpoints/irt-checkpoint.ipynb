{
 "cells": [
  {
   "cell_type": "code",
   "execution_count": 1,
   "metadata": {},
   "outputs": [],
   "source": [
    "import pandas as pd\n",
    "from pprint import pprint\n",
    "import stan\n",
    "from scipy.special import expit\n",
    "from matplotlib import pyplot as plt\n",
    "from numpy.random import normal, randint, binomial, choice\n",
    "from numpy import percentile, concatenate, array, linspace, append\n",
    "import numpy as np \n",
    "import seaborn as sns\n",
    "from sklearn.preprocessing import LabelEncoder\n",
    "from sklearn.metrics import cohen_kappa_score\n",
    "from sklearn.metrics import mean_squared_error,mean_absolute_error\n",
    "import pickle\n",
    "import nest_asyncio\n",
    "nest_asyncio.apply()"
   ]
  },
  {
   "cell_type": "code",
   "execution_count": 2,
   "metadata": {},
   "outputs": [
    {
     "name": "stdout",
     "output_type": "stream",
     "text": [
      "(809660, 6)\n"
     ]
    },
    {
     "data": {
      "text/html": [
       "<div>\n",
       "<style scoped>\n",
       "    .dataframe tbody tr th:only-of-type {\n",
       "        vertical-align: middle;\n",
       "    }\n",
       "\n",
       "    .dataframe tbody tr th {\n",
       "        vertical-align: top;\n",
       "    }\n",
       "\n",
       "    .dataframe thead th {\n",
       "        text-align: right;\n",
       "    }\n",
       "</style>\n",
       "<table border=\"1\" class=\"dataframe\">\n",
       "  <thead>\n",
       "    <tr style=\"text-align: right;\">\n",
       "      <th></th>\n",
       "      <th>user_id</th>\n",
       "      <th>item_id</th>\n",
       "      <th>timestamp</th>\n",
       "      <th>correct</th>\n",
       "      <th>nb_hint</th>\n",
       "      <th>answers_using_hint</th>\n",
       "    </tr>\n",
       "  </thead>\n",
       "  <tbody>\n",
       "    <tr>\n",
       "      <th>535958</th>\n",
       "      <td>72</td>\n",
       "      <td>563</td>\n",
       "      <td>1125395408</td>\n",
       "      <td>0</td>\n",
       "      <td>0</td>\n",
       "      <td>4</td>\n",
       "    </tr>\n",
       "    <tr>\n",
       "      <th>562642</th>\n",
       "      <td>247</td>\n",
       "      <td>563</td>\n",
       "      <td>1125395410</td>\n",
       "      <td>1</td>\n",
       "      <td>0</td>\n",
       "      <td>2</td>\n",
       "    </tr>\n",
       "    <tr>\n",
       "      <th>569598</th>\n",
       "      <td>249</td>\n",
       "      <td>563</td>\n",
       "      <td>1125395414</td>\n",
       "      <td>1</td>\n",
       "      <td>0</td>\n",
       "      <td>2</td>\n",
       "    </tr>\n",
       "    <tr>\n",
       "      <th>555691</th>\n",
       "      <td>212</td>\n",
       "      <td>563</td>\n",
       "      <td>1125395416</td>\n",
       "      <td>1</td>\n",
       "      <td>0</td>\n",
       "      <td>2</td>\n",
       "    </tr>\n",
       "    <tr>\n",
       "      <th>545705</th>\n",
       "      <td>154</td>\n",
       "      <td>563</td>\n",
       "      <td>1125395419</td>\n",
       "      <td>0</td>\n",
       "      <td>0</td>\n",
       "      <td>4</td>\n",
       "    </tr>\n",
       "  </tbody>\n",
       "</table>\n",
       "</div>"
      ],
      "text/plain": [
       "        user_id  item_id   timestamp  correct  nb_hint  answers_using_hint\n",
       "535958       72      563  1125395408        0        0                   4\n",
       "562642      247      563  1125395410        1        0                   2\n",
       "569598      249      563  1125395414        1        0                   2\n",
       "555691      212      563  1125395416        1        0                   2\n",
       "545705      154      563  1125395419        0        0                   4"
      ]
     },
     "execution_count": 2,
     "metadata": {},
     "output_type": "execute_result"
    }
   ],
   "source": [
    "neededData = pd.read_csv('./data/neededData.csv')\n",
    "print(neededData.shape)\n",
    "neededData.head()"
   ]
  },
  {
   "cell_type": "code",
   "execution_count": 3,
   "metadata": {},
   "outputs": [
    {
     "data": {
      "text/html": [
       "<div>\n",
       "<style scoped>\n",
       "    .dataframe tbody tr th:only-of-type {\n",
       "        vertical-align: middle;\n",
       "    }\n",
       "\n",
       "    .dataframe tbody tr th {\n",
       "        vertical-align: top;\n",
       "    }\n",
       "\n",
       "    .dataframe thead th {\n",
       "        text-align: right;\n",
       "    }\n",
       "</style>\n",
       "<table border=\"1\" class=\"dataframe\">\n",
       "  <thead>\n",
       "    <tr style=\"text-align: right;\">\n",
       "      <th></th>\n",
       "      <th>user_id</th>\n",
       "      <th>item_id</th>\n",
       "      <th>correct</th>\n",
       "    </tr>\n",
       "  </thead>\n",
       "  <tbody>\n",
       "    <tr>\n",
       "      <th>535958</th>\n",
       "      <td>72</td>\n",
       "      <td>563</td>\n",
       "      <td>0</td>\n",
       "    </tr>\n",
       "    <tr>\n",
       "      <th>562642</th>\n",
       "      <td>247</td>\n",
       "      <td>563</td>\n",
       "      <td>1</td>\n",
       "    </tr>\n",
       "    <tr>\n",
       "      <th>569598</th>\n",
       "      <td>249</td>\n",
       "      <td>563</td>\n",
       "      <td>1</td>\n",
       "    </tr>\n",
       "    <tr>\n",
       "      <th>555691</th>\n",
       "      <td>212</td>\n",
       "      <td>563</td>\n",
       "      <td>1</td>\n",
       "    </tr>\n",
       "    <tr>\n",
       "      <th>545705</th>\n",
       "      <td>154</td>\n",
       "      <td>563</td>\n",
       "      <td>0</td>\n",
       "    </tr>\n",
       "  </tbody>\n",
       "</table>\n",
       "</div>"
      ],
      "text/plain": [
       "        user_id  item_id  correct\n",
       "535958       72      563        0\n",
       "562642      247      563        1\n",
       "569598      249      563        1\n",
       "555691      212      563        1\n",
       "545705      154      563        0"
      ]
     },
     "execution_count": 3,
     "metadata": {},
     "output_type": "execute_result"
    }
   ],
   "source": [
    "needed = neededData[[\"user_id\",\"item_id\",\"correct\"]]\n",
    "needed.head()"
   ]
  },
  {
   "cell_type": "markdown",
   "metadata": {},
   "source": [
    "# IRT Models"
   ]
  },
  {
   "cell_type": "code",
   "execution_count": 4,
   "metadata": {},
   "outputs": [],
   "source": [
    "# From stan documentation\n",
    "_1pl_model = \"\"\"\n",
    "data {\n",
    "  // numbers of things\n",
    "  \n",
    "  int<lower=1> N;  // number of observations\n",
    "  int<lower=1> I;  // items,  number of questions  \n",
    "  int<lower=1> S;  // subjects,  number of users\n",
    "  \n",
    "  // data\n",
    "  \n",
    "  int<lower=1,upper=I> item[N];\n",
    "  int<lower=1,upper=S> subject[N];\n",
    "  int<lower=0,upper=1> grade[N];\n",
    "}\n",
    "parameters {\n",
    "  // parameters\n",
    "  \n",
    "  real ability[S];             //  alpha: ability od student\n",
    "  real difficulty[I];          //  beta: difficulty of question\n",
    "  real delta;                   // man student ability\n",
    "  \n",
    "}\n",
    "model {\n",
    "\n",
    "  ability ~ std_normal();         \n",
    "  difficulty ~ std_normal();   \n",
    "  delta ~ normal(0.75,1);\n",
    "  \n",
    "  for(n in 1:N)\n",
    "      grade[n] ~ bernoulli_logit(ability[subject[n]] - difficulty[item[n]] + delta);\n",
    "  \n",
    "}\n",
    "\"\"\"\n",
    "# 2pl\n",
    "_2pl_model = \"\"\"\n",
    "data {\n",
    "  // numbers of things\n",
    "  \n",
    "  int<lower=1> N;  // number of observations\n",
    "  int<lower=1> I;  // items,  number of questions  \n",
    "  int<lower=1> S;  // subjects,  number of users\n",
    "  \n",
    "  // data\n",
    "  \n",
    "  int<lower=1,upper=I> item[N];\n",
    "  int<lower=1,upper=S> subject[N];\n",
    "  int<lower=0,upper=1> grade[N];\n",
    "}\n",
    "parameters {\n",
    "  // parameters\n",
    "  \n",
    "  vector[S] ability;             //  alpha ability od student\n",
    "  vector[I] difficulty;          //  beta difficulty of question\n",
    "  vector<lower=0>[I] discrimination;      // discrimination of question\n",
    "  real mu_difficulty;\n",
    "}\n",
    "model {\n",
    "  ability ~ std_normal();         \n",
    "  difficulty ~ std_normal();   \n",
    "  discrimination ~ lognormal(0,1);\n",
    "  mu_difficulty ~ cauchy(0,5);\n",
    "  \n",
    "  grade ~ bernoulli_logit(discrimination[item] .* (ability[subject] - (difficulty[item] + mu_difficulty)));\n",
    "  \n",
    "}\n",
    "\"\"\"\n",
    "# Model from Stan documantation\n",
    "multilevel_2pl_model = \"\"\"\n",
    "data {\n",
    "  // numbers of things\n",
    "  \n",
    "  int<lower=1> N;  // number of observations\n",
    "  int<lower=1> I;  // items,  number of questions  \n",
    "  int<lower=1> S;  // subjects,  number of users\n",
    "  \n",
    "  // data\n",
    "  \n",
    "  int<lower=1,upper=I> item[N];\n",
    "  int<lower=1,upper=S> subject[N];\n",
    "  int<lower=0,upper=1> grade[N];\n",
    "}\n",
    "parameters {\n",
    "  // parameters\n",
    "  \n",
    "  vector[S] ability;             //  alpha ability od student\n",
    "  vector[I] difficulty;          //  beta difficulty of question\n",
    "  vector<lower=0>[I] discrimination;      // discrimination of question\n",
    "  \n",
    "  // hyperparameters\n",
    "  \n",
    "  real mu_difficulty;                       // mean question difficulty\n",
    "  real<lower=0> sigma_difficulty;           // scale of difficulty\n",
    "  real<lower=0> sigma_discrimination;                // scale of log discrimination\n",
    "}\n",
    "model {\n",
    "  ability ~ std_normal();         \n",
    "  difficulty ~ normal(0,sigma_difficulty);   \n",
    "  discrimination ~ lognormal(0,sigma_discrimination);\n",
    "  \n",
    "  mu_difficulty ~ cauchy(0,5);\n",
    "  sigma_difficulty ~ cauchy(0,5);\n",
    "  sigma_discrimination ~ cauchy(0,5);\n",
    "  \n",
    "  grade ~ bernoulli_logit(discrimination[item] .* (ability[subject] - (difficulty[item] + mu_difficulty)));\n",
    "  \n",
    "}\n",
    "\n",
    "generated quantities {\n",
    "  int<lower=0,upper=1> y_pred[N];\n",
    "  for(n in 1:N)\n",
    "      y_pred[n] = bernoulli_logit_rgn(discrimination[item[n]] * (ability[subject[n]] - (difficulty[item[n]] + mu_difficulty)));\n",
    "}\n",
    "\n",
    "\"\"\""
   ]
  },
  {
   "cell_type": "code",
   "execution_count": 5,
   "metadata": {},
   "outputs": [
    {
     "name": "stdout",
     "output_type": "stream",
     "text": [
      "{'I': 1084,\n",
      " 'N': 809660,\n",
      " 'S': 569,\n",
      " 'grade': array([0, 1, 1, ..., 1, 1, 1]),\n",
      " 'item': array([563, 563, 563, ..., 482, 482, 482]),\n",
      " 'subject': array([ 72, 247, 249, ..., 392, 392, 392])}\n"
     ]
    }
   ],
   "source": [
    "train_data = {'I': len(needed['item_id'].unique()),\n",
    "              'S': len(needed['user_id'].unique()),\n",
    "              'N': len(needed),\n",
    "              'item': needed['item_id'].to_numpy(),\n",
    "              'subject': needed['user_id'].to_numpy(),\n",
    "              'grade': needed['correct'].to_numpy(),}\n",
    "pprint(train_data)"
   ]
  },
  {
   "cell_type": "code",
   "execution_count": 6,
   "metadata": {},
   "outputs": [
    {
     "name": "stdout",
     "output_type": "stream",
     "text": [
      "Building...\n"
     ]
    },
    {
     "name": "stderr",
     "output_type": "stream",
     "text": [
      "\n",
      "Building: 53.1s, done."
     ]
    }
   ],
   "source": [
    "posteriori = stan.build(_1pl_model,data=train_data,random_seed=2021)"
   ]
  },
  {
   "cell_type": "code",
   "execution_count": 7,
   "metadata": {
    "scrolled": true
   },
   "outputs": [
    {
     "name": "stderr",
     "output_type": "stream",
     "text": [
      "Sampling:   0%\n",
      "Sampling:   0% (1/12000)\n",
      "Sampling:   0% (2/12000)\n",
      "Sampling:   0% (3/12000)\n",
      "Sampling:   0% (4/12000)\n",
      "Sampling:   1% (103/12000)\n",
      "Sampling:   2% (202/12000)\n",
      "Sampling:   3% (301/12000)\n",
      "Sampling:   3% (401/12000)\n",
      "Sampling:   4% (500/12000)\n",
      "Sampling:   5% (600/12000)\n",
      "Sampling:   6% (700/12000)\n",
      "Sampling:   7% (800/12000)\n",
      "Sampling:   8% (900/12000)\n",
      "Sampling:   8% (1000/12000)\n",
      "Sampling:   9% (1100/12000)\n",
      "Sampling:  10% (1200/12000)\n",
      "Sampling:  11% (1300/12000)\n",
      "Sampling:  12% (1400/12000)\n",
      "Sampling:  12% (1500/12000)\n",
      "Sampling:  13% (1600/12000)\n",
      "Sampling:  14% (1700/12000)\n",
      "Sampling:  15% (1800/12000)\n",
      "Sampling:  16% (1900/12000)\n",
      "Sampling:  17% (2000/12000)\n",
      "Sampling:  18% (2100/12000)\n",
      "Sampling:  18% (2200/12000)\n",
      "Sampling:  19% (2300/12000)\n",
      "Sampling:  20% (2400/12000)\n",
      "Sampling:  21% (2500/12000)\n",
      "Sampling:  22% (2600/12000)\n",
      "Sampling:  22% (2700/12000)\n",
      "Sampling:  23% (2800/12000)\n",
      "Sampling:  24% (2900/12000)\n",
      "Sampling:  25% (3000/12000)\n",
      "Sampling:  26% (3100/12000)\n",
      "Sampling:  26% (3101/12000)\n",
      "Sampling:  27% (3201/12000)\n",
      "Sampling:  28% (3301/12000)\n",
      "Sampling:  28% (3400/12000)\n",
      "Sampling:  29% (3500/12000)\n",
      "Sampling:  30% (3600/12000)\n",
      "Sampling:  30% (3601/12000)\n",
      "Sampling:  31% (3701/12000)\n",
      "Sampling:  32% (3801/12000)\n",
      "Sampling:  33% (3901/12000)\n",
      "Sampling:  33% (4001/12000)\n",
      "Sampling:  33% (4002/12000)\n",
      "Sampling:  34% (4102/12000)\n",
      "Sampling:  35% (4201/12000)\n",
      "Sampling:  36% (4301/12000)\n",
      "Sampling:  37% (4400/12000)\n",
      "Sampling:  38% (4500/12000)\n",
      "Sampling:  38% (4600/12000)\n",
      "Sampling:  38% (4601/12000)\n",
      "Sampling:  39% (4701/12000)\n",
      "Sampling:  40% (4801/12000)\n",
      "Sampling:  41% (4901/12000)\n",
      "Sampling:  42% (5000/12000)\n",
      "Sampling:  42% (5100/12000)\n",
      "Sampling:  43% (5200/12000)\n",
      "Sampling:  44% (5300/12000)\n",
      "Sampling:  45% (5400/12000)\n",
      "Sampling:  46% (5500/12000)\n",
      "Sampling:  47% (5600/12000)\n",
      "Sampling:  48% (5700/12000)\n",
      "Sampling:  48% (5800/12000)\n",
      "Sampling:  49% (5900/12000)\n",
      "Sampling:  50% (6000/12000)\n",
      "Sampling:  51% (6100/12000)\n",
      "Sampling:  52% (6200/12000)\n",
      "Sampling:  52% (6300/12000)\n",
      "Sampling:  53% (6400/12000)\n",
      "Sampling:  54% (6500/12000)\n",
      "Sampling:  55% (6600/12000)\n",
      "Sampling:  56% (6700/12000)\n",
      "Sampling:  57% (6800/12000)\n",
      "Sampling:  58% (6900/12000)\n",
      "Sampling:  58% (7000/12000)\n",
      "Sampling:  59% (7100/12000)\n",
      "Sampling:  60% (7200/12000)\n",
      "Sampling:  61% (7300/12000)\n",
      "Sampling:  62% (7400/12000)\n",
      "Sampling:  62% (7500/12000)\n",
      "Sampling:  63% (7600/12000)\n",
      "Sampling:  64% (7700/12000)\n",
      "Sampling:  65% (7800/12000)\n",
      "Sampling:  66% (7900/12000)\n",
      "Sampling:  67% (8000/12000)\n",
      "Sampling:  68% (8100/12000)\n",
      "Sampling:  68% (8200/12000)\n",
      "Sampling:  69% (8300/12000)\n",
      "Sampling:  70% (8400/12000)\n",
      "Sampling:  71% (8500/12000)\n",
      "Sampling:  72% (8600/12000)\n",
      "Sampling:  72% (8700/12000)\n",
      "Sampling:  73% (8800/12000)\n",
      "Sampling:  74% (8900/12000)\n",
      "Sampling:  75% (9000/12000)\n",
      "Sampling:  76% (9100/12000)\n",
      "Sampling:  77% (9200/12000)\n",
      "Sampling:  78% (9300/12000)\n",
      "Sampling:  78% (9400/12000)\n",
      "Sampling:  79% (9500/12000)\n",
      "Sampling:  80% (9600/12000)\n",
      "Sampling:  81% (9700/12000)\n",
      "Sampling:  82% (9800/12000)\n",
      "Sampling:  82% (9900/12000)\n",
      "Sampling:  83% (10000/12000)\n",
      "Sampling:  84% (10100/12000)\n",
      "Sampling:  85% (10200/12000)\n",
      "Sampling:  86% (10300/12000)\n",
      "Sampling:  87% (10400/12000)\n",
      "Sampling:  88% (10500/12000)\n",
      "Sampling:  88% (10600/12000)\n",
      "Sampling:  89% (10700/12000)\n",
      "Sampling:  90% (10800/12000)\n",
      "Sampling:  91% (10900/12000)\n",
      "Sampling:  92% (11000/12000)\n",
      "Sampling:  92% (11100/12000)\n",
      "Sampling:  93% (11200/12000)\n",
      "Sampling:  94% (11300/12000)\n",
      "Sampling:  95% (11400/12000)\n",
      "Sampling:  96% (11500/12000)\n",
      "Sampling:  97% (11600/12000)\n",
      "Sampling:  98% (11700/12000)\n",
      "Sampling:  98% (11800/12000)\n",
      "Sampling:  99% (11900/12000)\n",
      "Sampling: 100% (12000/12000)\n",
      "Sampling: 100% (12000/12000), done.\n",
      "Messages received during sampling:\n",
      "  Gradient evaluation took 0.219656 seconds\n",
      "  1000 transitions using 10 leapfrog steps per transition would take 2196.56 seconds.\n",
      "  Adjust your expectations accordingly!\n",
      "  Gradient evaluation took 0.268426 seconds\n",
      "  1000 transitions using 10 leapfrog steps per transition would take 2684.26 seconds.\n",
      "  Adjust your expectations accordingly!\n",
      "  Gradient evaluation took 0.340261 seconds\n",
      "  1000 transitions using 10 leapfrog steps per transition would take 3402.61 seconds.\n",
      "  Adjust your expectations accordingly!\n",
      "  Gradient evaluation took 0.419217 seconds\n",
      "  1000 transitions using 10 leapfrog steps per transition would take 4192.17 seconds.\n",
      "  Adjust your expectations accordingly!\n"
     ]
    }
   ],
   "source": [
    "# fit model\n",
    "binary_fit = posteriori.sample(num_chains=4, num_samples=2000,num_warmup=1000,num_thin=1)"
   ]
  },
  {
   "cell_type": "code",
   "execution_count": 9,
   "metadata": {},
   "outputs": [
    {
     "name": "stdout",
     "output_type": "stream",
     "text": [
      "<stan.Fit>\n",
      "Parameters:\n",
      "    ability: (569,)\n",
      "    difficulty: (1084,)\n",
      "    delta: ()\n",
      "Draws: 8000\n"
     ]
    }
   ],
   "source": [
    "# print fit summary\n",
    "print(binary_fit)"
   ]
  },
  {
   "cell_type": "code",
   "execution_count": null,
   "metadata": {},
   "outputs": [],
   "source": []
  },
  {
   "cell_type": "code",
   "execution_count": 10,
   "metadata": {},
   "outputs": [
    {
     "ename": "AttributeError",
     "evalue": "'Fit' object has no attribute 'plot'",
     "output_type": "error",
     "traceback": [
      "\u001b[0;31m---------------------------------------------------------------------------\u001b[0m",
      "\u001b[0;31mAttributeError\u001b[0m                            Traceback (most recent call last)",
      "\u001b[0;32m<ipython-input-10-4aa5d1648edc>\u001b[0m in \u001b[0;36m<module>\u001b[0;34m\u001b[0m\n\u001b[1;32m      1\u001b[0m \u001b[0;31m# draw summary plot\u001b[0m\u001b[0;34m\u001b[0m\u001b[0;34m\u001b[0m\u001b[0;34m\u001b[0m\u001b[0m\n\u001b[0;32m----> 2\u001b[0;31m \u001b[0mf\u001b[0m \u001b[0;34m=\u001b[0m \u001b[0mbinary_fit\u001b[0m\u001b[0;34m.\u001b[0m\u001b[0mplot\u001b[0m\u001b[0;34m(\u001b[0m\u001b[0;34m)\u001b[0m\u001b[0;34m\u001b[0m\u001b[0;34m\u001b[0m\u001b[0m\n\u001b[0m\u001b[1;32m      3\u001b[0m \u001b[0mf\u001b[0m\u001b[0;34m.\u001b[0m\u001b[0mset_size_inches\u001b[0m\u001b[0;34m(\u001b[0m\u001b[0;36m18\u001b[0m\u001b[0;34m,\u001b[0m \u001b[0;36m10\u001b[0m\u001b[0;34m)\u001b[0m\u001b[0;34m\u001b[0m\u001b[0;34m\u001b[0m\u001b[0m\n\u001b[1;32m      4\u001b[0m \u001b[0mplt\u001b[0m\u001b[0;34m.\u001b[0m\u001b[0mtight_layout\u001b[0m\u001b[0;34m(\u001b[0m\u001b[0;34m)\u001b[0m\u001b[0;34m\u001b[0m\u001b[0;34m\u001b[0m\u001b[0m\n\u001b[1;32m      5\u001b[0m \u001b[0;31m# On obtient donc \"Item Information Functions\"\u001b[0m\u001b[0;34m\u001b[0m\u001b[0;34m\u001b[0m\u001b[0;34m\u001b[0m\u001b[0m\n",
      "\u001b[0;31mAttributeError\u001b[0m: 'Fit' object has no attribute 'plot'"
     ]
    }
   ],
   "source": [
    "# draw summary plot\n",
    "f = binary_fit.plot()\n",
    "f.set_size_inches(18, 10)\n",
    "plt.tight_layout()\n",
    "# On obtient donc \"Item Information Functions\""
   ]
  },
  {
   "cell_type": "markdown",
   "metadata": {},
   "source": [
    "# Export IRT Model"
   ]
  },
  {
   "cell_type": "code",
   "execution_count": 8,
   "metadata": {},
   "outputs": [],
   "source": [
    "with open(\"./data/_1pl_model_chains-4_numsamples-2000_numwarmup-1000_num_thin-1.pkl\", \"wb\") as f:\n",
    "    pickle.dump({'model' : posteriori, 'fit' : binary_fit}, f, protocol=-1)"
   ]
  },
  {
   "cell_type": "markdown",
   "metadata": {},
   "source": [
    "# import IRT Model"
   ]
  },
  {
   "cell_type": "code",
   "execution_count": 5,
   "metadata": {},
   "outputs": [
    {
     "data": {
      "text/plain": [
       "<stan.Fit>\n",
       "Parameters:\n",
       "    ability: (569,)\n",
       "    difficulty: (1084,)\n",
       "    delta: ()\n",
       "Draws: 8000"
      ]
     },
     "execution_count": 5,
     "metadata": {},
     "output_type": "execute_result"
    }
   ],
   "source": [
    "with open(\"./data/pfeModel_fit2.pkl\", \"rb\") as f:\n",
    "    data_dict = pickle.load(f)\n",
    "fit = data_dict['fit']\n",
    "fit"
   ]
  },
  {
   "cell_type": "code",
   "execution_count": 10,
   "metadata": {},
   "outputs": [],
   "source": [
    "ability = np.mean(binary_fit['ability'],axis=1)\n",
    "difficulty = np.mean(binary_fit['difficulty'],axis=1)\n",
    "delta = np.mean(binary_fit['delta'],axis=1)"
   ]
  },
  {
   "cell_type": "code",
   "execution_count": 11,
   "metadata": {},
   "outputs": [
    {
     "ename": "NameError",
     "evalue": "name 'fit' is not defined",
     "output_type": "error",
     "traceback": [
      "\u001b[0;31m---------------------------------------------------------------------------\u001b[0m",
      "\u001b[0;31mNameError\u001b[0m                                 Traceback (most recent call last)",
      "\u001b[0;32m<ipython-input-11-454fbbad7585>\u001b[0m in \u001b[0;36m<module>\u001b[0;34m\u001b[0m\n\u001b[0;32m----> 1\u001b[0;31m \u001b[0mfit\u001b[0m\u001b[0;34m[\u001b[0m\u001b[0;34m'delta'\u001b[0m\u001b[0;34m]\u001b[0m\u001b[0;34m\u001b[0m\u001b[0;34m\u001b[0m\u001b[0m\n\u001b[0m",
      "\u001b[0;31mNameError\u001b[0m: name 'fit' is not defined"
     ]
    }
   ],
   "source": [
    "fit['delta']"
   ]
  },
  {
   "cell_type": "code",
   "execution_count": 12,
   "metadata": {},
   "outputs": [
    {
     "data": {
      "text/plain": [
       "array([0, 0, 1, ..., 0, 0, 0])"
      ]
     },
     "execution_count": 12,
     "metadata": {},
     "output_type": "execute_result"
    }
   ],
   "source": [
    "y_pred = []\n",
    "for i in range(0,809660):\n",
    "    diff = train_data['item'][i]\n",
    "    abilt = train_data['subject'][i]\n",
    "    p = np.exp(ability[abilt - 1 ] - difficulty[diff - 1])/(1+np.exp(ability[abilt - 1] - difficulty[diff - 1]))\n",
    "    y_pred.append(p)\n",
    "y_pred = np.round(y_pred).astype(int)\n",
    "y_pred"
   ]
  },
  {
   "cell_type": "code",
   "execution_count": 41,
   "metadata": {},
   "outputs": [
    {
     "data": {
      "text/plain": [
       "array([0, 1])"
      ]
     },
     "execution_count": 41,
     "metadata": {},
     "output_type": "execute_result"
    }
   ],
   "source": [
    "np.unique(y_pred)"
   ]
  },
  {
   "cell_type": "code",
   "execution_count": 42,
   "metadata": {},
   "outputs": [
    {
     "data": {
      "text/plain": [
       "0.4242101622903441"
      ]
     },
     "execution_count": 42,
     "metadata": {},
     "output_type": "execute_result"
    }
   ],
   "source": [
    "mse = mean_squared_error(train_data['grade'],y_pred)\n",
    "mse"
   ]
  },
  {
   "cell_type": "code",
   "execution_count": 13,
   "metadata": {},
   "outputs": [
    {
     "data": {
      "text/plain": [
       "0.15783012737932944"
      ]
     },
     "execution_count": 13,
     "metadata": {},
     "output_type": "execute_result"
    }
   ],
   "source": [
    "x = cohen_kappa_score(train_data['grade'],y_pred)\n",
    "x"
   ]
  },
  {
   "cell_type": "code",
   "execution_count": 1,
   "metadata": {},
   "outputs": [],
   "source": [
    "# Model selection"
   ]
  },
  {
   "cell_type": "code",
   "execution_count": null,
   "metadata": {},
   "outputs": [],
   "source": [
    "import arviz as az"
   ]
  },
  {
   "cell_type": "code",
   "execution_count": null,
   "metadata": {},
   "outputs": [],
   "source": [
    "idata = az.from_pystan(binary_fit, log_likelihood=\"log_lik\")\n",
    "waic = az.waic(idata)\n",
    "loo = az.loo(idata)"
   ]
  },
  {
   "cell_type": "code",
   "execution_count": null,
   "metadata": {},
   "outputs": [],
   "source": [
    "idata = az.from_pystan(binary_fit2, log_likelihood=\"log_lik\")\n",
    "waic = az.waic(idata)\n",
    "loo = az.loo(idata)"
   ]
  },
  {
   "cell_type": "markdown",
   "metadata": {},
   "source": [
    "# 2PL model"
   ]
  },
  {
   "cell_type": "code",
   "execution_count": 47,
   "metadata": {},
   "outputs": [
    {
     "data": {
      "text/plain": [
       "(569, 20)"
      ]
     },
     "execution_count": 47,
     "metadata": {},
     "output_type": "execute_result"
    }
   ],
   "source": [
    "fit['ability'].shape"
   ]
  },
  {
   "cell_type": "code",
   "execution_count": 42,
   "metadata": {},
   "outputs": [],
   "source": [
    "ability = np.mean(fit['ability'],axis=1)\n",
    "difficulty = np.mean(fit['difficulty'],axis=1)\n",
    "discrimination = np.mean(fit['gamma'],axis=1)"
   ]
  },
  {
   "cell_type": "code",
   "execution_count": 53,
   "metadata": {},
   "outputs": [
    {
     "ename": "IndexError",
     "evalue": "index 1084 is out of bounds for axis 0 with size 1084",
     "output_type": "error",
     "traceback": [
      "\u001b[0;31m---------------------------------------------------------------------------\u001b[0m",
      "\u001b[0;31mIndexError\u001b[0m                                Traceback (most recent call last)",
      "\u001b[0;32m<ipython-input-53-b35a30f64015>\u001b[0m in \u001b[0;36m<module>\u001b[0;34m\u001b[0m\n\u001b[0;32m----> 1\u001b[0;31m \u001b[0mdiscrimination\u001b[0m\u001b[0;34m[\u001b[0m\u001b[0;36m1084\u001b[0m\u001b[0;34m]\u001b[0m\u001b[0;34m\u001b[0m\u001b[0;34m\u001b[0m\u001b[0m\n\u001b[0m",
      "\u001b[0;31mIndexError\u001b[0m: index 1084 is out of bounds for axis 0 with size 1084"
     ]
    }
   ],
   "source": [
    "discrimination[1084]"
   ]
  },
  {
   "cell_type": "code",
   "execution_count": 54,
   "metadata": {},
   "outputs": [
    {
     "data": {
      "text/plain": [
       "array([1, 1, 0, ..., 1, 1, 1])"
      ]
     },
     "execution_count": 54,
     "metadata": {},
     "output_type": "execute_result"
    }
   ],
   "source": [
    "y_pred = []\n",
    "for i in range(0,809660):\n",
    "    diff = train_data['item'][i]\n",
    "    abilt = train_data['subject'][i]\n",
    "    p = np.exp(discrimination[diff-1]*(ability[abilt - 1 ] - difficulty[diff - 1]))/(1+np.exp(discrimination[diff-1]*(ability[abilt - 1] - difficulty[diff - 1])))\n",
    "    y_pred.append(p)\n",
    "y_pred = np.round(y_pred).astype(int)\n",
    "y_pred"
   ]
  },
  {
   "cell_type": "code",
   "execution_count": 57,
   "metadata": {},
   "outputs": [
    {
     "data": {
      "text/plain": [
       "-0.10718992370530889"
      ]
     },
     "execution_count": 57,
     "metadata": {},
     "output_type": "execute_result"
    }
   ],
   "source": [
    "x = cohen_kappa_score(train_data['grade'],y_pred)\n",
    "x"
   ]
  },
  {
   "cell_type": "code",
   "execution_count": 56,
   "metadata": {},
   "outputs": [
    {
     "data": {
      "text/plain": [
       "0.5572067287503396"
      ]
     },
     "execution_count": 56,
     "metadata": {},
     "output_type": "execute_result"
    }
   ],
   "source": [
    "mse = mean_squared_error(train_data['grade'],y_pred)\n",
    "mse"
   ]
  },
  {
   "cell_type": "code",
   "execution_count": null,
   "metadata": {},
   "outputs": [],
   "source": []
  }
 ],
 "metadata": {
  "kernelspec": {
   "display_name": "Python 3",
   "language": "python",
   "name": "python3"
  },
  "language_info": {
   "codemirror_mode": {
    "name": "ipython",
    "version": 3
   },
   "file_extension": ".py",
   "mimetype": "text/x-python",
   "name": "python",
   "nbconvert_exporter": "python",
   "pygments_lexer": "ipython3",
   "version": "3.8.10"
  }
 },
 "nbformat": 4,
 "nbformat_minor": 2
}
